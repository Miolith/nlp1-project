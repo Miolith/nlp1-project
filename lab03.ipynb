{
 "cells": [
  {
   "cell_type": "markdown",
   "id": "d76a38e0",
   "metadata": {},
   "source": [
    "# Introduction to Natural Language Processing 01\n",
    "## Lab 03\n",
    "Nelson VICEL--FARAH\\\n",
    "Karen KASPAR\\\n",
    "Romain BRAND"
   ]
  },
  {
   "cell_type": "code",
   "execution_count": 1,
   "id": "6c3464c1",
   "metadata": {},
   "outputs": [
    {
     "name": "stderr",
     "output_type": "stream",
     "text": [
      "Reusing dataset imdb (/home/miolith/.cache/huggingface/datasets/imdb/plain_text/1.0.0/2fdd8b9bcadd6e7055e742a706876ba43f19faee861df134affd7a3f60fc38a1)\n"
     ]
    },
    {
     "data": {
      "application/vnd.jupyter.widget-view+json": {
       "model_id": "c4e52faff7a74ae3b1453f37625b22e2",
       "version_major": 2,
       "version_minor": 0
      },
      "text/plain": [
       "  0%|          | 0/3 [00:00<?, ?it/s]"
      ]
     },
     "metadata": {},
     "output_type": "display_data"
    },
    {
     "data": {
      "text/plain": [
       "DatasetDict({\n",
       "    train: Dataset({\n",
       "        features: ['text', 'label'],\n",
       "        num_rows: 25000\n",
       "    })\n",
       "    test: Dataset({\n",
       "        features: ['text', 'label'],\n",
       "        num_rows: 25000\n",
       "    })\n",
       "    unsupervised: Dataset({\n",
       "        features: ['text', 'label'],\n",
       "        num_rows: 50000\n",
       "    })\n",
       "})"
      ]
     },
     "execution_count": 1,
     "metadata": {},
     "output_type": "execute_result"
    }
   ],
   "source": [
    "from datasets import load_dataset\n",
    "\n",
    "imdb_dataset = load_dataset(\"imdb\")\n",
    "\n",
    "imdb_dataset"
   ]
  },
  {
   "cell_type": "markdown",
   "id": "ca0d066e",
   "metadata": {},
   "source": [
    "### 1. On transforme le dataset en données utilisables par fasttext"
   ]
  },
  {
   "cell_type": "code",
   "execution_count": 2,
   "id": "1c2b6546",
   "metadata": {},
   "outputs": [],
   "source": [
    "import pandas as pd\n",
    "import numpy as np\n",
    "from string import punctuation\n",
    "\n",
    "\n",
    "def preparing(input_df):\n",
    "    df = input_df.copy()\n",
    "    #change values 0 and 1 to negative and positive\n",
    "    df['label'] = df['label'].replace([0, 1], ['negative', 'positive'])\n",
    "\n",
    "    #pretreatment (applying lower case and punctuation removal) \n",
    "    df['text'] = df['text'].str.lower()\n",
    "    df['text'] = df['text'].str.replace('[{}]'.format(punctuation), ' ', regex=True)\n",
    "    return df\n",
    "\n",
    "def save_to_fasttext(df, filename):\n",
    "    #save the content of the dataframe into a text file with the appropriate format\n",
    "    np.savetxt(filename, '__label__'+df['label']+' '+df['text'], fmt='%s')"
   ]
  },
  {
   "cell_type": "code",
   "execution_count": 3,
   "id": "a48d8634",
   "metadata": {},
   "outputs": [],
   "source": [
    "# On mélange les données pour éviter les biais\n",
    "train_df = pd.DataFrame(imdb_dataset['train']).sample(frac=1).reset_index()\n",
    "test_df = pd.DataFrame(imdb_dataset['test']).sample(frac=1).reset_index()\n",
    "\n",
    "\n",
    "save_to_fasttext(preparing(train_df), \"train_df.txt\")\n",
    "save_to_fasttext(preparing(test_df), \"test_df.txt\")"
   ]
  },
  {
   "cell_type": "code",
   "execution_count": 4,
   "id": "ffa486f8",
   "metadata": {},
   "outputs": [
    {
     "name": "stdout",
     "output_type": "stream",
     "text": [
      "__label__negative first of all  it s very dilettantish to try describe way of history only from positions of guns  germs and steel  the same tried to do marxists from economical positions  br    br   the reason of western success can t be just dumb luck  the advantages of domesticated plants and animals  we see  that all around the world any advantages and bonuses are complete useless if they aren t wisely managed  in the japan there isn t huge natural resources  but japan is one of the top world economies  the same situation in singapore  but in nigeria  country with rich oil resources  there are only middle low success  both of this nations had and still have access to western technology and inventions  but why such gap   br    br   in the end of movie daimond declared  that it s very important to understand factors of guns  germs and steel  to understand  maybe the main factor of world s difference is not geography  but people ability to understand and use things  the mental ability to understand  and in this case geography is only subordinated \r\n",
      "__label__positive running man viciously lampoons the modern day american media complex  and hits its target dead center  it may be an easy target  but they pull it off none the less  rm effortless takes on pro wrestling  featuring some pro wrestlers as the hunters   network television  the nielsen ratings  the american government  suggesting it s entertainment oriented anyway   crime   punishment  and a half dozen other things along the way  it s a far cry from the original stephen king novella  and arnold is not the ben richards of the novella either  but who cares  it s basically a arnie flick  with all the well choreographed action sequences and one liners such an undertaking requires \r\n"
     ]
    }
   ],
   "source": [
    "!head -n 2 'train_df.txt'"
   ]
  },
  {
   "cell_type": "markdown",
   "id": "8f650994",
   "metadata": {},
   "source": [
    "### 2. Entraînement simple et test"
   ]
  },
  {
   "cell_type": "code",
   "execution_count": 5,
   "id": "9e17b785",
   "metadata": {},
   "outputs": [],
   "source": [
    "import fasttext"
   ]
  },
  {
   "cell_type": "code",
   "execution_count": 22,
   "id": "46737e71",
   "metadata": {},
   "outputs": [
    {
     "name": "stderr",
     "output_type": "stream",
     "text": [
      "Read 6M words\n",
      "Number of words:  75910\n",
      "Number of labels: 2\n",
      "Progress: 100.0% words/sec/thread: 3078785 lr:  0.000000 avg.loss:  0.400692 ETA:   0h 0m 0s\n"
     ]
    }
   ],
   "source": [
    "default_model = fasttext.train_supervised('train_df.txt')"
   ]
  },
  {
   "cell_type": "code",
   "execution_count": 23,
   "id": "1ea01457",
   "metadata": {},
   "outputs": [
    {
     "data": {
      "text/plain": [
       "(25000, 0.8776, 0.8776)"
      ]
     },
     "execution_count": 23,
     "metadata": {},
     "output_type": "execute_result"
    }
   ],
   "source": [
    "default_model.test(\"test_df.txt\")"
   ]
  },
  {
   "cell_type": "markdown",
   "id": "31e9bdfc",
   "metadata": {},
   "source": [
    "### 3. Recherche d'hyperparamètres"
   ]
  },
  {
   "cell_type": "code",
   "execution_count": 8,
   "id": "3e9cc949",
   "metadata": {},
   "outputs": [],
   "source": [
    "from sklearn.model_selection import train_test_split\n",
    "\n",
    "train, val = train_test_split(train_df, shuffle=True)\n",
    "\n",
    "save_to_fasttext(preparing(train), \"cooking.train\")\n",
    "save_to_fasttext(preparing(val), \"cooking.valid\")"
   ]
  },
  {
   "cell_type": "code",
   "execution_count": 9,
   "id": "5e224787",
   "metadata": {},
   "outputs": [
    {
     "name": "stderr",
     "output_type": "stream",
     "text": [
      "Progress: 100.0% Trials:    9 Best score:  0.895680 ETA:   0h 0m 0s\n",
      "Training again with best arguments\n",
      "Read 4M words\n",
      "Number of words:  67573\n",
      "Number of labels: 2\n",
      "Progress: 100.0% words/sec/thread: 1735495 lr:  0.000000 avg.loss:  0.047160 ETA:   0h 0m 0s 57.2% words/sec/thread: 1718398 lr:  0.036404 avg.loss:  0.077950 ETA:   0h 0m10s\n"
     ]
    }
   ],
   "source": [
    "model = fasttext.train_supervised(input='cooking.train', autotuneValidationFile='cooking.valid')"
   ]
  },
  {
   "cell_type": "code",
   "execution_count": 10,
   "id": "c8552012",
   "metadata": {},
   "outputs": [
    {
     "data": {
      "text/plain": [
       "(25000, 0.89392, 0.89392)"
      ]
     },
     "execution_count": 10,
     "metadata": {},
     "output_type": "execute_result"
    }
   ],
   "source": [
    "model.test(\"test_df.txt\")"
   ]
  },
  {
   "cell_type": "markdown",
   "id": "d458db75",
   "metadata": {},
   "source": [
    "### 4. Différence d'attributs"
   ]
  },
  {
   "cell_type": "code",
   "execution_count": 78,
   "id": "055c3fc3",
   "metadata": {},
   "outputs": [
    {
     "name": "stdout",
     "output_type": "stream",
     "text": [
      "attribute | Default  |  Autotuned\n",
      "lr        | 0.1      | 0.08499425639667486\n",
      "epoch     | 5        | 100\n",
      "dim       | 100      | 92\n",
      "wordNgrams| 1        | 2\n",
      "bucket    | 0        | 4110692\n"
     ]
    }
   ],
   "source": [
    "print(\"attribute | Default  |  Autotuned\")\n",
    "print(\"lr        |\", default_model.lr, \"     |\", model.lr)\n",
    "print(\"epoch     |\", default_model.epoch, \"       |\", model.epoch)\n",
    "print(\"dim       |\", default_model.dim, \"     |\", model.dim)\n",
    "print(\"wordNgrams|\", default_model.wordNgrams, \"       |\", model.wordNgrams)\n",
    "print(\"bucket    |\", default_model.bucket, \"       |\", model.bucket)"
   ]
  },
  {
   "cell_type": "markdown",
   "id": "8742bae5",
   "metadata": {},
   "source": [
    "### 5. Exemples mal classifiés"
   ]
  },
  {
   "cell_type": "code",
   "execution_count": 11,
   "id": "3f5b6b0b",
   "metadata": {},
   "outputs": [
    {
     "data": {
      "text/html": [
       "<div>\n",
       "<style scoped>\n",
       "    .dataframe tbody tr th:only-of-type {\n",
       "        vertical-align: middle;\n",
       "    }\n",
       "\n",
       "    .dataframe tbody tr th {\n",
       "        vertical-align: top;\n",
       "    }\n",
       "\n",
       "    .dataframe thead th {\n",
       "        text-align: right;\n",
       "    }\n",
       "</style>\n",
       "<table border=\"1\" class=\"dataframe\">\n",
       "  <thead>\n",
       "    <tr style=\"text-align: right;\">\n",
       "      <th></th>\n",
       "      <th>index</th>\n",
       "      <th>text</th>\n",
       "      <th>label</th>\n",
       "      <th>prediction</th>\n",
       "    </tr>\n",
       "  </thead>\n",
       "  <tbody>\n",
       "    <tr>\n",
       "      <th>0</th>\n",
       "      <td>16562</td>\n",
       "      <td>Chi-hwa-seong (Painted Fire) recounts the life...</td>\n",
       "      <td>1</td>\n",
       "      <td>1</td>\n",
       "    </tr>\n",
       "    <tr>\n",
       "      <th>1</th>\n",
       "      <td>10265</td>\n",
       "      <td>Far from combining the best bits of Pontypool ...</td>\n",
       "      <td>0</td>\n",
       "      <td>0</td>\n",
       "    </tr>\n",
       "    <tr>\n",
       "      <th>2</th>\n",
       "      <td>14047</td>\n",
       "      <td>Fantastic movie! One of the best film noir mov...</td>\n",
       "      <td>1</td>\n",
       "      <td>1</td>\n",
       "    </tr>\n",
       "    <tr>\n",
       "      <th>3</th>\n",
       "      <td>4389</td>\n",
       "      <td>This movie was sooooooo sloooow!!! And everyth...</td>\n",
       "      <td>0</td>\n",
       "      <td>0</td>\n",
       "    </tr>\n",
       "    <tr>\n",
       "      <th>4</th>\n",
       "      <td>19773</td>\n",
       "      <td>I don't know about the English version of this...</td>\n",
       "      <td>1</td>\n",
       "      <td>1</td>\n",
       "    </tr>\n",
       "    <tr>\n",
       "      <th>...</th>\n",
       "      <td>...</td>\n",
       "      <td>...</td>\n",
       "      <td>...</td>\n",
       "      <td>...</td>\n",
       "    </tr>\n",
       "    <tr>\n",
       "      <th>24995</th>\n",
       "      <td>9814</td>\n",
       "      <td>I'm going to be generous here and give it a 3 ...</td>\n",
       "      <td>0</td>\n",
       "      <td>0</td>\n",
       "    </tr>\n",
       "    <tr>\n",
       "      <th>24996</th>\n",
       "      <td>1616</td>\n",
       "      <td>OK, what was this story about again? I am afra...</td>\n",
       "      <td>0</td>\n",
       "      <td>0</td>\n",
       "    </tr>\n",
       "    <tr>\n",
       "      <th>24997</th>\n",
       "      <td>10201</td>\n",
       "      <td>So one day I was in the video store looking fo...</td>\n",
       "      <td>0</td>\n",
       "      <td>0</td>\n",
       "    </tr>\n",
       "    <tr>\n",
       "      <th>24998</th>\n",
       "      <td>12995</td>\n",
       "      <td>A very delightful bit of filmwork that should ...</td>\n",
       "      <td>1</td>\n",
       "      <td>1</td>\n",
       "    </tr>\n",
       "    <tr>\n",
       "      <th>24999</th>\n",
       "      <td>16438</td>\n",
       "      <td>Bart The Genius Whilst not the first Simpsons ...</td>\n",
       "      <td>1</td>\n",
       "      <td>0</td>\n",
       "    </tr>\n",
       "  </tbody>\n",
       "</table>\n",
       "<p>25000 rows × 4 columns</p>\n",
       "</div>"
      ],
      "text/plain": [
       "       index                                               text  label  \\\n",
       "0      16562  Chi-hwa-seong (Painted Fire) recounts the life...      1   \n",
       "1      10265  Far from combining the best bits of Pontypool ...      0   \n",
       "2      14047  Fantastic movie! One of the best film noir mov...      1   \n",
       "3       4389  This movie was sooooooo sloooow!!! And everyth...      0   \n",
       "4      19773  I don't know about the English version of this...      1   \n",
       "...      ...                                                ...    ...   \n",
       "24995   9814  I'm going to be generous here and give it a 3 ...      0   \n",
       "24996   1616  OK, what was this story about again? I am afra...      0   \n",
       "24997  10201  So one day I was in the video store looking fo...      0   \n",
       "24998  12995  A very delightful bit of filmwork that should ...      1   \n",
       "24999  16438  Bart The Genius Whilst not the first Simpsons ...      1   \n",
       "\n",
       "       prediction  \n",
       "0               1  \n",
       "1               0  \n",
       "2               1  \n",
       "3               0  \n",
       "4               1  \n",
       "...           ...  \n",
       "24995           0  \n",
       "24996           0  \n",
       "24997           0  \n",
       "24998           1  \n",
       "24999           0  \n",
       "\n",
       "[25000 rows x 4 columns]"
      ]
     },
     "execution_count": 11,
     "metadata": {},
     "output_type": "execute_result"
    }
   ],
   "source": [
    "# On remplace les occurences de \"positive\" en \"1\" et \"negative\" en \"0\"\n",
    "test_df[\"prediction\"] = test_df[\"text\"].apply(lambda x: int(\"p\" in model.predict(x)[0][0]))\n",
    "test_df"
   ]
  },
  {
   "cell_type": "code",
   "execution_count": 20,
   "id": "78d28ad4",
   "metadata": {},
   "outputs": [],
   "source": [
    "failed_sample1 = test_df[(test_df[\"prediction\"] == 1) & (test_df[\"label\"] == 0)].iloc[2,:][\"text\"]\n",
    "failed_sample2 = test_df[(test_df[\"prediction\"] == 0) & (test_df[\"label\"] == 1)].iloc[2,:][\"text\"]"
   ]
  },
  {
   "cell_type": "markdown",
   "id": "5e8fbfa5",
   "metadata": {},
   "source": [
    "### Cet exemple est un faux positif. Le dataset classe ce commentaire comme négatif alors qu'il fait l'éloge du film, l'incohérence viendrait donc du dataset plutôt que du modèle."
   ]
  },
  {
   "cell_type": "code",
   "execution_count": 21,
   "id": "f9ec5401",
   "metadata": {},
   "outputs": [
    {
     "data": {
      "text/plain": [
       "'Yes, it might be not historically accurate(actually only 6 soldiers of 9th rota were killed there), and yes, it has some mistakes and exaggeration(bended machine gun? come on! or the that \"history lesson\" about how Afghanistan was never conquered by anyone - educated Russian officer would know history much better than that - take for example British campaign in Afghanistan). And yes, it does not have multi-million dollars Hollywood-style special effects, but it\\'s strongest point in showing soldier\\'s life there, their relationships and their feelings when the best friends are being killed in front of their eyes. In my opinion 9ya rota really does a good job showing all those things.<br /><br />Again, movie has it weaknesses, but, in my opinion, it appears to be one of the strongest Russian movie for the past few years.<br /><br />8/10'"
      ]
     },
     "execution_count": 21,
     "metadata": {},
     "output_type": "execute_result"
    }
   ],
   "source": [
    "failed_sample1"
   ]
  },
  {
   "cell_type": "markdown",
   "id": "549b58ae",
   "metadata": {},
   "source": [
    "### Cet exemple est un faux négatif. Bien que le commenaire soit positif (\"Great movie\") la majorité du texte est consacrée à relever les défaut du film."
   ]
  },
  {
   "cell_type": "code",
   "execution_count": 17,
   "id": "4e597dc3",
   "metadata": {},
   "outputs": [
    {
     "data": {
      "text/plain": [
       "'Roy Anderssons \"Du Levande\" is not totally original as it is counter piece to Anderssons previous movie \"Sånger från andra våningen\". Still the movie has aura of total originality. Some conventions of movie making are still thrown away: most of the actors look nothing like what you would expect in movie and the shots take long time. Most of the time camera doesn\\'t move but people move around it. The shots start from somewhere and many times the scenery builds up in amazing proportions. W.G. Sebald comes to mind in literature with same technique. Because of the time invested in every shot the suspension is really high in many of the scenes. There is a story and isn\\'t - it is left for viewer to build up in his or her own mind. This movie is positive. It is determined not to see this all in negative way and at the same time will not pass the social injustices. One of the messages I got from it was that maybe all failures and accidents are not fatal after all. Great movie.'"
      ]
     },
     "execution_count": 17,
     "metadata": {},
     "output_type": "execute_result"
    }
   ],
   "source": [
    "failed_sample2"
   ]
  },
  {
   "cell_type": "markdown",
   "id": "97684e4b",
   "metadata": {},
   "source": [
    "### Bonus"
   ]
  },
  {
   "cell_type": "markdown",
   "id": "29ca0d35",
   "metadata": {},
   "source": [
    "### minn et maxnn sont à 0 car les mots anglais sont rarement une composition d'autres mots, nul besoin donc de les diviser en sous-tokens"
   ]
  },
  {
   "cell_type": "code",
   "execution_count": null,
   "id": "1afae546",
   "metadata": {},
   "outputs": [],
   "source": []
  }
 ],
 "metadata": {
  "kernelspec": {
   "display_name": "Python 3 (ipykernel)",
   "language": "python",
   "name": "python3"
  },
  "language_info": {
   "codemirror_mode": {
    "name": "ipython",
    "version": 3
   },
   "file_extension": ".py",
   "mimetype": "text/x-python",
   "name": "python",
   "nbconvert_exporter": "python",
   "pygments_lexer": "ipython3",
   "version": "3.10.7"
  }
 },
 "nbformat": 4,
 "nbformat_minor": 5
}
