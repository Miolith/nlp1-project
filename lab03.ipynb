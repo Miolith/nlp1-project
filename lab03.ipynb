{
 "cells": [
  {
   "cell_type": "markdown",
   "id": "d76a38e0",
   "metadata": {},
   "source": [
    "# Introduction to Natural Language Processing 01\n",
    "## Lab 03\n",
    "Nelson VICEL--FARAH\\\n",
    "Karen KASPAR\\\n",
    "Romain BRAND"
   ]
  },
  {
   "cell_type": "code",
   "execution_count": 1,
   "id": "6c3464c1",
   "metadata": {},
   "outputs": [
    {
     "name": "stderr",
     "output_type": "stream",
     "text": [
      "Reusing dataset imdb (/home/miolith/.cache/huggingface/datasets/imdb/plain_text/1.0.0/2fdd8b9bcadd6e7055e742a706876ba43f19faee861df134affd7a3f60fc38a1)\n"
     ]
    },
    {
     "data": {
      "application/vnd.jupyter.widget-view+json": {
       "model_id": "a622e51b9b2f4b1ba073838445b278b9",
       "version_major": 2,
       "version_minor": 0
      },
      "text/plain": [
       "  0%|          | 0/3 [00:00<?, ?it/s]"
      ]
     },
     "metadata": {},
     "output_type": "display_data"
    },
    {
     "data": {
      "text/plain": [
       "DatasetDict({\n",
       "    train: Dataset({\n",
       "        features: ['text', 'label'],\n",
       "        num_rows: 25000\n",
       "    })\n",
       "    test: Dataset({\n",
       "        features: ['text', 'label'],\n",
       "        num_rows: 25000\n",
       "    })\n",
       "    unsupervised: Dataset({\n",
       "        features: ['text', 'label'],\n",
       "        num_rows: 50000\n",
       "    })\n",
       "})"
      ]
     },
     "execution_count": 1,
     "metadata": {},
     "output_type": "execute_result"
    }
   ],
   "source": [
    "from datasets import load_dataset\n",
    "\n",
    "imdb_dataset = load_dataset(\"imdb\")\n",
    "\n",
    "imdb_dataset"
   ]
  },
  {
   "cell_type": "code",
   "execution_count": 8,
   "id": "1c2b6546",
   "metadata": {},
   "outputs": [],
   "source": [
    "import pandas as pd\n",
    "import numpy as np\n",
    "from string import punctuation\n",
    "\n",
    "def preparing(df):\n",
    "    #change values 0 and 1 to negative and positive\n",
    "    df['label'] = df['label'].replace([0, 1], ['negative', 'positive'])\n",
    "\n",
    "    #shuffle the dataset so that we don't have all the positive rows followed by only negative rows\n",
    "    df = df.sample(frac=1).reset_index()\n",
    "\n",
    "    #pretreatment (applying lower case and punctuation removal) \n",
    "    df['text'] = df['text'].str.lower()\n",
    "    df['text'] = df['text'].str.replace('[{}]'.format(punctuation), ' ', regex=True)\n",
    "\n",
    "def save_to_fasttext(df, filename):\n",
    "    #save the content of the dataframe into a text file with the appropriate format\n",
    "    np.savetxt(filename, '__label__'+df['label']+' '+df['text'], fmt='%s')"
   ]
  },
  {
   "cell_type": "code",
   "execution_count": 14,
   "id": "a48d8634",
   "metadata": {},
   "outputs": [],
   "source": [
    "train_df = pd.DataFrame(imdb_dataset['train'])\n",
    "test_df = pd.DataFrame(imdb_dataset['test'])\n",
    "\n",
    "\n",
    "save_to_fasttext(preparing(train_df), \"train_df.txt\")\n",
    "save_to_fasttext(preparing(test_df), \"test_df.txt\")"
   ]
  },
  {
   "cell_type": "code",
   "execution_count": 11,
   "id": "ffa486f8",
   "metadata": {},
   "outputs": [
    {
     "name": "stdout",
     "output_type": "stream",
     "text": [
      "__label__negative i think  the best of times  was a lost cause from the get go  the initial premise  guy drops the winning touchdown pass against a rival high school team  can never seem to get over it and then tries to reunite the two teams to play again  is one of the dumbest i have ever heard  since ron shelton went on to write much better sports films i wonder if there was more to it then that  i hope this film wasn t green lit with shelton pitching the story as i wrote above  br    br   so we have the premise  going from there you would think  or hope  that there might be a few twists along the way to keep things lively  no such luck  this script follows every predictable cliché you can think of  there isn t a moment in this film you won t see coming a mile away before the film reveals it and the ending     well if you can t figure out the ending by the end of the first reel then you haven t paid attention or seen any other sports movie in your life  br    br   robin williams and kurt russell star  and bore  in the leads  williams is the poor schmo who dropped the big pass and russell is the quarterback who threw the fateful pass  gee  do you think russell will suit up just once more to see if he and williams can right a wrong that the town has never forgotten  this is such a lame duck comedy with a lame duck script that one can only shake their heads wondering what might have been  sure there are a few chuckles and  to be honest  there is one truly funny scene  williams and russell have marital problems and the wives invite them over for dinner to resolve things  neither guy realizes that they have been invited over on a monday and  yes  monday night football is on  keeping in mind that the two teams playing have a combined one victory  the men  williams especially  try to resist the temptation to find out how the game is going  the scene dissolves into some hilarious bits as williams goes to check the score by using a bathroom visit as a ruse  when he returns he coughs the score to russell  later as russell is starting to make the moves on his wife williams wheels the television into their view from another room  br    br   it s an inspired and funny scene in a mostly uninspired and stupid movie \r\n",
      "__label__negative in sixth grade  every teacher i had decided it would be a great idea to make this movie the curriculum for an entire semester  every class had something to do with this terrible show  we watched it in english and wrote in journals as if we were one of the characters  in math we talked about charts and other sea crap  in science we talked about whales  which was actually somewhat interesting  so this wasn t a 100  waste of time   all day everyday was torture  not only that  but they would subject us to this horror twice a day by making us watch it in study hall as well  i could see if this was a new series or something  but it was  like   93  i m still trying to block this out \r\n"
     ]
    }
   ],
   "source": [
    "!head -n 2 'train_df.txt'"
   ]
  },
  {
   "cell_type": "code",
   "execution_count": 12,
   "id": "9e17b785",
   "metadata": {},
   "outputs": [],
   "source": [
    "import fasttext"
   ]
  },
  {
   "cell_type": "code",
   "execution_count": 13,
   "id": "46737e71",
   "metadata": {},
   "outputs": [
    {
     "name": "stderr",
     "output_type": "stream",
     "text": [
      "Read 6M words\n",
      "Number of words:  75910\n",
      "Number of labels: 2\n",
      "Progress: 100.0% words/sec/thread: 3080606 lr:  0.000000 avg.loss:  0.389864 ETA:   0h 0m 0s\n"
     ]
    }
   ],
   "source": [
    "model = fasttext.train_supervised('train_df.txt')"
   ]
  },
  {
   "cell_type": "code",
   "execution_count": 15,
   "id": "1ea01457",
   "metadata": {},
   "outputs": [
    {
     "data": {
      "text/plain": [
       "(25000, 0.8786, 0.8786)"
      ]
     },
     "execution_count": 15,
     "metadata": {},
     "output_type": "execute_result"
    }
   ],
   "source": [
    "model.test(\"test_df.txt\")"
   ]
  },
  {
   "cell_type": "code",
   "execution_count": 31,
   "id": "3e9cc949",
   "metadata": {},
   "outputs": [],
   "source": [
    "from sklearn.model_selection import train_test_split\n",
    "\n",
    "train, val = train_test_split(train_df, shuffle=True)\n",
    "\n",
    "save_to_fasttext(preparing(train), \"cooking.train\")\n",
    "save_to_fasttext(preparing(val), \"cooking.valid\")"
   ]
  },
  {
   "cell_type": "code",
   "execution_count": 32,
   "id": "5e224787",
   "metadata": {},
   "outputs": [
    {
     "name": "stderr",
     "output_type": "stream",
     "text": [
      "Progress: 100.0% Trials:    9 Best score:  0.894240 ETA:   0h 0m 0s\n",
      "Training again with best arguments\n",
      "Read 4M words\n",
      "Number of words:  67664\n",
      "Number of labels: 2\n",
      "Progress: 100.0% words/sec/thread: 1793476 lr:  0.000000 avg.loss:  0.047440 ETA:   0h 0m 0s\n"
     ]
    }
   ],
   "source": [
    "model = fasttext.train_supervised(input='cooking.train', autotuneValidationFile='cooking.valid')"
   ]
  },
  {
   "cell_type": "code",
   "execution_count": 33,
   "id": "c8552012",
   "metadata": {},
   "outputs": [
    {
     "data": {
      "text/plain": [
       "(25000, 0.89396, 0.89396)"
      ]
     },
     "execution_count": 33,
     "metadata": {},
     "output_type": "execute_result"
    }
   ],
   "source": [
    "model.test(\"test_df.txt\")"
   ]
  },
  {
   "cell_type": "code",
   "execution_count": 73,
   "id": "3f5b6b0b",
   "metadata": {},
   "outputs": [
    {
     "data": {
      "text/html": [
       "<div>\n",
       "<style scoped>\n",
       "    .dataframe tbody tr th:only-of-type {\n",
       "        vertical-align: middle;\n",
       "    }\n",
       "\n",
       "    .dataframe tbody tr th {\n",
       "        vertical-align: top;\n",
       "    }\n",
       "\n",
       "    .dataframe thead th {\n",
       "        text-align: right;\n",
       "    }\n",
       "</style>\n",
       "<table border=\"1\" class=\"dataframe\">\n",
       "  <thead>\n",
       "    <tr style=\"text-align: right;\">\n",
       "      <th></th>\n",
       "      <th>text</th>\n",
       "      <th>label</th>\n",
       "      <th>prediction</th>\n",
       "    </tr>\n",
       "  </thead>\n",
       "  <tbody>\n",
       "    <tr>\n",
       "      <th>0</th>\n",
       "      <td>I love sci-fi and am willing to put up with a ...</td>\n",
       "      <td>0</td>\n",
       "      <td>0</td>\n",
       "    </tr>\n",
       "    <tr>\n",
       "      <th>1</th>\n",
       "      <td>Worth the entertainment value of a rental, esp...</td>\n",
       "      <td>0</td>\n",
       "      <td>1</td>\n",
       "    </tr>\n",
       "    <tr>\n",
       "      <th>2</th>\n",
       "      <td>its a totally average film with a few semi-alr...</td>\n",
       "      <td>0</td>\n",
       "      <td>0</td>\n",
       "    </tr>\n",
       "    <tr>\n",
       "      <th>3</th>\n",
       "      <td>STAR RATING: ***** Saturday Night **** Friday ...</td>\n",
       "      <td>0</td>\n",
       "      <td>0</td>\n",
       "    </tr>\n",
       "    <tr>\n",
       "      <th>4</th>\n",
       "      <td>First off let me say, If you haven't enjoyed a...</td>\n",
       "      <td>0</td>\n",
       "      <td>1</td>\n",
       "    </tr>\n",
       "    <tr>\n",
       "      <th>...</th>\n",
       "      <td>...</td>\n",
       "      <td>...</td>\n",
       "      <td>...</td>\n",
       "    </tr>\n",
       "    <tr>\n",
       "      <th>24995</th>\n",
       "      <td>Just got around to seeing Monster Man yesterda...</td>\n",
       "      <td>1</td>\n",
       "      <td>1</td>\n",
       "    </tr>\n",
       "    <tr>\n",
       "      <th>24996</th>\n",
       "      <td>I got this as part of a competition prize. I w...</td>\n",
       "      <td>1</td>\n",
       "      <td>1</td>\n",
       "    </tr>\n",
       "    <tr>\n",
       "      <th>24997</th>\n",
       "      <td>I got Monster Man in a box set of three films ...</td>\n",
       "      <td>1</td>\n",
       "      <td>1</td>\n",
       "    </tr>\n",
       "    <tr>\n",
       "      <th>24998</th>\n",
       "      <td>Five minutes in, i started to feel how naff th...</td>\n",
       "      <td>1</td>\n",
       "      <td>0</td>\n",
       "    </tr>\n",
       "    <tr>\n",
       "      <th>24999</th>\n",
       "      <td>I caught this movie on the Sci-Fi channel rece...</td>\n",
       "      <td>1</td>\n",
       "      <td>1</td>\n",
       "    </tr>\n",
       "  </tbody>\n",
       "</table>\n",
       "<p>25000 rows × 3 columns</p>\n",
       "</div>"
      ],
      "text/plain": [
       "                                                    text  label  prediction\n",
       "0      I love sci-fi and am willing to put up with a ...      0           0\n",
       "1      Worth the entertainment value of a rental, esp...      0           1\n",
       "2      its a totally average film with a few semi-alr...      0           0\n",
       "3      STAR RATING: ***** Saturday Night **** Friday ...      0           0\n",
       "4      First off let me say, If you haven't enjoyed a...      0           1\n",
       "...                                                  ...    ...         ...\n",
       "24995  Just got around to seeing Monster Man yesterda...      1           1\n",
       "24996  I got this as part of a competition prize. I w...      1           1\n",
       "24997  I got Monster Man in a box set of three films ...      1           1\n",
       "24998  Five minutes in, i started to feel how naff th...      1           0\n",
       "24999  I caught this movie on the Sci-Fi channel rece...      1           1\n",
       "\n",
       "[25000 rows x 3 columns]"
      ]
     },
     "execution_count": 73,
     "metadata": {},
     "output_type": "execute_result"
    }
   ],
   "source": [
    "test_df[\"prediction\"] = test_df[\"text\"].apply(lambda x: int(\"p\" in model.predict(x)[0][0]))\n",
    "test_df"
   ]
  },
  {
   "cell_type": "code",
   "execution_count": 80,
   "id": "78d28ad4",
   "metadata": {},
   "outputs": [],
   "source": [
    "failed_sample1 = test_df[(test_df[\"prediction\"] == 1) & (test_df[\"label\"] == 0)].iloc[1,:][\"text\"]\n",
    "failed_sample2 = test_df[(test_df[\"prediction\"] == 0) & (test_df[\"label\"] == 1)].iloc[2,:][\"text\"]"
   ]
  },
  {
   "cell_type": "markdown",
   "id": "5e8fbfa5",
   "metadata": {},
   "source": [
    "### Cet exemple est un faux positif."
   ]
  },
  {
   "cell_type": "code",
   "execution_count": 78,
   "id": "f9ec5401",
   "metadata": {},
   "outputs": [
    {
     "data": {
      "text/plain": [
       "\"First off let me say, If you haven't enjoyed a Van Damme movie since bloodsport, you probably will not like this movie. Most of these movies may not have the best plots or best actors but I enjoy these kinds of movies for what they are. This movie is much better than any of the movies the other action guys (Segal and Dolph) have thought about putting out the past few years. Van Damme is good in the movie, the movie is only worth watching to Van Damme fans. It is not as good as Wake of Death (which i highly recommend to anyone of likes Van Damme) or In hell but, in my opinion it's worth watching. It has the same type of feel to it as Nowhere to Run. Good fun stuff!\""
      ]
     },
     "execution_count": 78,
     "metadata": {},
     "output_type": "execute_result"
    }
   ],
   "source": [
    "failed_sample1"
   ]
  },
  {
   "cell_type": "markdown",
   "id": "549b58ae",
   "metadata": {},
   "source": [
    "### Cet exemple est un faux négatif"
   ]
  },
  {
   "cell_type": "code",
   "execution_count": 81,
   "id": "4e597dc3",
   "metadata": {},
   "outputs": [
    {
     "data": {
      "text/plain": [
       "\"It is more a subtle story of the fact that in Indian household how most decisions are taken by the man, how no attention is paid to the desires of the lady, for example how even when the husband and wife sleep together it would be a test for the husband whether he can control his desires, not to give the woman pleasure. And in such a type of scenario, women invariably have two choices, either to accept all this and take it into their own life, which is usually the case or not accept this and try to mould things to satisfy themselves, which makes a movie!<br /><br />Fire is a brilliantly directed story of the second option, which women choose for themselves, no sacrifice, not to serve anybody else, rather a decision for their own good. Somehow the whole idea of justifying lesbianism didn't find an acceptance in the Indian audience but if one looks the whole movie from an angle of self-expression, then the whole debate doesn't even arise.\""
      ]
     },
     "execution_count": 81,
     "metadata": {},
     "output_type": "execute_result"
    }
   ],
   "source": [
    "failed_sample2"
   ]
  },
  {
   "cell_type": "code",
   "execution_count": null,
   "id": "3ae0b61e",
   "metadata": {},
   "outputs": [],
   "source": []
  }
 ],
 "metadata": {
  "kernelspec": {
   "display_name": "Python 3 (ipykernel)",
   "language": "python",
   "name": "python3"
  },
  "language_info": {
   "codemirror_mode": {
    "name": "ipython",
    "version": 3
   },
   "file_extension": ".py",
   "mimetype": "text/x-python",
   "name": "python",
   "nbconvert_exporter": "python",
   "pygments_lexer": "ipython3",
   "version": "3.10.7"
  }
 },
 "nbformat": 4,
 "nbformat_minor": 5
}
