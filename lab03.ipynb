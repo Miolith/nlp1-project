{
 "cells": [
  {
   "cell_type": "markdown",
   "id": "d76a38e0",
   "metadata": {},
   "source": [
    "# Introduction to Natural Language Processing 01\n",
    "## Lab 03 - FastText\n",
    "Nelson VICEL--FARAH\\\n",
    "Karen KASPAR\\\n",
    "Romain BRAND"
   ]
  },
  {
   "cell_type": "code",
   "execution_count": 1,
   "id": "6c3464c1",
   "metadata": {},
   "outputs": [
    {
     "name": "stderr",
     "output_type": "stream",
     "text": [
      "Reusing dataset imdb (/home/miolith/.cache/huggingface/datasets/imdb/plain_text/1.0.0/2fdd8b9bcadd6e7055e742a706876ba43f19faee861df134affd7a3f60fc38a1)\n"
     ]
    },
    {
     "data": {
      "application/vnd.jupyter.widget-view+json": {
       "model_id": "9cf62ed3b96348cf90c36bc6e0adbc46",
       "version_major": 2,
       "version_minor": 0
      },
      "text/plain": [
       "  0%|          | 0/3 [00:00<?, ?it/s]"
      ]
     },
     "metadata": {},
     "output_type": "display_data"
    },
    {
     "data": {
      "text/plain": [
       "DatasetDict({\n",
       "    train: Dataset({\n",
       "        features: ['text', 'label'],\n",
       "        num_rows: 25000\n",
       "    })\n",
       "    test: Dataset({\n",
       "        features: ['text', 'label'],\n",
       "        num_rows: 25000\n",
       "    })\n",
       "    unsupervised: Dataset({\n",
       "        features: ['text', 'label'],\n",
       "        num_rows: 50000\n",
       "    })\n",
       "})"
      ]
     },
     "execution_count": 1,
     "metadata": {},
     "output_type": "execute_result"
    }
   ],
   "source": [
    "from datasets import load_dataset\n",
    "\n",
    "imdb_dataset = load_dataset(\"imdb\")\n",
    "\n",
    "imdb_dataset"
   ]
  },
  {
   "cell_type": "markdown",
   "id": "ca0d066e",
   "metadata": {},
   "source": [
    "### 1. (2 points) Turn the dataset into a dataset compatible with Fastext (see the Tips on using FastText section a bit lower)\n",
    "On transforme le dataset en données utilisables par fasttext"
   ]
  },
  {
   "cell_type": "code",
   "execution_count": 2,
   "id": "1c2b6546",
   "metadata": {},
   "outputs": [],
   "source": [
    "import pandas as pd\n",
    "import numpy as np\n",
    "from string import punctuation\n",
    "\n",
    "\n",
    "def preparing(input_df):\n",
    "    df = input_df.copy()\n",
    "    #change values 0 and 1 to negative and positive\n",
    "    df['label'] = df['label'].replace([0, 1], ['negative', 'positive'])\n",
    "\n",
    "    #pretreatment (applying lower case and punctuation removal) \n",
    "    df['text'] = df['text'].str.lower()\n",
    "    df['text'] = df['text'].str.replace('[{}]'.format(punctuation), ' ', regex=True)\n",
    "    return df\n",
    "\n",
    "def save_to_fasttext(df, filename):\n",
    "    #save the content of the dataframe into a text file with the appropriate format\n",
    "    np.savetxt(filename, '__label__'+df['label']+' '+df['text'], fmt='%s')"
   ]
  },
  {
   "cell_type": "code",
   "execution_count": 3,
   "id": "a48d8634",
   "metadata": {},
   "outputs": [],
   "source": [
    "# On mélange les données pour éviter les biais\n",
    "train_df = pd.DataFrame(imdb_dataset['train']).sample(frac=1).reset_index()\n",
    "test_df = pd.DataFrame(imdb_dataset['test']).sample(frac=1).reset_index()\n",
    "\n",
    "\n",
    "save_to_fasttext(preparing(train_df), \"train_df.txt\")\n",
    "save_to_fasttext(preparing(test_df), \"test_df.txt\")"
   ]
  },
  {
   "cell_type": "code",
   "execution_count": 4,
   "id": "ffa486f8",
   "metadata": {},
   "outputs": [
    {
     "name": "stdout",
     "output_type": "stream",
     "text": [
      "__label__positive in 1976 i had just moved to the us from ceylon  i was 23  and had been married for a little over three years  and was beginning to come out as a lesbian  i saw this movie on an old black and white tv  with terrible reception  alone  and uninterrupted  in an awakening that seemed like an echo of the story  i was living in a small house in tucson arizona  and it was summertime    like everyone else here  i never forgot the feelings the images of this story called forth  and its residue of fragile magic  and i have treasured a hope that i would see it again someday  i ll keep checking in  i also wish that someone would make a movie of shirley verel s  the other side of venus   it also has some of the same delicacy and persistent poignancy   \r\n",
      "__label__positive mahatma has been depicted as a man who neglected his own son in this movie  don t get me wrong i am not condemning the movie  it is such a wonderful movie and walked out of the cinema with a lump in my throat  we need to understand mahatma s spiritual standing  he is a true spiritual leader  only a fully enlightened man could possibly detach himself from his loved ones  a man with such caliber leads his family and followers by example  according to the movie  he spoke to his son and try to make him understand where he is coming from  but poor harilall with so little intellect could not understand his father  when things went wrong with harilall  mahatma could remain calm and accepted that his son is a big tragedy   br    br   had it been any other parents  they would have compromised their values to assist the son to get on his feet  mahatma didn t do that  he is true leader who leads by example \r\n"
     ]
    }
   ],
   "source": [
    "!head -n 2 'train_df.txt'"
   ]
  },
  {
   "cell_type": "markdown",
   "id": "8f650994",
   "metadata": {},
   "source": [
    "### 2. (2 points) Train a FastText classifier with default parameters on the training data, and evaluate it on the test data using accuracy."
   ]
  },
  {
   "cell_type": "code",
   "execution_count": 5,
   "id": "9e17b785",
   "metadata": {},
   "outputs": [],
   "source": [
    "import fasttext"
   ]
  },
  {
   "cell_type": "code",
   "execution_count": 6,
   "id": "46737e71",
   "metadata": {},
   "outputs": [
    {
     "name": "stderr",
     "output_type": "stream",
     "text": [
      "Read 6M words\n",
      "Number of words:  75910\n",
      "Number of labels: 2\n",
      "Progress: 100.0% words/sec/thread: 2771728 lr:  0.000000 avg.loss:  0.385381 ETA:   0h 0m 0s\n"
     ]
    }
   ],
   "source": [
    "default_model = fasttext.train_supervised('train_df.txt')"
   ]
  },
  {
   "cell_type": "code",
   "execution_count": 7,
   "id": "1ea01457",
   "metadata": {},
   "outputs": [
    {
     "data": {
      "text/plain": [
       "(25000, 0.87808, 0.87808)"
      ]
     },
     "execution_count": 7,
     "metadata": {},
     "output_type": "execute_result"
    }
   ],
   "source": [
    "default_model.test(\"test_df.txt\")"
   ]
  },
  {
   "cell_type": "markdown",
   "id": "31e9bdfc",
   "metadata": {},
   "source": [
    "### 3. (3 points) Use the hyperparameters search functionality of FastText and repeat step 2"
   ]
  },
  {
   "cell_type": "code",
   "execution_count": 8,
   "id": "3e9cc949",
   "metadata": {},
   "outputs": [],
   "source": [
    "from sklearn.model_selection import train_test_split\n",
    "\n",
    "train, val = train_test_split(train_df, shuffle=True, stratify=train_df[\"label\"])\n",
    "\n",
    "save_to_fasttext(preparing(train), \"cooking.train\")\n",
    "save_to_fasttext(preparing(val), \"cooking.valid\")"
   ]
  },
  {
   "cell_type": "code",
   "execution_count": 9,
   "id": "5e224787",
   "metadata": {},
   "outputs": [
    {
     "name": "stderr",
     "output_type": "stream",
     "text": [
      "Progress: 100.0% Trials:    9 Best score:  0.898080 ETA:   0h 0m 0s\n",
      "Training again with best arguments\n",
      "Read 4M words\n",
      "Number of words:  67569\n",
      "Number of labels: 2\n",
      "Progress: 100.0% words/sec/thread: 1183372 lr:  0.000000 avg.loss:  0.050422 ETA:   0h 0m 0s\n"
     ]
    }
   ],
   "source": [
    "model = fasttext.train_supervised(input='cooking.train', autotuneValidationFile='cooking.valid')"
   ]
  },
  {
   "cell_type": "code",
   "execution_count": 10,
   "id": "c8552012",
   "metadata": {},
   "outputs": [
    {
     "data": {
      "text/plain": [
       "(25000, 0.89284, 0.89284)"
      ]
     },
     "execution_count": 10,
     "metadata": {},
     "output_type": "execute_result"
    }
   ],
   "source": [
    "model.test(\"test_df.txt\")"
   ]
  },
  {
   "cell_type": "markdown",
   "id": "d458db75",
   "metadata": {},
   "source": [
    "### 4. (1 points) Look at the differences between the default model and the attributes found with hyperparameters search. How do the two models differ?"
   ]
  },
  {
   "cell_type": "code",
   "execution_count": 11,
   "id": "055c3fc3",
   "metadata": {},
   "outputs": [
    {
     "name": "stdout",
     "output_type": "stream",
     "text": [
      "attribute | Default  |  Autotuned\n",
      "lr        | 0.1      | 0.08499425639667486\n",
      "epoch     | 5        | 100\n",
      "dim       | 100      | 92\n",
      "wordNgrams| 1        | 2\n",
      "bucket    | 0        | 4110692\n"
     ]
    }
   ],
   "source": [
    "print(\"attribute | Default  |  Autotuned\")\n",
    "print(\"lr        |\", default_model.lr, \"     |\", model.lr)\n",
    "print(\"epoch     |\", default_model.epoch, \"       |\", model.epoch)\n",
    "print(\"dim       |\", default_model.dim, \"     |\", model.dim)\n",
    "print(\"wordNgrams|\", default_model.wordNgrams, \"       |\", model.wordNgrams)\n",
    "print(\"bucket    |\", default_model.bucket, \"       |\", model.bucket)"
   ]
  },
  {
   "cell_type": "markdown",
   "id": "8742bae5",
   "metadata": {},
   "source": [
    "### 5. (1 point) Using the tuned model, take at least 2 wrongly classified examples from the test set, and try explaining why the model failed."
   ]
  },
  {
   "cell_type": "code",
   "execution_count": 12,
   "id": "3f5b6b0b",
   "metadata": {},
   "outputs": [
    {
     "data": {
      "text/html": [
       "<div>\n",
       "<style scoped>\n",
       "    .dataframe tbody tr th:only-of-type {\n",
       "        vertical-align: middle;\n",
       "    }\n",
       "\n",
       "    .dataframe tbody tr th {\n",
       "        vertical-align: top;\n",
       "    }\n",
       "\n",
       "    .dataframe thead th {\n",
       "        text-align: right;\n",
       "    }\n",
       "</style>\n",
       "<table border=\"1\" class=\"dataframe\">\n",
       "  <thead>\n",
       "    <tr style=\"text-align: right;\">\n",
       "      <th></th>\n",
       "      <th>index</th>\n",
       "      <th>text</th>\n",
       "      <th>label</th>\n",
       "      <th>prediction</th>\n",
       "    </tr>\n",
       "  </thead>\n",
       "  <tbody>\n",
       "    <tr>\n",
       "      <th>0</th>\n",
       "      <td>15732</td>\n",
       "      <td>\"Challenge to be Free\" was one of the first fi...</td>\n",
       "      <td>1</td>\n",
       "      <td>1</td>\n",
       "    </tr>\n",
       "    <tr>\n",
       "      <th>1</th>\n",
       "      <td>1791</td>\n",
       "      <td>Linda Arvidson (as Jennie) and Harry Solter (a...</td>\n",
       "      <td>0</td>\n",
       "      <td>1</td>\n",
       "    </tr>\n",
       "    <tr>\n",
       "      <th>2</th>\n",
       "      <td>7788</td>\n",
       "      <td>This movie was one of the worst I've ever seen...</td>\n",
       "      <td>0</td>\n",
       "      <td>0</td>\n",
       "    </tr>\n",
       "    <tr>\n",
       "      <th>3</th>\n",
       "      <td>10624</td>\n",
       "      <td>Low-budget murder mystery about a Public Defen...</td>\n",
       "      <td>0</td>\n",
       "      <td>0</td>\n",
       "    </tr>\n",
       "    <tr>\n",
       "      <th>4</th>\n",
       "      <td>14800</td>\n",
       "      <td>Well, I've just seen Buster Keaton's film debu...</td>\n",
       "      <td>1</td>\n",
       "      <td>1</td>\n",
       "    </tr>\n",
       "    <tr>\n",
       "      <th>...</th>\n",
       "      <td>...</td>\n",
       "      <td>...</td>\n",
       "      <td>...</td>\n",
       "      <td>...</td>\n",
       "    </tr>\n",
       "    <tr>\n",
       "      <th>24995</th>\n",
       "      <td>9241</td>\n",
       "      <td>OK, last night I saw the world premiere of Pau...</td>\n",
       "      <td>0</td>\n",
       "      <td>0</td>\n",
       "    </tr>\n",
       "    <tr>\n",
       "      <th>24996</th>\n",
       "      <td>7262</td>\n",
       "      <td>If it were possible, I would have given this s...</td>\n",
       "      <td>0</td>\n",
       "      <td>0</td>\n",
       "    </tr>\n",
       "    <tr>\n",
       "      <th>24997</th>\n",
       "      <td>19791</td>\n",
       "      <td>I enjoyed the movie and Kellie Martins perform...</td>\n",
       "      <td>1</td>\n",
       "      <td>1</td>\n",
       "    </tr>\n",
       "    <tr>\n",
       "      <th>24998</th>\n",
       "      <td>12905</td>\n",
       "      <td>Okay, sure, this movie is a bit on the hokey s...</td>\n",
       "      <td>1</td>\n",
       "      <td>1</td>\n",
       "    </tr>\n",
       "    <tr>\n",
       "      <th>24999</th>\n",
       "      <td>19981</td>\n",
       "      <td>It is a damn good movie,with some surprising t...</td>\n",
       "      <td>1</td>\n",
       "      <td>1</td>\n",
       "    </tr>\n",
       "  </tbody>\n",
       "</table>\n",
       "<p>25000 rows × 4 columns</p>\n",
       "</div>"
      ],
      "text/plain": [
       "       index                                               text  label  \\\n",
       "0      15732  \"Challenge to be Free\" was one of the first fi...      1   \n",
       "1       1791  Linda Arvidson (as Jennie) and Harry Solter (a...      0   \n",
       "2       7788  This movie was one of the worst I've ever seen...      0   \n",
       "3      10624  Low-budget murder mystery about a Public Defen...      0   \n",
       "4      14800  Well, I've just seen Buster Keaton's film debu...      1   \n",
       "...      ...                                                ...    ...   \n",
       "24995   9241  OK, last night I saw the world premiere of Pau...      0   \n",
       "24996   7262  If it were possible, I would have given this s...      0   \n",
       "24997  19791  I enjoyed the movie and Kellie Martins perform...      1   \n",
       "24998  12905  Okay, sure, this movie is a bit on the hokey s...      1   \n",
       "24999  19981  It is a damn good movie,with some surprising t...      1   \n",
       "\n",
       "       prediction  \n",
       "0               1  \n",
       "1               1  \n",
       "2               0  \n",
       "3               0  \n",
       "4               1  \n",
       "...           ...  \n",
       "24995           0  \n",
       "24996           0  \n",
       "24997           1  \n",
       "24998           1  \n",
       "24999           1  \n",
       "\n",
       "[25000 rows x 4 columns]"
      ]
     },
     "execution_count": 12,
     "metadata": {},
     "output_type": "execute_result"
    }
   ],
   "source": [
    "# On remplace les occurences de \"positive\" en \"1\" et \"negative\" en \"0\"\n",
    "test_df[\"prediction\"] = test_df[\"text\"].apply(lambda x: int(\"p\" in model.predict(x)[0][0]))\n",
    "test_df"
   ]
  },
  {
   "cell_type": "code",
   "execution_count": 13,
   "id": "78d28ad4",
   "metadata": {},
   "outputs": [],
   "source": [
    "failed_sample1 = test_df[(test_df[\"prediction\"] == 1) & (test_df[\"label\"] == 0)].iloc[2,:][\"text\"]\n",
    "failed_sample2 = test_df[(test_df[\"prediction\"] == 0) & (test_df[\"label\"] == 1)].iloc[2,:][\"text\"]"
   ]
  },
  {
   "cell_type": "markdown",
   "id": "5e8fbfa5",
   "metadata": {},
   "source": [
    "### Cet exemple est un faux positif. L'auteur du commentaire relève les défauts du film tout en soulignant ses forces, offrant ainsi une critique plus objective du film."
   ]
  },
  {
   "cell_type": "code",
   "execution_count": 14,
   "id": "f9ec5401",
   "metadata": {},
   "outputs": [
    {
     "data": {
      "text/plain": [
       "'The MTV sci-fi animated series \"Æon Flux\" is brought to life with Charlize Theron playing the title character, a freedom fighter who fights oppression in the walled city of Bregna, 400 hundred years into the future. For her latest mission, she has been sent to kill the city\\'s leader Trevor Goodchild (Marton Csokas), but she uncovers secrets along the way.<br /><br />Aeon Flux falls under the category of good premise, mediocre execution. Interesting story yet the film was a little dull. A lot of people are saying that this is one of the worst movies of the year and that\\'s not true at all. It may be a disappointing film but it\\'s an average film at best. I have never seen the cartoon version of the movie so I can\\'t compare the two. It\\'s probably better because they have a chance to explain the story more. The film is not that confusing but it\\'s easy to get lost if you\\'re not familiar with the material. The acting was alright, nothing special. Charlize Theron gives a good performance and seems dedicated to the film. The rest of the cast also give decent performances including Jonny Lee Miller, Frances McDormand and Marton Csokas. There are also more than a few interesting characters in the film including Sithandra, Aeon\\'s friend.<br /><br />The problem with Aeon Flux is that it takes itself too seriously. It carries the same serious tone throughout the entire film and that gets a little tiring. There\\'s no humor and the film becomes a little boring at times. This is the same problem that Elektra had. Because the film is so serious, the dialog sounds cheesy and the serious scenes seem forced. The action scenes are pretty good but that\\'s not what the film is really about so don\\'t go in expecting just an action movie. The twist at the end isn\\'t mind blowing but it\\'s still a nice ending and better than other thrillers that have come out this past year (Hide and Seek). The costumes are little weird but still look nice and interesting. The visuals were are also done well so the film at least looks nice. So, the movie may be a case of style over substance. Interesting to look at but may not hold your attention for a very long time. In the end, it\\'s not the best film out there but it might for a decent rental. Rating 4/10'"
      ]
     },
     "execution_count": 14,
     "metadata": {},
     "output_type": "execute_result"
    }
   ],
   "source": [
    "failed_sample1"
   ]
  },
  {
   "cell_type": "markdown",
   "id": "549b58ae",
   "metadata": {},
   "source": [
    "### Cet exemple est un faux négatif. La première phrase peut induire en erreur ('I tuned in to this movie because there was nothing else to watch') ainsi que d'autres expressions ('The characters do stupid things', 'mindless entertainment') même si le reste du commentaire est un éloge du film."
   ]
  },
  {
   "cell_type": "code",
   "execution_count": 15,
   "id": "4e597dc3",
   "metadata": {},
   "outputs": [
    {
     "data": {
      "text/plain": [
       "'I tuned in to this movie because there was nothing else to watch. I was immediately sucked in by the characters.<br /><br />Robin Tunney is nothing less than spectacular in this film. Her portrayal of a mentally ill woman is both moving and 100% believable. Really, this sort of thing is not easy to do. She pulls it off fantastically.<br /><br />We know early on this film is going to end tragically, but you cannot take your eyes off of it. The characters do stupid things, but unlike most Hollywood movies where people do stupid things because the plot demands it, these people do stupid things because the are not right in the head - and the things they do are completely consistent with their characters.<br /><br />This is just a great example of film making IMHO. Great writing, great acting, great directing. A film for people who think film can be more than mindless entertainment.'"
      ]
     },
     "execution_count": 15,
     "metadata": {},
     "output_type": "execute_result"
    }
   ],
   "source": [
    "failed_sample2"
   ]
  },
  {
   "cell_type": "markdown",
   "id": "97684e4b",
   "metadata": {},
   "source": [
    "### 6. (Bonus point) Why is it likely that the attributes minn and maxn are at 0 after an hyperparameter search on our data?"
   ]
  },
  {
   "cell_type": "markdown",
   "id": "29ca0d35",
   "metadata": {},
   "source": [
    "#### minn et maxnn sont à 0 car les mots anglais sont rarement une composition d'autres mots, nul besoin donc de les diviser en sous-tokens"
   ]
  },
  {
   "cell_type": "code",
   "execution_count": null,
   "id": "1afae546",
   "metadata": {},
   "outputs": [],
   "source": []
  }
 ],
 "metadata": {
  "kernelspec": {
   "display_name": "Python 3 (ipykernel)",
   "language": "python",
   "name": "python3"
  },
  "language_info": {
   "codemirror_mode": {
    "name": "ipython",
    "version": 3
   },
   "file_extension": ".py",
   "mimetype": "text/x-python",
   "name": "python",
   "nbconvert_exporter": "python",
   "pygments_lexer": "ipython3",
   "version": "3.9.5"
  }
 },
 "nbformat": 4,
 "nbformat_minor": 5
}
