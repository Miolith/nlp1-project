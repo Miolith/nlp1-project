{
 "cells": [
  {
   "cell_type": "code",
   "execution_count": 7,
   "id": "58bda6b3",
   "metadata": {},
   "outputs": [],
   "source": [
    "from collections import defaultdict\n",
    "from copy import deepcopy\n",
    "import re\n",
    "from typing import Callable, List, Tuple\n",
    "\n",
    "from datasets import load_dataset\n",
    "import matplotlib.pyplot as plt\n",
    "import numpy as np\n",
    "import pandas as pd\n",
    "import torch\n",
    "from torch import nn\n",
    "import torch.nn.functional as F\n",
    "from tqdm.auto import tqdm\n",
    "from datetime import datetime\n",
    "from sklearn.utils import shuffle"
   ]
  },
  {
   "cell_type": "code",
   "execution_count": 8,
   "id": "d6d32e95",
   "metadata": {},
   "outputs": [
    {
     "name": "stderr",
     "output_type": "stream",
     "text": [
      "Reusing dataset imdb (/home/miolith/.cache/huggingface/datasets/imdb/plain_text/1.0.0/2fdd8b9bcadd6e7055e742a706876ba43f19faee861df134affd7a3f60fc38a1)\n"
     ]
    },
    {
     "data": {
      "application/vnd.jupyter.widget-view+json": {
       "model_id": "50820031bd3f4010bfe8dd95dd64cd21",
       "version_major": 2,
       "version_minor": 0
      },
      "text/plain": [
       "  0%|          | 0/3 [00:00<?, ?it/s]"
      ]
     },
     "metadata": {},
     "output_type": "display_data"
    }
   ],
   "source": [
    "dataset = load_dataset(\"imdb\")"
   ]
  },
  {
   "cell_type": "code",
   "execution_count": 9,
   "id": "8009f6b8",
   "metadata": {},
   "outputs": [
    {
     "data": {
      "text/plain": [
       "Dataset({\n",
       "    features: ['text', 'label'],\n",
       "    num_rows: 50000\n",
       "})"
      ]
     },
     "execution_count": 9,
     "metadata": {},
     "output_type": "execute_result"
    }
   ],
   "source": [
    "# We do not need the \"unsupervised\" split.\n",
    "dataset.pop(\"unsupervised\")"
   ]
  },
  {
   "cell_type": "code",
   "execution_count": 10,
   "id": "04ed4601",
   "metadata": {},
   "outputs": [
    {
     "data": {
      "text/plain": [
       "DatasetDict({\n",
       "    train: Dataset({\n",
       "        features: ['text', 'label'],\n",
       "        num_rows: 25000\n",
       "    })\n",
       "    test: Dataset({\n",
       "        features: ['text', 'label'],\n",
       "        num_rows: 25000\n",
       "    })\n",
       "})"
      ]
     },
     "execution_count": 10,
     "metadata": {},
     "output_type": "execute_result"
    }
   ],
   "source": [
    "dataset"
   ]
  },
  {
   "cell_type": "code",
   "execution_count": 7,
   "id": "ee563560",
   "metadata": {},
   "outputs": [
    {
     "data": {
      "text/plain": [
       "{'text': ['I rented I AM CURIOUS-YELLOW from my video store because of all the controversy that surrounded it when it was first released in 1967. I also heard that at first it was seized by U.S. customs if it ever tried to enter this country, therefore being a fan of films considered \"controversial\" I really had to see this for myself.<br /><br />The plot is centered around a young Swedish drama student named Lena who wants to learn everything she can about life. In particular she wants to focus her attentions to making some sort of documentary on what the average Swede thought about certain political issues such as the Vietnam War and race issues in the United States. In between asking politicians and ordinary denizens of Stockholm about their opinions on politics, she has sex with her drama teacher, classmates, and married men.<br /><br />What kills me about I AM CURIOUS-YELLOW is that 40 years ago, this was considered pornographic. Really, the sex and nudity scenes are few and far between, even then it\\'s not shot like some cheaply made porno. While my countrymen mind find it shocking, in reality sex and nudity are a major staple in Swedish cinema. Even Ingmar Bergman, arguably their answer to good old boy John Ford, had sex scenes in his films.<br /><br />I do commend the filmmakers for the fact that any sex shown in the film is shown for artistic purposes rather than just to shock people and make money to be shown in pornographic theaters in America. I AM CURIOUS-YELLOW is a good film for anyone wanting to study the meat and potatoes (no pun intended) of Swedish cinema. But really, this film doesn\\'t have much of a plot.',\n",
       "  '\"I Am Curious: Yellow\" is a risible and pretentious steaming pile. It doesn\\'t matter what one\\'s political views are because this film can hardly be taken seriously on any level. As for the claim that frontal male nudity is an automatic NC-17, that isn\\'t true. I\\'ve seen R-rated films with male nudity. Granted, they only offer some fleeting views, but where are the R-rated films with gaping vulvas and flapping labia? Nowhere, because they don\\'t exist. The same goes for those crappy cable shows: schlongs swinging in the breeze but not a clitoris in sight. And those pretentious indie movies like The Brown Bunny, in which we\\'re treated to the site of Vincent Gallo\\'s throbbing johnson, but not a trace of pink visible on Chloe Sevigny. Before crying (or implying) \"double-standard\" in matters of nudity, the mentally obtuse should take into account one unavoidably obvious anatomical difference between men and women: there are no genitals on display when actresses appears nude, and the same cannot be said for a man. In fact, you generally won\\'t see female genitals in an American film in anything short of porn or explicit erotica. This alleged double-standard is less a double standard than an admittedly depressing ability to come to terms culturally with the insides of women\\'s bodies.'],\n",
       " 'label': [0, 0]}"
      ]
     },
     "execution_count": 7,
     "metadata": {},
     "output_type": "execute_result"
    }
   ],
   "source": [
    "dataset[\"train\"][:2]"
   ]
  },
  {
   "cell_type": "markdown",
   "id": "3541f745",
   "metadata": {},
   "source": [
    "### Pretreatment (1 point)"
   ]
  },
  {
   "cell_type": "code",
   "execution_count": 11,
   "id": "1a404f80",
   "metadata": {},
   "outputs": [],
   "source": [
    "import string\n",
    "import re\n",
    "\n",
    "def pretreatment(text: str) -> str:\n",
    "    \"\"\"Clean IMDB text entries.\n",
    "    Args:\n",
    "        text: an input string.\n",
    "    Returns:\n",
    "        The cleaned text.\n",
    "    \"\"\"\n",
    "    t = text.lower()\n",
    "    t = re.sub('[{}]'.format(string.punctuation), ' ', t)\n",
    "    \n",
    "    return t"
   ]
  },
  {
   "cell_type": "code",
   "execution_count": 12,
   "id": "fdc54127",
   "metadata": {},
   "outputs": [
    {
     "data": {
      "application/vnd.jupyter.widget-view+json": {
       "model_id": "a803e7fa3388445eb872542fb3d6bd5f",
       "version_major": 2,
       "version_minor": 0
      },
      "text/plain": [
       "  0%|          | 0/25000 [00:00<?, ?ex/s]"
      ]
     },
     "metadata": {},
     "output_type": "display_data"
    },
    {
     "data": {
      "application/vnd.jupyter.widget-view+json": {
       "model_id": "72de65dd75574981b081c693941dcb87",
       "version_major": 2,
       "version_minor": 0
      },
      "text/plain": [
       "  0%|          | 0/25000 [00:00<?, ?ex/s]"
      ]
     },
     "metadata": {},
     "output_type": "display_data"
    }
   ],
   "source": [
    "# This applies the pretreatment function to all\n",
    "clean_dataset = dataset.map(lambda x: {\"text\": pretreatment(x[\"text\"]), \"label\": x[\"label\"]})"
   ]
  },
  {
   "cell_type": "code",
   "execution_count": 13,
   "id": "c13802e1",
   "metadata": {},
   "outputs": [
    {
     "data": {
      "text/plain": [
       "['i rented i am curious yellow from my video store because of all the controversy that surrounded it when it was first released in 1967  i also heard that at first it was seized by u s  customs if it ever tried to enter this country  therefore being a fan of films considered  controversial  i really had to see this for myself  br    br   the plot is centered around a young swedish drama student named lena who wants to learn everything she can about life  in particular she wants to focus her attentions to making some sort of documentary on what the average swede thought about certain political issues such as the vietnam war and race issues in the united states  in between asking politicians and ordinary denizens of stockholm about their opinions on politics  she has sex with her drama teacher  classmates  and married men  br    br   what kills me about i am curious yellow is that 40 years ago  this was considered pornographic  really  the sex and nudity scenes are few and far between  even then it s not shot like some cheaply made porno  while my countrymen mind find it shocking  in reality sex and nudity are a major staple in swedish cinema  even ingmar bergman  arguably their answer to good old boy john ford  had sex scenes in his films  br    br   i do commend the filmmakers for the fact that any sex shown in the film is shown for artistic purposes rather than just to shock people and make money to be shown in pornographic theaters in america  i am curious yellow is a good film for anyone wanting to study the meat and potatoes  no pun intended  of swedish cinema  but really  this film doesn t have much of a plot ',\n",
       " ' i am curious  yellow  is a risible and pretentious steaming pile  it doesn t matter what one s political views are because this film can hardly be taken seriously on any level  as for the claim that frontal male nudity is an automatic nc 17  that isn t true  i ve seen r rated films with male nudity  granted  they only offer some fleeting views  but where are the r rated films with gaping vulvas and flapping labia  nowhere  because they don t exist  the same goes for those crappy cable shows  schlongs swinging in the breeze but not a clitoris in sight  and those pretentious indie movies like the brown bunny  in which we re treated to the site of vincent gallo s throbbing johnson  but not a trace of pink visible on chloe sevigny  before crying  or implying   double standard  in matters of nudity  the mentally obtuse should take into account one unavoidably obvious anatomical difference between men and women  there are no genitals on display when actresses appears nude  and the same cannot be said for a man  in fact  you generally won t see female genitals in an american film in anything short of porn or explicit erotica  this alleged double standard is less a double standard than an admittedly depressing ability to come to terms culturally with the insides of women s bodies ',\n",
       " 'if only to avoid making this type of film in the future  this film is interesting as an experiment but tells no cogent story  br    br   one might feel virtuous for sitting thru it because it touches on so many important issues but it does so without any discernable motive  the viewer comes away with no new perspectives  unless one comes up with one while one s mind wanders  as it will invariably do during this pointless film   br    br   one might better spend one s time staring out a window at a tree growing  br    br   ']"
      ]
     },
     "execution_count": 13,
     "metadata": {},
     "output_type": "execute_result"
    }
   ],
   "source": [
    "clean_dataset[\"train\"][\"text\"][:3]"
   ]
  },
  {
   "cell_type": "code",
   "execution_count": 14,
   "id": "e3522c54",
   "metadata": {},
   "outputs": [
    {
     "data": {
      "text/plain": [
       "[0, 0, 0, 0, 0, 0, 0, 0, 0, 0, 1, 1, 1, 1, 1, 1, 1, 1, 1, 1]"
      ]
     },
     "execution_count": 14,
     "metadata": {},
     "output_type": "execute_result"
    }
   ],
   "source": [
    "clean_dataset[\"train\"][\"label\"][12490:12510]"
   ]
  },
  {
   "cell_type": "markdown",
   "id": "400fd2db",
   "metadata": {},
   "source": [
    "### Train/validation split (1 point)"
   ]
  },
  {
   "cell_type": "code",
   "execution_count": 15,
   "id": "4b94181c",
   "metadata": {},
   "outputs": [],
   "source": [
    "clean_dataset_split = clean_dataset[\"train\"].train_test_split(train_size=0.8, seed=42)\n",
    "\n",
    "clean_dataset_split[\"validation\"] = clean_dataset_split.pop(\"test\")\n",
    "clean_dataset_split[\"test\"] = clean_dataset[\"test\"]"
   ]
  },
  {
   "cell_type": "code",
   "execution_count": 16,
   "id": "57605c07",
   "metadata": {},
   "outputs": [
    {
     "data": {
      "text/plain": [
       "DatasetDict({\n",
       "    train: Dataset({\n",
       "        features: ['text', 'label'],\n",
       "        num_rows: 20000\n",
       "    })\n",
       "    validation: Dataset({\n",
       "        features: ['text', 'label'],\n",
       "        num_rows: 5000\n",
       "    })\n",
       "    test: Dataset({\n",
       "        features: ['text', 'label'],\n",
       "        num_rows: 25000\n",
       "    })\n",
       "})"
      ]
     },
     "execution_count": 16,
     "metadata": {},
     "output_type": "execute_result"
    }
   ],
   "source": [
    "clean_dataset_split"
   ]
  },
  {
   "cell_type": "code",
   "execution_count": 17,
   "id": "0447dfec",
   "metadata": {},
   "outputs": [
    {
     "name": "stdout",
     "output_type": "stream",
     "text": [
      "Le dataset est environ équilibré : 9994 / 20 000\n",
      "Le dataset est environ équilibré : 2506 / 5000\n",
      "Les proportions sont environ équilibrés\n"
     ]
    }
   ],
   "source": [
    "print(\"Le dataset est environ équilibré :\", sum(clean_dataset_split[\"train\"][\"label\"]), \"/ 20 000\")\n",
    "print(\"Le dataset est environ équilibré :\", sum(clean_dataset_split[\"validation\"][\"label\"]), \"/ 5000\")\n",
    "\n",
    "print(\"Les proportions sont environ équilibrés\")"
   ]
  },
  {
   "cell_type": "markdown",
   "id": "f7044626",
   "metadata": {},
   "source": [
    "### Categorical encoding of the vocabulary (2 points)"
   ]
  },
  {
   "cell_type": "code",
   "execution_count": 19,
   "id": "5c916ca1",
   "metadata": {},
   "outputs": [],
   "source": [
    "UNK_TOKEN = \"<UNK>\"\n",
    "PAD_TOKEN = \"<PAD>\"\n",
    "\n",
    "\n",
    "class Vocabulary:\n",
    "    \"\"\"Vocabulary manager on a collection.\n",
    "    \"\"\"\n",
    "    def __init__(self) -> None:\n",
    "        \"\"\"No parameters to provide.\n",
    "        \"\"\"\n",
    "        # Index to word mapping.\n",
    "        self.index2word = [PAD_TOKEN, UNK_TOKEN]\n",
    "        # Word to index mapping.\n",
    "        self.word2index = {value: key for key, value in enumerate(self.index2word)}\n",
    "        # Word counter.\n",
    "        self.word2count = defaultdict(int)\n",
    "\n",
    "    def add_word(self, word: str) -> None:\n",
    "        \"\"\"Increments the count of a word to the vocabulary.\n",
    "        Args:\n",
    "            word: the word.\n",
    "        \"\"\"\n",
    "        self.word2count[word] += 1\n",
    "        if not word in self.word2index:\n",
    "            self.word2index[word] = len(self.index2word)\n",
    "            self.index2word.append(word)\n",
    "\n",
    "    def add_text(self, text: str, separator: str =\" \") -> None:\n",
    "        \"\"\"Add the words given in a text to our vocabulary.\n",
    "        Args:\n",
    "            text: a sequence of words separated by a given separator.\n",
    "            separator: the separator used to split our text (default is \" \").\n",
    "        \"\"\"\n",
    "        for word in text.split(separator):\n",
    "            self.add_word(word)\n",
    "\n",
    "    def get_index(self, word: str) -> int:\n",
    "        \"\"\"Returns the index of a given word in our vocabulary.\n",
    "        If the word is not in the vocabulary, returns the index for UNK_TOKEN.\n",
    "        Args:\n",
    "            word: a string.\n",
    "        Returns:\n",
    "            The corresponding index or the index for UNK_TOKEN.\n",
    "        \"\"\"\n",
    "        return (\n",
    "            self.word2index[word]\n",
    "            if word in self.word2index\n",
    "            else self.word2index[UNK_TOKEN]\n",
    "        )\n",
    "\n",
    "    def get_word(self, index: int) -> str:\n",
    "        \"\"\"Returns the word at a given index in our vocabulary.\n",
    "        Args:\n",
    "            index: the word position in our vocabulary.\n",
    "        Returns:\n",
    "            The word corresponding to the given index.\n",
    "        \"\"\"\n",
    "        return self.index2word[index]\n",
    "\n",
    "    def get_word_count(self, word: str) -> int:\n",
    "        \"\"\"Returns the number of occurences for a given word.\n",
    "        Raise a \n",
    "        Args:\n",
    "            The word.\n",
    "        Returns:\n",
    "            Its number of measured occurences.\n",
    "        \"\"\"\n",
    "        return self.word2count[word]\n",
    "\n",
    "    def get_vocabulary(self) -> List[str]:\n",
    "        \"\"\"Returns a copy of the whole vocabulary list.\n",
    "        Returns:\n",
    "            A list of words.\n",
    "        \"\"\"\n",
    "        return deepcopy(self.index2word)\n",
    "\n",
    "    def __len__(self) -> int:\n",
    "        \"\"\"len() function.\n",
    "        Returns:\n",
    "            The number of words in the vocabulary.\n",
    "        \"\"\"\n",
    "        return len(self.index2word)\n",
    "\n",
    "    def trim_vocabulary(self, min_occurences: int = 5) -> None:\n",
    "        \"\"\"Trim the vocabulary based on the number of occurrences of each words.\n",
    "        Note that whole counts of deleted words are added to the UNK_TOKEN counts.\n",
    "        Args:\n",
    "            min_occurences: the minimum number of occurences for a word to be kept.\n",
    "        \"\"\"\n",
    "        to_delete = {\n",
    "            word for word, count in self.word2count.items() if count < min_occurences\n",
    "        }\n",
    "        new_word2count = defaultdict(int)\n",
    "        for word, count in self.word2count.items():\n",
    "            if word not in to_delete:\n",
    "                new_word2count[word] = count\n",
    "            else:\n",
    "                new_word2count[UNK_TOKEN] += count\n",
    "        new_index2word = [word for word in self.index2word if word not in to_delete]\n",
    "        new_word2index = {word: index for index, word in enumerate(new_index2word)}\n",
    "\n",
    "        self.word2count = new_word2count\n",
    "        self.index2word = new_index2word\n",
    "        self.word2index = new_word2index"
   ]
  },
  {
   "cell_type": "markdown",
   "id": "a2495e41",
   "metadata": {},
   "source": [
    "(1 point) Get the vocabulary on both the training and validation set using the Vocabulary class. Remember, we don't use the test set here as we consider it as proxy production data. The trim it down as you see fit (around 20K words in the vocabulary is a good value)."
   ]
  },
  {
   "cell_type": "code",
   "execution_count": 21,
   "id": "1cb87303",
   "metadata": {},
   "outputs": [
    {
     "name": "stdout",
     "output_type": "stream",
     "text": [
      "Il y a 19111 mots de vocabulaire différents\n"
     ]
    }
   ],
   "source": [
    "vocabulary = Vocabulary()\n",
    "\n",
    "# Your code...\n",
    "\n",
    "for text in clean_dataset[\"train\"][\"text\"]:\n",
    "    vocabulary.add_text(text)\n",
    "\n",
    "c = 5\n",
    "while len(vocabulary.word2count) > 20000:\n",
    "    vocabulary.trim_vocabulary(c)\n",
    "    c += 1\n",
    "\n",
    "print(\"Il y a\", len(vocabulary.word2count), \"mots de vocabulaire différents\")"
   ]
  },
  {
   "cell_type": "markdown",
   "id": "1fc18785",
   "metadata": {},
   "source": [
    "(1 point) Fill the encoding and decoding functions. The encoding function takes a text as input and returns a list IDs corresponding to the index of each word in the vocabulary. The decoding function reverse the process, turning a list of IDs into a text. Make sure the encoding function returns a numpy array."
   ]
  },
  {
   "cell_type": "code",
   "execution_count": 22,
   "id": "5c67eef2",
   "metadata": {},
   "outputs": [],
   "source": [
    "# Encoding and decoding function\n",
    "\n",
    "def encode_text(text: str) -> np.ndarray:\n",
    "    # Your code.\n",
    "    \n",
    "    rep = []\n",
    "    for word in text.split(' '):\n",
    "        rep.append(vocabulary.word2index.get(word, vocabulary.word2index[UNK_TOKEN]))\n",
    "        \n",
    "    return np.array(rep)\n",
    "\n",
    "def decode_text(encoded_text: np.ndarray) -> str:\n",
    "    # Your code.\n",
    "    \n",
    "    return \" \".join(map((lambda x : vocabulary.index2word[x]), encoded_text))"
   ]
  },
  {
   "cell_type": "markdown",
   "id": "28a5b543",
   "metadata": {},
   "source": [
    "To make sure everything went well, we compare a text before and after encoding and then decoding it. You should see rare words / typos replaced by the <UNK> token."
   ]
  },
  {
   "cell_type": "code",
   "execution_count": 23,
   "id": "9261fbc4",
   "metadata": {},
   "outputs": [
    {
     "data": {
      "application/vnd.jupyter.widget-view+json": {
       "model_id": "2ccff2f5e8334deda8ed653a3aafdadb",
       "version_major": 2,
       "version_minor": 0
      },
      "text/plain": [
       "  0%|          | 0/20000 [00:00<?, ?ex/s]"
      ]
     },
     "metadata": {},
     "output_type": "display_data"
    },
    {
     "data": {
      "application/vnd.jupyter.widget-view+json": {
       "model_id": "193a43f256964b7eafc5ae0aab8a1cb4",
       "version_major": 2,
       "version_minor": 0
      },
      "text/plain": [
       "  0%|          | 0/5000 [00:00<?, ?ex/s]"
      ]
     },
     "metadata": {},
     "output_type": "display_data"
    },
    {
     "data": {
      "application/vnd.jupyter.widget-view+json": {
       "model_id": "d9419bbe84c94929a898d1e1a6b5b1ef",
       "version_major": 2,
       "version_minor": 0
      },
      "text/plain": [
       "  0%|          | 0/25000 [00:00<?, ?ex/s]"
      ]
     },
     "metadata": {},
     "output_type": "display_data"
    }
   ],
   "source": [
    "# Apply the encoding function to the entire dataset.\n",
    "encoded_dataset = clean_dataset_split.map(lambda x: {\"text\": encode_text(x[\"text\"]), \"label\": x[\"label\"]})"
   ]
  },
  {
   "cell_type": "code",
   "execution_count": 24,
   "id": "963a56f8",
   "metadata": {},
   "outputs": [
    {
     "data": {
      "text/plain": [
       "[723,\n",
       " 12272,\n",
       " 2092,\n",
       " 175,\n",
       " 42,\n",
       " 132,\n",
       " 2205,\n",
       " 25,\n",
       " 202,\n",
       " 2092,\n",
       " 276,\n",
       " 315,\n",
       " 700,\n",
       " 123,\n",
       " 42,\n",
       " 151,\n",
       " 1475,\n",
       " 20,\n",
       " 530,\n",
       " 3414,\n",
       " 79,\n",
       " 14,\n",
       " 723,\n",
       " 25,\n",
       " 86,\n",
       " 87,\n",
       " 25,\n",
       " 492,\n",
       " 2246,\n",
       " 25,\n",
       " 25,\n",
       " 25,\n",
       " 15064,\n",
       " 15065,\n",
       " 31,\n",
       " 1565,\n",
       " 1751,\n",
       " 14,\n",
       " 151,\n",
       " 5426,\n",
       " 25,\n",
       " 225,\n",
       " 54,\n",
       " 515,\n",
       " 2589,\n",
       " 1057,\n",
       " 14,\n",
       " 765,\n",
       " 2838,\n",
       " 667,\n",
       " 169,\n",
       " 603,\n",
       " 695,\n",
       " 25,\n",
       " 432,\n",
       " 25,\n",
       " 18,\n",
       " 31,\n",
       " 1457,\n",
       " 36,\n",
       " 650,\n",
       " 28,\n",
       " 50,\n",
       " 80,\n",
       " 18,\n",
       " 54,\n",
       " 25,\n",
       " 14,\n",
       " 4224,\n",
       " 94,\n",
       " 1946,\n",
       " 8359,\n",
       " 90,\n",
       " 6538,\n",
       " 6539,\n",
       " 54,\n",
       " 851,\n",
       " 4852,\n",
       " 25,\n",
       " 14,\n",
       " 10932,\n",
       " 12,\n",
       " 98,\n",
       " 4826,\n",
       " 116,\n",
       " 5323,\n",
       " 25,\n",
       " 8359,\n",
       " 54,\n",
       " 2422,\n",
       " 87,\n",
       " 635,\n",
       " 25,\n",
       " 90,\n",
       " 6539,\n",
       " 1641,\n",
       " 182,\n",
       " 12,\n",
       " 144,\n",
       " 117,\n",
       " 4492,\n",
       " 36,\n",
       " 47,\n",
       " 870,\n",
       " 25,\n",
       " 52,\n",
       " 25,\n",
       " 25,\n",
       " 25,\n",
       " 52,\n",
       " 25,\n",
       " 25,\n",
       " 2,\n",
       " 1823,\n",
       " 16,\n",
       " 2,\n",
       " 197,\n",
       " 511,\n",
       " 198,\n",
       " 13018,\n",
       " 15063,\n",
       " 31,\n",
       " 559,\n",
       " 25,\n",
       " 172,\n",
       " 2,\n",
       " 2653,\n",
       " 16,\n",
       " 4184,\n",
       " 1,\n",
       " 973,\n",
       " 31,\n",
       " 2374,\n",
       " 54,\n",
       " 9368,\n",
       " 25,\n",
       " 14,\n",
       " 914,\n",
       " 54,\n",
       " 3616,\n",
       " 828,\n",
       " 25,\n",
       " 90,\n",
       " 1751,\n",
       " 261,\n",
       " 3538,\n",
       " 25,\n",
       " 25,\n",
       " 19024,\n",
       " 25,\n",
       " 54,\n",
       " 191,\n",
       " 10680,\n",
       " 2243,\n",
       " 151,\n",
       " 25,\n",
       " 90,\n",
       " 54,\n",
       " 12067,\n",
       " 50,\n",
       " 3022,\n",
       " 13,\n",
       " 871,\n",
       " 12,\n",
       " 723,\n",
       " 90,\n",
       " 948,\n",
       " 25,\n",
       " 52,\n",
       " 25,\n",
       " 25,\n",
       " 25,\n",
       " 52,\n",
       " 25,\n",
       " 25,\n",
       " 1541,\n",
       " 1093,\n",
       " 315,\n",
       " 12,\n",
       " 362]"
      ]
     },
     "execution_count": 24,
     "metadata": {},
     "output_type": "execute_result"
    }
   ],
   "source": [
    "encoded_dataset[\"train\"][\"text\"][0]"
   ]
  },
  {
   "cell_type": "code",
   "execution_count": 25,
   "id": "7c234f58",
   "metadata": {},
   "outputs": [
    {
     "data": {
      "text/plain": [
       "('i rented i am curious yellow from my video store because of all the controversy that surrounded it when it was first released in 1967  i also heard that at first it was seized by u s  customs if it ever tried to enter this country  therefore being a fan of films considered  controversial  i really had to see this for myself  br    br   the plot is centered around a young swedish drama student named lena who wants to learn everything she can about life  in particular she wants to focus her attentions to making some sort of documentary on what the average swede thought about certain political issues such as the vietnam war and race issues in the united states  in between asking politicians and ordinary denizens of stockholm about their opinions on politics  she has sex with her drama teacher  classmates  and married men  br    br   what kills me about i am curious yellow is that 40 years ago  this was considered pornographic  really  the sex and nudity scenes are few and far between  even then it s not shot like some cheaply made porno  while my countrymen mind find it shocking  in reality sex and nudity are a major staple in swedish cinema  even ingmar bergman  arguably their answer to good old boy john ford  had sex scenes in his films  br    br   i do commend the filmmakers for the fact that any sex shown in the film is shown for artistic purposes rather than just to shock people and make money to be shown in pornographic theaters in america  i am curious yellow is a good film for anyone wanting to study the meat and potatoes  no pun intended  of swedish cinema  but really  this film doesn t have much of a plot ',\n",
       " 'stage adaptations often have a major fault  they often come out looking like a film camera was simply placed on the stage  such as  night mother    sidney lumet s direction keeps the film alive  which is especially difficult since the picture offered him no real challenge  still  it s nice to look at for what it is  the chemistry between michael caine and christopher reeve is quite brilliant  the dynamics of their relationship are surprising  caine is fantastic as always  and reeve gets one of his few chances to really act  br    br   i confess that i ve never seen ira levin s play  but i hear that jay <UNK> allen s adaptation is faithful  the script is incredibly convoluted  and keeps you guessing   deathtrap  is an enormously entertaining film  and is recommended for nearly all fans of stage and screen  br    br   7 4 out of 10')"
      ]
     },
     "execution_count": 25,
     "metadata": {},
     "output_type": "execute_result"
    }
   ],
   "source": [
    "clean_dataset[\"train\"][\"text\"][0], decode_text(encoded_dataset[\"train\"][\"text\"][0])"
   ]
  },
  {
   "cell_type": "markdown",
   "id": "263d8568",
   "metadata": {},
   "source": [
    "### Batch preparation (1 point)"
   ]
  },
  {
   "cell_type": "markdown",
   "id": "bb6244d6",
   "metadata": {},
   "source": [
    "To speed up learning, and take advantage of the GPU architecture, we provide data to the model by batches. Since all line in the same batch need to have the same length, we pad lines to the maximum length of each batch."
   ]
  },
  {
   "cell_type": "code",
   "execution_count": 26,
   "id": "31af2af1",
   "metadata": {},
   "outputs": [],
   "source": [
    "def data_generator(X: np.ndarray, y: np.ndarray, batch_size: int = 32, pad_right: bool = False) -> Tuple[np.ndarray, np.ndarray]:\n",
    "    \"\"\"Generate randomly ordered batches of data+labels.\n",
    "    Args:\n",
    "        X: the input data.\n",
    "        y: the corresponding labels.\n",
    "        batch_size: the size of each batch [32].\n",
    "        pad_right: if true, the padding is done on the right [False].\n",
    "    \"\"\"\n",
    "    \n",
    "    X, y = shuffle(X, y)\n",
    "    n_batches = int(np.ceil(len(y) / batch_size))\n",
    "    \n",
    "    for i in range(n_batches):\n",
    "        \n",
    "        end = min((i+1)*batch_size, len(y))\n",
    "        \n",
    "        X_batch = X[i*batch_size:end]\n",
    "        y_batch = y[i*batch_size:end]\n",
    "\n",
    "        # Padding to max ength size within the batch\n",
    "        max_len = np.max([len(x) for x in X_batch])\n",
    "        for j in range(len(X_batch)):\n",
    "            x = X_batch[j]\n",
    "            pad = [vocabulary.get_index(PAD_TOKEN)] * (max_len - len(x))\n",
    "            X_batch[j] = x+pad if pad_right else pad+x\n",
    "\n",
    "        X_batch = torch.from_numpy(np.array(X_batch)).long()\n",
    "        y_batch = torch.from_numpy(np.array(y_batch)).long()\n",
    "\n",
    "        # Yielding results, so every time the function is called, it starts again from here.\n",
    "        yield X_batch, y_batch"
   ]
  },
  {
   "cell_type": "markdown",
   "id": "886e1c3f",
   "metadata": {},
   "source": [
    "Let's see what the batches look like."
   ]
  },
  {
   "cell_type": "code",
   "execution_count": 27,
   "id": "81519d12",
   "metadata": {},
   "outputs": [
    {
     "name": "stdout",
     "output_type": "stream",
     "text": [
      "inputs tensor([[    0,     0,     0,  ...,  1329,   182,    25],\n",
      "        [    0,     0,     0,  ...,   313, 11717,    25],\n",
      "        [    0,     0,     0,  ...,  2855,  2002,    25],\n",
      "        ...,\n",
      "        [    0,     0,     0,  ..., 17171,    25,    25],\n",
      "        [    0,     0,     0,  ...,    12,    16,    25],\n",
      "        [    0,     0,     0,  ...,    25,    25,    25]]) shape: torch.Size([32, 1181])\n",
      "labels tensor([0, 0, 0, 0, 1, 0, 1, 1, 1, 1, 1, 0, 1, 0, 0, 0, 0, 0, 0, 1, 0, 0, 0, 1,\n",
      "        1, 0, 0, 1, 0, 0, 1, 0]) shape: torch.Size([32])\n"
     ]
    }
   ],
   "source": [
    "for inputs, labels in data_generator(encoded_dataset[\"train\"][\"text\"], encoded_dataset[\"train\"][\"label\"]):\n",
    "    print(\"inputs\", inputs, \"shape:\", inputs.shape)\n",
    "    print(\"labels\", labels, \"shape:\", labels.shape)\n",
    "    break"
   ]
  },
  {
   "cell_type": "markdown",
   "id": "b10be4a8",
   "metadata": {},
   "source": [
    "(1 point) Question: On which side should we pad the data for our use case and why?"
   ]
  },
  {
   "cell_type": "markdown",
   "id": "d77dbcaf",
   "metadata": {},
   "source": [
    "## The answer is 42"
   ]
  },
  {
   "cell_type": "markdown",
   "id": "0d777f9b",
   "metadata": {},
   "source": [
    "### The model (13 points)"
   ]
  },
  {
   "cell_type": "markdown",
   "id": "508bd315",
   "metadata": {},
   "source": [
    "We use a simple RNN with a configurable number of layers."
   ]
  },
  {
   "cell_type": "code",
   "execution_count": 28,
   "id": "e57960f9",
   "metadata": {},
   "outputs": [
    {
     "data": {
      "text/plain": [
       "device(type='cuda', index=0)"
      ]
     },
     "execution_count": 28,
     "metadata": {},
     "output_type": "execute_result"
    }
   ],
   "source": [
    "# Before starting, let's set up the device. A GPU if available, else the CPU.\n",
    "device = torch.device(\"cuda:0\" if torch.cuda.is_available() else \"cpu\")\n",
    "device"
   ]
  },
  {
   "cell_type": "code",
   "execution_count": 29,
   "id": "0932d732",
   "metadata": {},
   "outputs": [],
   "source": [
    "class RNN(nn.Module):\n",
    "    \"\"\"A simple RNN module with word embeddings.\n",
    "    \"\"\"\n",
    "    def __init__(self, vocab_size: int, embed_size: int, hidden_size: int, n_layers: int, n_outputs: int) -> None:\n",
    "        \"\"\"\n",
    "        Args:\n",
    "            vocab_size: vocabulary size.\n",
    "            embed_size: embedding dimensions.\n",
    "            hidden_size: hidden layer size.\n",
    "            n_layers: the number of layers.\n",
    "            n_outputs: the number of output classes.\n",
    "        \"\"\"\n",
    "        super().__init__()\n",
    "        self.vocab_size = vocab_size\n",
    "        self.embed_size = embed_size\n",
    "        self.hidden_size = hidden_size\n",
    "        self.n_layers = n_layers\n",
    "        self.n_outputs = n_outputs\n",
    "\n",
    "\n",
    "        # The word embedding layer.\n",
    "        self.embed = nn.Embedding(self.vocab_size, self.embed_size)\n",
    "        # The RNN\n",
    "        self.rnn = nn.RNN(\n",
    "            input_size = self.embed_size,\n",
    "            hidden_size = self.hidden_size,\n",
    "            num_layers = self.n_layers,\n",
    "            batch_first = True, # Changes the order of dimension to put the batches first.\n",
    "        )\n",
    "        # A fully connected layer to project the RNN's output to only one output used for classification.\n",
    "        self.fc = nn.Linear(self.hidden_size, self.n_outputs)\n",
    "\n",
    "    def forward(self, X: torch.Tensor) -> torch.Tensor:\n",
    "        \"\"\"Function called when the model is called with data as input.\n",
    "        Args:\n",
    "            X: the input tensor of dimensions batch_size, sequence length, vocab size (actually just an int).\n",
    "        Returns:\n",
    "            The resulting tensor of dimension batch_size, sequence length, output dimensions.\n",
    "        \"\"\"\n",
    "        h0 = torch.zeros(self.n_layers, X.size(0), self.hidden_size).to(device)\n",
    "\n",
    "        out = self.embed(X)\n",
    "        # out contains the output layer of all words in the sequence.\n",
    "        # First dim is batch, second the word in the sequence, third is the vector itself.\n",
    "        # The second output value is the last vector of all intermediate layer.\n",
    "        # Only use it if you want to access the intermediate layer values of a\n",
    "        # multilayer model.\n",
    "        out, _ = self.rnn(out, h0)\n",
    "        # Getting the last value only.\n",
    "        out = out[:, -1, :]\n",
    "    \n",
    "        # Linear projection.\n",
    "        out = self.fc(out)\n",
    "\n",
    "        return out"
   ]
  },
  {
   "cell_type": "markdown",
   "id": "8a8900f5",
   "metadata": {},
   "source": [
    "Note that we do not pass the output through a sigmoid function. This is because pyTorch implements some code optimization within the BCEWithLogitsLoss we'll see later."
   ]
  },
  {
   "cell_type": "code",
   "execution_count": 113,
   "id": "6fbfbd07",
   "metadata": {},
   "outputs": [],
   "source": [
    "def train(\n",
    "    model: nn.Module,\n",
    "    criterion: Callable,\n",
    "    optimizier: torch.optim.Optimizer,\n",
    "    n_epochs: int,\n",
    "    train_gen: Callable,\n",
    "    valid_gen: Callable,\n",
    "):\n",
    "    \"\"\"Train a model using a batch gradient descent.\n",
    "    Args:\n",
    "        model: a class inheriting from nn.Module.\n",
    "        criterion: a loss criterion.\n",
    "        optimizer: an optimizer (e.g. Adam, RMSprop, ...).\n",
    "        n_epochs: the number of training epochs.\n",
    "        train_gen: a callable function returing a batch (data, labels).\n",
    "        valid_gen: a callable function returing a batch (data, labels).\n",
    "    \"\"\"\n",
    "    train_losses = np.zeros(n_epochs)\n",
    "    valid_losses = np.zeros(n_epochs)\n",
    "    best_valid_loss = np.infty\n",
    "\n",
    "    for epoch in range(n_epochs):\n",
    "\n",
    "        t0 = datetime.now()\n",
    "        model.train()\n",
    "        train_loss = []\n",
    "\n",
    "        # Training loop.\n",
    "        for inputs, labels in train_gen():\n",
    "            # labels are of dimension (N,) we turn them into (N, 1).\n",
    "            labels = labels.view(-1, 1).float()\n",
    "            # Put them on the GPU.\n",
    "            inputs, labels = inputs.to(device), labels.to(device)\n",
    "\n",
    "            # Reset the gradient.\n",
    "            optimizer.zero_grad()\n",
    "\n",
    "            outputs = model(inputs)\n",
    "            loss = criterion(outputs, labels)\n",
    "            loss.backward()\n",
    "            optimizier.step()\n",
    "\n",
    "            train_loss.append(loss.item())  # .item() detach the value from GPU.\n",
    "\n",
    "        train_losses[epoch] = np.mean(train_loss)\n",
    "\n",
    "        model.eval()\n",
    "        valid_loss = []\n",
    "        # Evaluation loop.\n",
    "        for inputs, labels in valid_gen():\n",
    "            labels = labels.view(-1, 1).float()\n",
    "            inputs, labels = inputs.to(device), labels.to(device)\n",
    "\n",
    "            outputs = model(inputs)\n",
    "            loss = criterion(outputs, labels)\n",
    "\n",
    "            valid_loss.append(loss.item())\n",
    "\n",
    "        valid_losses[epoch] = np.mean(valid_loss)\n",
    "\n",
    "        print(f\"Epoch: {epoch}, training loss: {train_losses[epoch]}, validation loss: {valid_losses[epoch]}, in {datetime.now() - t0}\")\n",
    "        \n",
    "        \n",
    "        # हामी उत्तम मोडेल बचत गर्छौं\n",
    "        if valid_losses[epoch] < best_valid_loss:\n",
    "            best_valid_loss = valid_losses[epoch]\n",
    "            torch.save({\n",
    "                'epoch': epoch+1,\n",
    "                'model_state_dict': model.state_dict(),\n",
    "                'optimizer_state_dict': optimizer.state_dict(),\n",
    "                'loss': criterion,\n",
    "                }, 'best_model.pth')\n",
    "            \n",
    "    checkpoint = torch.load('best_model.pth')\n",
    "    model.load_state_dict(checkpoint['model_state_dict'])\n",
    "        \n",
    "    return train_losses, valid_losses, model"
   ]
  },
  {
   "cell_type": "markdown",
   "id": "7bf1d783",
   "metadata": {},
   "source": [
    "We setup the model, criterion (a binary cross entropy), and the optimizer (Adam).\n",
    "\n",
    "Note that BCEWithLogitsLoss use a mathematical trick to incorporate the sigmoid function in its computation. This trick makes the learning process go slightly faster and is the reason why we didn't put a sigmoid in the forward function of the model."
   ]
  },
  {
   "cell_type": "code",
   "execution_count": 114,
   "id": "8d5c7e42",
   "metadata": {},
   "outputs": [],
   "source": [
    "model = RNN(len(vocabulary), 32, 64, 1, 1).to(device)\n",
    "criterion = nn.BCEWithLogitsLoss()\n",
    "optimizer = torch.optim.Adam(model.parameters())"
   ]
  },
  {
   "cell_type": "markdown",
   "id": "e82d2ed1",
   "metadata": {},
   "source": [
    "We get the 3 generators."
   ]
  },
  {
   "cell_type": "code",
   "execution_count": 68,
   "id": "19721715",
   "metadata": {},
   "outputs": [],
   "source": [
    "train_gen = lambda: data_generator(encoded_dataset[\"train\"][\"text\"], encoded_dataset[\"train\"][\"label\"])\n",
    "valid_gen = lambda: data_generator(encoded_dataset[\"validation\"][\"text\"], encoded_dataset[\"validation\"][\"label\"])\n",
    "test_gen = lambda: data_generator(encoded_dataset[\"test\"][\"text\"], encoded_dataset[\"test\"][\"label\"])"
   ]
  },
  {
   "cell_type": "markdown",
   "id": "111a2782",
   "metadata": {},
   "source": [
    "And train the model."
   ]
  },
  {
   "cell_type": "code",
   "execution_count": 69,
   "id": "f77710e4",
   "metadata": {},
   "outputs": [
    {
     "name": "stdout",
     "output_type": "stream",
     "text": [
      "Epoch: 0, training loss: 0.6770735774040222, validation loss: 0.645826469561097, in 0:00:19.724074\n",
      "Epoch: 1, training loss: 0.6337451196193695, validation loss: 0.6628298581026162, in 0:00:18.803235\n",
      "Epoch: 2, training loss: 0.5959069635868073, validation loss: 0.5873274414023016, in 0:00:17.717405\n",
      "Epoch: 3, training loss: 0.5742939840316772, validation loss: 0.5969797765753072, in 0:00:17.881901\n",
      "Epoch: 4, training loss: 0.5196412842273712, validation loss: 0.6407285104891297, in 0:00:17.271417\n",
      "Epoch: 5, training loss: 0.49719695329666136, validation loss: 0.604078503740821, in 0:00:17.546821\n",
      "Epoch: 6, training loss: 0.5079710757255554, validation loss: 0.6617345874476585, in 0:00:18.096178\n",
      "Epoch: 7, training loss: 0.5102080523967742, validation loss: 0.5647881452445012, in 0:00:17.939302\n",
      "Epoch: 8, training loss: 0.4172964188337326, validation loss: 0.5307563376274838, in 0:00:17.888167\n",
      "Epoch: 9, training loss: 0.41076723184585573, validation loss: 0.5598306033262022, in 0:00:17.870752\n",
      "Epoch: 10, training loss: 0.542015906381607, validation loss: 0.5420050867803538, in 0:00:21.682249\n",
      "Epoch: 11, training loss: 0.45884370398521424, validation loss: 0.7062717178824601, in 0:00:20.820637\n",
      "Epoch: 12, training loss: 0.5042380522251129, validation loss: 0.5724408265891349, in 0:00:20.731862\n",
      "Epoch: 13, training loss: 0.43454052419662476, validation loss: 0.5690013086719877, in 0:00:19.364724\n",
      "Epoch: 14, training loss: 0.35863340280056, validation loss: 0.5284800108071346, in 0:00:21.235883\n",
      "Epoch: 15, training loss: 0.3327993683338165, validation loss: 0.6110650838180712, in 0:00:19.726164\n",
      "Epoch: 16, training loss: 0.37790128272771834, validation loss: 0.5478512669444844, in 0:00:20.152725\n",
      "Epoch: 17, training loss: 0.3220940280795097, validation loss: 0.5624452123216762, in 0:00:19.921893\n",
      "Epoch: 18, training loss: 0.4051651415467262, validation loss: 0.6096780186246156, in 0:00:20.149440\n",
      "Epoch: 19, training loss: 0.588586865735054, validation loss: 0.6869589758526747, in 0:00:19.910203\n"
     ]
    }
   ],
   "source": [
    "train_losses, valid_losses, model = train(model, criterion, optimizer, 20, train_gen, valid_gen)"
   ]
  },
  {
   "cell_type": "code",
   "execution_count": 70,
   "id": "2243d870",
   "metadata": {},
   "outputs": [
    {
     "data": {
      "text/plain": [
       "RNN(\n",
       "  (embed): Embedding(19112, 32)\n",
       "  (rnn): RNN(32, 64, batch_first=True)\n",
       "  (fc): Linear(in_features=64, out_features=1, bias=True)\n",
       ")"
      ]
     },
     "execution_count": 70,
     "metadata": {},
     "output_type": "execute_result"
    }
   ],
   "source": [
    "model"
   ]
  },
  {
   "cell_type": "markdown",
   "id": "b32776ee",
   "metadata": {},
   "source": [
    "We can look at the training and validation loss."
   ]
  },
  {
   "cell_type": "code",
   "execution_count": 71,
   "id": "7a58b2a2",
   "metadata": {},
   "outputs": [
    {
     "data": {
      "text/plain": [
       "<matplotlib.legend.Legend at 0x7f5baa4f98d0>"
      ]
     },
     "execution_count": 71,
     "metadata": {},
     "output_type": "execute_result"
    },
    {
     "data": {
      "image/png": "[encoded data removed]",
      "text/plain": [
       "<Figure size 640x480 with 1 Axes>"
      ]
     },
     "metadata": {},
     "output_type": "display_data"
    }
   ],
   "source": [
    "plt.plot(train_losses, label=\"Training loss\")\n",
    "plt.plot(valid_losses, label=\"Validation loss\")\n",
    "plt.legend()"
   ]
  },
  {
   "cell_type": "markdown",
   "id": "bb539dca",
   "metadata": {},
   "source": [
    "For the assignment, code the following.\n",
    "\n",
    "- (2 points) The model validation loss should go down and then up. It means the model starts overfitting after a certain number of iterations. Modify the train function so it returns the model found with the best validation loss.\n"
   ]
  },
  {
   "cell_type": "code",
   "execution_count": null,
   "id": "1a0108b9",
   "metadata": {},
   "outputs": [],
   "source": []
  },
  {
   "cell_type": "markdown",
   "id": "11315e70",
   "metadata": {},
   "source": [
    "- (2 points) Add an accuracy function and report the accuracy of the training and test set.\n"
   ]
  },
  {
   "cell_type": "code",
   "execution_count": 78,
   "id": "45d207f1",
   "metadata": {},
   "outputs": [],
   "source": [
    "def check_accuracy(loader, model):\n",
    "    num_correct = 0\n",
    "    num_samples = 0\n",
    "    model.eval()\n",
    "    \n",
    "    with torch.no_grad():\n",
    "        for x, y in loader:\n",
    "            x = x.to(device=device)\n",
    "            y = y.to(device=device)\n",
    "            \n",
    "            scores = model(x)\n",
    "            _, predictions = scores.max(1)\n",
    "            num_correct += (predictions == y).sum()\n",
    "            num_samples += predictions.size(0)\n",
    "        \n",
    "        print(f'Got {num_correct} / {num_samples} with accuracy {float(num_correct)/float(num_samples)*100:.2f}')"
   ]
  },
  {
   "cell_type": "code",
   "execution_count": 80,
   "id": "c5f97355",
   "metadata": {},
   "outputs": [
    {
     "name": "stdout",
     "output_type": "stream",
     "text": [
      "Got 12500 / 25000 with accuracy 50.00\n"
     ]
    }
   ],
   "source": [
    "check_accuracy(test_gen(), model)"
   ]
  },
  {
   "cell_type": "markdown",
   "id": "85a144dc",
   "metadata": {},
   "source": [
    "- (3 points) Create an LSTM class which uses an LSTM instead of an RNN. Compare its results with the RNN.\n"
   ]
  },
  {
   "cell_type": "code",
   "execution_count": 99,
   "id": "9b0598ad",
   "metadata": {},
   "outputs": [],
   "source": [
    "class LSTM(nn.Module):\n",
    "    \"\"\"A simple LSTM module with word embeddings.\n",
    "    \"\"\"\n",
    "    def __init__(self, vocab_size: int, embed_size: int, hidden_size: int, n_layers: int, n_outputs: int) -> None:\n",
    "        \"\"\"\n",
    "        Args:\n",
    "            vocab_size: vocabulary size.\n",
    "            embed_size: embedding dimensions.\n",
    "            hidden_size: hidden layer size.\n",
    "            n_layers: the number of layers.\n",
    "            n_outputs: the number of output classes.\n",
    "        \"\"\"\n",
    "        super().__init__()\n",
    "        self.vocab_size = vocab_size\n",
    "        self.embed_size = embed_size\n",
    "        self.hidden_size = hidden_size\n",
    "        self.n_layers = n_layers\n",
    "        self.n_outputs = n_outputs\n",
    "\n",
    "\n",
    "        # The word embedding layer.\n",
    "        self.embed = nn.Embedding(self.vocab_size, self.embed_size)\n",
    "        # The LSTM\n",
    "        self.lstm = nn.LSTM(\n",
    "            input_size = self.embed_size,\n",
    "            hidden_size = self.hidden_size,\n",
    "            num_layers = self.n_layers,\n",
    "            batch_first = True, # Changes the order of dimension to put the batches first.\n",
    "        )\n",
    "        # A fully connected layer to project the LSTM's output to only one output used for classification.\n",
    "        self.fc = nn.Linear(self.hidden_size, self.n_outputs)\n",
    "\n",
    "    def forward(self, X: torch.Tensor) -> torch.Tensor:\n",
    "        \"\"\"Function called when the model is called with data as input.\n",
    "        Args:\n",
    "            X: the input tensor of dimensions batch_size, sequence length, vocab size (actually just an int).\n",
    "        Returns:\n",
    "            The resulting tensor of dimension batch_size, sequence length, output dimensions.\n",
    "        \"\"\"\n",
    "        h0 = torch.rand(self.n_layers, X.size(0), self.hidden_size).to(device)\n",
    "        \n",
    "        c0 = torch.rand(self.n_layers, X.size(0), self.hidden_size).to(device)\n",
    "\n",
    "        out = self.embed(X)\n",
    "        # out contains the output layer of all words in the sequence.\n",
    "        # First dim is batch, second the word in the sequence, third is the vector itself.\n",
    "        # The second output value is the last vector of all intermediate layer.\n",
    "        # Only use it if you want to access the intermediate layer values of a\n",
    "        # multilayer model.\n",
    "        out, _ = self.lstm(out, (h0, c0))\n",
    "        # Getting the last value only.\n",
    "        out = out[:, -1, :]\n",
    "    \n",
    "        # Linear projection.\n",
    "        out = self.fc(out)\n",
    "\n",
    "        return out"
   ]
  },
  {
   "cell_type": "code",
   "execution_count": 100,
   "id": "224a6aef",
   "metadata": {},
   "outputs": [],
   "source": [
    "lstm_model = LSTM(len(vocabulary), 32, 64, 1, 1).to(device)\n",
    "criterion = nn.BCEWithLogitsLoss()\n",
    "optimizer = torch.optim.Adam(model.parameters())"
   ]
  },
  {
   "cell_type": "code",
   "execution_count": 105,
   "id": "6ad1273a",
   "metadata": {},
   "outputs": [],
   "source": [
    "#train_losses, valid_losses, lstm_model = train(lstm_model, criterion, optimizer, 20, train_gen, valid_gen)"
   ]
  },
  {
   "cell_type": "code",
   "execution_count": 98,
   "id": "66e43382",
   "metadata": {},
   "outputs": [
    {
     "data": {
      "text/plain": [
       "<matplotlib.legend.Legend at 0x7f5bfa332ef0>"
      ]
     },
     "execution_count": 98,
     "metadata": {},
     "output_type": "execute_result"
    },
    {
     "data": {
      "image/png": "[encoded data removed]",
      "text/plain": [
       "<Figure size 640x480 with 1 Axes>"
      ]
     },
     "metadata": {},
     "output_type": "display_data"
    }
   ],
   "source": [
    "plt.plot(train_losses, label=\"Training loss\")\n",
    "plt.plot(valid_losses, label=\"Validation loss\")\n",
    "plt.legend()"
   ]
  },
  {
   "cell_type": "markdown",
   "id": "377df86c",
   "metadata": {},
   "source": [
    "- (2 point) Implement a function which takes any text and return the model's prediction.\\\n",
    "The function should have a string as input and return a class (0 or 1) and its probability (score out of a sigmoid).\\\n",
    "Don't forget to make the text go through the same pretreatment and encoding you used to train your model.\n"
   ]
  },
  {
   "cell_type": "code",
   "execution_count": 115,
   "id": "5f683edd",
   "metadata": {},
   "outputs": [
    {
     "data": {
      "text/plain": [
       "tensor([[-0.4825]], device='cuda:0', grad_fn=<AddmmBackward0>)"
      ]
     },
     "execution_count": 115,
     "metadata": {},
     "output_type": "execute_result"
    }
   ],
   "source": [
    "def model_predict(model, txt: str) -> int:\n",
    "    return model(torch.tensor([encode_text(pretreatment(txt))]).to(device))\n",
    "\n",
    "model_predict(model, \"I like this movie a lot\")"
   ]
  },
  {
   "cell_type": "markdown",
   "id": "3d63d6b0",
   "metadata": {},
   "source": [
    "- (3 points) Create a bidirectional LSTM (BiLSTM) class to classify your sentences. Report the accuracy on the training and test data.\n",
    "To combine the last output of both direction, you can concatenate, add, or max-pool them. Please document your choice.\n"
   ]
  },
  {
   "cell_type": "code",
   "execution_count": null,
   "id": "555b916b",
   "metadata": {},
   "outputs": [],
   "source": [
    "class BiLSTM(nn.Module):\n",
    "    \"\"\"A simple LSTM module with word embeddings.\n",
    "    \"\"\"\n",
    "    def __init__(self, vocab_size: int, embed_size: int, hidden_size: int, n_layers: int, n_outputs: int) -> None:\n",
    "        \"\"\"\n",
    "        Args:\n",
    "            vocab_size: vocabulary size.\n",
    "            embed_size: embedding dimensions.\n",
    "            hidden_size: hidden layer size.\n",
    "            n_layers: the number of layers.\n",
    "            n_outputs: the number of output classes.\n",
    "        \"\"\"\n",
    "        super().__init__()\n",
    "        self.vocab_size = vocab_size\n",
    "        self.embed_size = embed_size\n",
    "        self.hidden_size = hidden_size\n",
    "        self.n_layers = n_layers\n",
    "        self.n_outputs = n_outputs\n",
    "\n",
    "        self.embed = nn.Embedding(self.vocab_size, self.embed_size)\n",
    "        \n",
    "        self.lstm = nn.LSTM(\n",
    "            input_size = self.embed_size,\n",
    "            hidden_size = self.hidden_size,\n",
    "            num_layers = self.n_layers,\n",
    "            batch_first = True\n",
    "        )\n",
    "        self.fc = nn.Linear(self.hidden_size, self.n_outputs)\n",
    "\n",
    "    def forward(self, X: torch.Tensor) -> torch.Tensor:\n",
    "        \"\"\"Function called when the model is called with data as input.\n",
    "        Args:\n",
    "            X: the input tensor of dimensions batch_size, sequence length, vocab size (actually just an int).\n",
    "        Returns:\n",
    "            The resulting tensor of dimension batch_size, sequence length, output dimensions.\n",
    "        \"\"\"\n",
    "        h0 = torch.rand(self.n_layers, X.size(0), self.hidden_size).to(device)\n",
    "        \n",
    "        c0 = torch.rand(self.n_layers, X.size(0), self.hidden_size).to(device)\n",
    "\n",
    "        out = self.embed(X)\n",
    "\n",
    "        out, _ = self.lstm(out, (h0, c0))\n",
    "\n",
    "        out = out[:, -1, :]\n",
    "\n",
    "        out = self.fc(out)\n",
    "\n",
    "        return out"
   ]
  },
  {
   "cell_type": "markdown",
   "id": "af06892c",
   "metadata": {},
   "source": [
    "- (1 point) With your best classifier, look at two wrongly classified examples on the test set. Try explaining why the model was wrong.\n"
   ]
  },
  {
   "cell_type": "code",
   "execution_count": null,
   "id": "fc83d991",
   "metadata": {},
   "outputs": [],
   "source": []
  },
  {
   "cell_type": "markdown",
   "id": "5c48ebbb",
   "metadata": {},
   "source": [
    "- (Bonus) Try finding better hyperparameters (dimensions, number of layers, ...). Document your experiments and results."
   ]
  },
  {
   "cell_type": "code",
   "execution_count": null,
   "id": "64d9891a",
   "metadata": {},
   "outputs": [],
   "source": []
  }
 ],
 "metadata": {
  "kernelspec": {
   "display_name": "Python 3 (ipykernel)",
   "language": "python",
   "name": "python3"
  },
  "language_info": {
   "codemirror_mode": {
    "name": "ipython",
    "version": 3
   },
   "file_extension": ".py",
   "mimetype": "text/x-python",
   "name": "python",
   "nbconvert_exporter": "python",
   "pygments_lexer": "ipython3",
   "version": "3.10.7"
  }
 },
 "nbformat": 4,
 "nbformat_minor": 5
}
