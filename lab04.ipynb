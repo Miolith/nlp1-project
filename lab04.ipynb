{
 "cells": [
  {
   "cell_type": "code",
   "execution_count": 1,
   "id": "58bda6b3",
   "metadata": {},
   "outputs": [],
   "source": [
    "from collections import defaultdict\n",
    "from copy import deepcopy\n",
    "import re\n",
    "from typing import Callable, List, Tuple\n",
    "\n",
    "from datasets import load_dataset\n",
    "import matplotlib.pyplot as plt\n",
    "import numpy as np\n",
    "import pandas as pd\n",
    "import torch\n",
    "from torch import nn\n",
    "import torch.nn.functional as F\n",
    "from tqdm.auto import tqdm\n",
    "from datetime import datetime\n",
    "from sklearn.utils import shuffle"
   ]
  },
  {
   "cell_type": "code",
   "execution_count": 2,
   "id": "d6d32e95",
   "metadata": {},
   "outputs": [
    {
     "name": "stderr",
     "output_type": "stream",
     "text": [
      "Reusing dataset imdb (/home/miolith/.cache/huggingface/datasets/imdb/plain_text/1.0.0/2fdd8b9bcadd6e7055e742a706876ba43f19faee861df134affd7a3f60fc38a1)\n"
     ]
    },
    {
     "data": {
      "application/vnd.jupyter.widget-view+json": {
       "model_id": "ded6fd94085c4cfe814f1d2969148402",
       "version_major": 2,
       "version_minor": 0
      },
      "text/plain": [
       "  0%|          | 0/3 [00:00<?, ?it/s]"
      ]
     },
     "metadata": {},
     "output_type": "display_data"
    }
   ],
   "source": [
    "dataset = load_dataset(\"imdb\")"
   ]
  },
  {
   "cell_type": "code",
   "execution_count": 3,
   "id": "8009f6b8",
   "metadata": {},
   "outputs": [
    {
     "data": {
      "text/plain": [
       "Dataset({\n",
       "    features: ['text', 'label'],\n",
       "    num_rows: 50000\n",
       "})"
      ]
     },
     "execution_count": 3,
     "metadata": {},
     "output_type": "execute_result"
    }
   ],
   "source": [
    "# We do not need the \"unsupervised\" split.\n",
    "dataset.pop(\"unsupervised\")"
   ]
  },
  {
   "cell_type": "code",
   "execution_count": 4,
   "id": "04ed4601",
   "metadata": {},
   "outputs": [
    {
     "data": {
      "text/plain": [
       "DatasetDict({\n",
       "    train: Dataset({\n",
       "        features: ['text', 'label'],\n",
       "        num_rows: 25000\n",
       "    })\n",
       "    test: Dataset({\n",
       "        features: ['text', 'label'],\n",
       "        num_rows: 25000\n",
       "    })\n",
       "})"
      ]
     },
     "execution_count": 4,
     "metadata": {},
     "output_type": "execute_result"
    }
   ],
   "source": [
    "dataset"
   ]
  },
  {
   "cell_type": "code",
   "execution_count": 5,
   "id": "ee563560",
   "metadata": {},
   "outputs": [
    {
     "data": {
      "text/plain": [
       "{'text': ['I rented I AM CURIOUS-YELLOW from my video store because of all the controversy that surrounded it when it was first released in 1967. I also heard that at first it was seized by U.S. customs if it ever tried to enter this country, therefore being a fan of films considered \"controversial\" I really had to see this for myself.<br /><br />The plot is centered around a young Swedish drama student named Lena who wants to learn everything she can about life. In particular she wants to focus her attentions to making some sort of documentary on what the average Swede thought about certain political issues such as the Vietnam War and race issues in the United States. In between asking politicians and ordinary denizens of Stockholm about their opinions on politics, she has sex with her drama teacher, classmates, and married men.<br /><br />What kills me about I AM CURIOUS-YELLOW is that 40 years ago, this was considered pornographic. Really, the sex and nudity scenes are few and far between, even then it\\'s not shot like some cheaply made porno. While my countrymen mind find it shocking, in reality sex and nudity are a major staple in Swedish cinema. Even Ingmar Bergman, arguably their answer to good old boy John Ford, had sex scenes in his films.<br /><br />I do commend the filmmakers for the fact that any sex shown in the film is shown for artistic purposes rather than just to shock people and make money to be shown in pornographic theaters in America. I AM CURIOUS-YELLOW is a good film for anyone wanting to study the meat and potatoes (no pun intended) of Swedish cinema. But really, this film doesn\\'t have much of a plot.',\n",
       "  '\"I Am Curious: Yellow\" is a risible and pretentious steaming pile. It doesn\\'t matter what one\\'s political views are because this film can hardly be taken seriously on any level. As for the claim that frontal male nudity is an automatic NC-17, that isn\\'t true. I\\'ve seen R-rated films with male nudity. Granted, they only offer some fleeting views, but where are the R-rated films with gaping vulvas and flapping labia? Nowhere, because they don\\'t exist. The same goes for those crappy cable shows: schlongs swinging in the breeze but not a clitoris in sight. And those pretentious indie movies like The Brown Bunny, in which we\\'re treated to the site of Vincent Gallo\\'s throbbing johnson, but not a trace of pink visible on Chloe Sevigny. Before crying (or implying) \"double-standard\" in matters of nudity, the mentally obtuse should take into account one unavoidably obvious anatomical difference between men and women: there are no genitals on display when actresses appears nude, and the same cannot be said for a man. In fact, you generally won\\'t see female genitals in an American film in anything short of porn or explicit erotica. This alleged double-standard is less a double standard than an admittedly depressing ability to come to terms culturally with the insides of women\\'s bodies.'],\n",
       " 'label': [0, 0]}"
      ]
     },
     "execution_count": 5,
     "metadata": {},
     "output_type": "execute_result"
    }
   ],
   "source": [
    "dataset[\"train\"][:2]"
   ]
  },
  {
   "cell_type": "markdown",
   "id": "3541f745",
   "metadata": {},
   "source": [
    "### Pretreatment (1 point)"
   ]
  },
  {
   "cell_type": "code",
   "execution_count": 6,
   "id": "1a404f80",
   "metadata": {},
   "outputs": [],
   "source": [
    "import string\n",
    "import re\n",
    "\n",
    "def pretreatment(text: str) -> str:\n",
    "    \"\"\"Clean IMDB text entries.\n",
    "    Args:\n",
    "        text: an input string.\n",
    "    Returns:\n",
    "        The cleaned text.\n",
    "    \"\"\"\n",
    "    t = text.lower()\n",
    "    t = re.sub('[{}]'.format(string.punctuation), ' ', t)\n",
    "    \n",
    "    return t"
   ]
  },
  {
   "cell_type": "code",
   "execution_count": 7,
   "id": "fdc54127",
   "metadata": {},
   "outputs": [
    {
     "name": "stderr",
     "output_type": "stream",
     "text": [
      "Loading cached processed dataset at /home/miolith/.cache/huggingface/datasets/imdb/plain_text/1.0.0/2fdd8b9bcadd6e7055e742a706876ba43f19faee861df134affd7a3f60fc38a1/cache-c4d8a8a4f4c36dbb.arrow\n",
      "Loading cached processed dataset at /home/miolith/.cache/huggingface/datasets/imdb/plain_text/1.0.0/2fdd8b9bcadd6e7055e742a706876ba43f19faee861df134affd7a3f60fc38a1/cache-de2f4960df506b30.arrow\n"
     ]
    }
   ],
   "source": [
    "# This applies the pretreatment function to all\n",
    "clean_dataset = dataset.map(lambda x: {\"text\": pretreatment(x[\"text\"]), \"label\": x[\"label\"]})"
   ]
  },
  {
   "cell_type": "code",
   "execution_count": 8,
   "id": "c13802e1",
   "metadata": {},
   "outputs": [
    {
     "data": {
      "text/plain": [
       "['i rented i am curious yellow from my video store because of all the controversy that surrounded it when it was first released in 1967  i also heard that at first it was seized by u s  customs if it ever tried to enter this country  therefore being a fan of films considered  controversial  i really had to see this for myself  br    br   the plot is centered around a young swedish drama student named lena who wants to learn everything she can about life  in particular she wants to focus her attentions to making some sort of documentary on what the average swede thought about certain political issues such as the vietnam war and race issues in the united states  in between asking politicians and ordinary denizens of stockholm about their opinions on politics  she has sex with her drama teacher  classmates  and married men  br    br   what kills me about i am curious yellow is that 40 years ago  this was considered pornographic  really  the sex and nudity scenes are few and far between  even then it s not shot like some cheaply made porno  while my countrymen mind find it shocking  in reality sex and nudity are a major staple in swedish cinema  even ingmar bergman  arguably their answer to good old boy john ford  had sex scenes in his films  br    br   i do commend the filmmakers for the fact that any sex shown in the film is shown for artistic purposes rather than just to shock people and make money to be shown in pornographic theaters in america  i am curious yellow is a good film for anyone wanting to study the meat and potatoes  no pun intended  of swedish cinema  but really  this film doesn t have much of a plot ',\n",
       " ' i am curious  yellow  is a risible and pretentious steaming pile  it doesn t matter what one s political views are because this film can hardly be taken seriously on any level  as for the claim that frontal male nudity is an automatic nc 17  that isn t true  i ve seen r rated films with male nudity  granted  they only offer some fleeting views  but where are the r rated films with gaping vulvas and flapping labia  nowhere  because they don t exist  the same goes for those crappy cable shows  schlongs swinging in the breeze but not a clitoris in sight  and those pretentious indie movies like the brown bunny  in which we re treated to the site of vincent gallo s throbbing johnson  but not a trace of pink visible on chloe sevigny  before crying  or implying   double standard  in matters of nudity  the mentally obtuse should take into account one unavoidably obvious anatomical difference between men and women  there are no genitals on display when actresses appears nude  and the same cannot be said for a man  in fact  you generally won t see female genitals in an american film in anything short of porn or explicit erotica  this alleged double standard is less a double standard than an admittedly depressing ability to come to terms culturally with the insides of women s bodies ',\n",
       " 'if only to avoid making this type of film in the future  this film is interesting as an experiment but tells no cogent story  br    br   one might feel virtuous for sitting thru it because it touches on so many important issues but it does so without any discernable motive  the viewer comes away with no new perspectives  unless one comes up with one while one s mind wanders  as it will invariably do during this pointless film   br    br   one might better spend one s time staring out a window at a tree growing  br    br   ']"
      ]
     },
     "execution_count": 8,
     "metadata": {},
     "output_type": "execute_result"
    }
   ],
   "source": [
    "clean_dataset[\"train\"][\"text\"][:3]"
   ]
  },
  {
   "cell_type": "code",
   "execution_count": 9,
   "id": "e3522c54",
   "metadata": {},
   "outputs": [
    {
     "data": {
      "text/plain": [
       "[0, 0, 0, 0, 0, 0, 0, 0, 0, 0, 1, 1, 1, 1, 1, 1, 1, 1, 1, 1]"
      ]
     },
     "execution_count": 9,
     "metadata": {},
     "output_type": "execute_result"
    }
   ],
   "source": [
    "clean_dataset[\"train\"][\"label\"][12490:12510]"
   ]
  },
  {
   "cell_type": "markdown",
   "id": "400fd2db",
   "metadata": {},
   "source": [
    "### Train/validation split (1 point)"
   ]
  },
  {
   "cell_type": "code",
   "execution_count": 10,
   "id": "4b94181c",
   "metadata": {},
   "outputs": [
    {
     "name": "stderr",
     "output_type": "stream",
     "text": [
      "Loading cached split indices for dataset at /home/miolith/.cache/huggingface/datasets/imdb/plain_text/1.0.0/2fdd8b9bcadd6e7055e742a706876ba43f19faee861df134affd7a3f60fc38a1/cache-f9891c004fe29d37.arrow and /home/miolith/.cache/huggingface/datasets/imdb/plain_text/1.0.0/2fdd8b9bcadd6e7055e742a706876ba43f19faee861df134affd7a3f60fc38a1/cache-0b6302faeed5cdf0.arrow\n"
     ]
    }
   ],
   "source": [
    "clean_dataset_split = clean_dataset[\"train\"].train_test_split(train_size=0.8, seed=42)\n",
    "\n",
    "clean_dataset_split[\"validation\"] = clean_dataset_split.pop(\"test\")\n",
    "clean_dataset_split[\"test\"] = clean_dataset[\"test\"]"
   ]
  },
  {
   "cell_type": "code",
   "execution_count": 11,
   "id": "57605c07",
   "metadata": {},
   "outputs": [
    {
     "data": {
      "text/plain": [
       "DatasetDict({\n",
       "    train: Dataset({\n",
       "        features: ['text', 'label'],\n",
       "        num_rows: 20000\n",
       "    })\n",
       "    validation: Dataset({\n",
       "        features: ['text', 'label'],\n",
       "        num_rows: 5000\n",
       "    })\n",
       "    test: Dataset({\n",
       "        features: ['text', 'label'],\n",
       "        num_rows: 25000\n",
       "    })\n",
       "})"
      ]
     },
     "execution_count": 11,
     "metadata": {},
     "output_type": "execute_result"
    }
   ],
   "source": [
    "clean_dataset_split"
   ]
  },
  {
   "cell_type": "code",
   "execution_count": 12,
   "id": "0447dfec",
   "metadata": {},
   "outputs": [
    {
     "name": "stdout",
     "output_type": "stream",
     "text": [
      "La distribution des label dans 'train' : 9994 / 20 000\n",
      "La distribution des label dans 'validation' : 2506 / 5000\n",
      "Les proportions sont conservées\n"
     ]
    }
   ],
   "source": [
    "print(\"La distribution des label dans 'train' :\", sum(clean_dataset_split[\"train\"][\"label\"]), \"/ 20 000\")\n",
    "print(\"La distribution des label dans 'validation' :\", sum(clean_dataset_split[\"validation\"][\"label\"]), \"/ 5000\")\n",
    "\n",
    "print(\"Les proportions sont conservées\")"
   ]
  },
  {
   "cell_type": "markdown",
   "id": "f7044626",
   "metadata": {},
   "source": [
    "### Categorical encoding of the vocabulary (2 points)"
   ]
  },
  {
   "cell_type": "code",
   "execution_count": 13,
   "id": "5c916ca1",
   "metadata": {},
   "outputs": [],
   "source": [
    "UNK_TOKEN = \"<UNK>\"\n",
    "PAD_TOKEN = \"<PAD>\"\n",
    "\n",
    "\n",
    "class Vocabulary:\n",
    "    \"\"\"Vocabulary manager on a collection.\n",
    "    \"\"\"\n",
    "    def __init__(self) -> None:\n",
    "        \"\"\"No parameters to provide.\n",
    "        \"\"\"\n",
    "        # Index to word mapping.\n",
    "        self.index2word = [PAD_TOKEN, UNK_TOKEN]\n",
    "        # Word to index mapping.\n",
    "        self.word2index = {value: key for key, value in enumerate(self.index2word)}\n",
    "        # Word counter.\n",
    "        self.word2count = defaultdict(int)\n",
    "\n",
    "    def add_word(self, word: str) -> None:\n",
    "        \"\"\"Increments the count of a word to the vocabulary.\n",
    "        Args:\n",
    "            word: the word.\n",
    "        \"\"\"\n",
    "        self.word2count[word] += 1\n",
    "        if not word in self.word2index:\n",
    "            self.word2index[word] = len(self.index2word)\n",
    "            self.index2word.append(word)\n",
    "\n",
    "    def add_text(self, text: str, separator: str =\" \") -> None:\n",
    "        \"\"\"Add the words given in a text to our vocabulary.\n",
    "        Args:\n",
    "            text: a sequence of words separated by a given separator.\n",
    "            separator: the separator used to split our text (default is \" \").\n",
    "        \"\"\"\n",
    "        for word in text.split(separator):\n",
    "            self.add_word(word)\n",
    "\n",
    "    def get_index(self, word: str) -> int:\n",
    "        \"\"\"Returns the index of a given word in our vocabulary.\n",
    "        If the word is not in the vocabulary, returns the index for UNK_TOKEN.\n",
    "        Args:\n",
    "            word: a string.\n",
    "        Returns:\n",
    "            The corresponding index or the index for UNK_TOKEN.\n",
    "        \"\"\"\n",
    "        return (\n",
    "            self.word2index[word]\n",
    "            if word in self.word2index\n",
    "            else self.word2index[UNK_TOKEN]\n",
    "        )\n",
    "\n",
    "    def get_word(self, index: int) -> str:\n",
    "        \"\"\"Returns the word at a given index in our vocabulary.\n",
    "        Args:\n",
    "            index: the word position in our vocabulary.\n",
    "        Returns:\n",
    "            The word corresponding to the given index.\n",
    "        \"\"\"\n",
    "        return self.index2word[index]\n",
    "\n",
    "    def get_word_count(self, word: str) -> int:\n",
    "        \"\"\"Returns the number of occurences for a given word.\n",
    "        Raise a \n",
    "        Args:\n",
    "            The word.\n",
    "        Returns:\n",
    "            Its number of measured occurences.\n",
    "        \"\"\"\n",
    "        return self.word2count[word]\n",
    "\n",
    "    def get_vocabulary(self) -> List[str]:\n",
    "        \"\"\"Returns a copy of the whole vocabulary list.\n",
    "        Returns:\n",
    "            A list of words.\n",
    "        \"\"\"\n",
    "        return deepcopy(self.index2word)\n",
    "\n",
    "    def __len__(self) -> int:\n",
    "        \"\"\"len() function.\n",
    "        Returns:\n",
    "            The number of words in the vocabulary.\n",
    "        \"\"\"\n",
    "        return len(self.index2word)\n",
    "\n",
    "    def trim_vocabulary(self, min_occurences: int = 5) -> None:\n",
    "        \"\"\"Trim the vocabulary based on the number of occurrences of each words.\n",
    "        Note that whole counts of deleted words are added to the UNK_TOKEN counts.\n",
    "        Args:\n",
    "            min_occurences: the minimum number of occurences for a word to be kept.\n",
    "        \"\"\"\n",
    "        to_delete = {\n",
    "            word for word, count in self.word2count.items() if count < min_occurences\n",
    "        }\n",
    "        new_word2count = defaultdict(int)\n",
    "        for word, count in self.word2count.items():\n",
    "            if word not in to_delete:\n",
    "                new_word2count[word] = count\n",
    "            else:\n",
    "                new_word2count[UNK_TOKEN] += count\n",
    "        new_index2word = [word for word in self.index2word if word not in to_delete]\n",
    "        new_word2index = {word: index for index, word in enumerate(new_index2word)}\n",
    "\n",
    "        self.word2count = new_word2count\n",
    "        self.index2word = new_index2word\n",
    "        self.word2index = new_word2index"
   ]
  },
  {
   "cell_type": "markdown",
   "id": "a2495e41",
   "metadata": {},
   "source": [
    "### (1 point) Get the vocabulary on both the training and validation set using the Vocabulary class. Trim it down as you see fit (around 20K words in the vocabulary is a good value)."
   ]
  },
  {
   "cell_type": "code",
   "execution_count": 14,
   "id": "1cb87303",
   "metadata": {},
   "outputs": [
    {
     "name": "stdout",
     "output_type": "stream",
     "text": [
      "Il y a 20145 mots de vocabulaire.\n"
     ]
    }
   ],
   "source": [
    "vocabulary = Vocabulary()\n",
    "\n",
    "for text in clean_dataset[\"train\"][\"text\"]:\n",
    "    vocabulary.add_text(text)\n",
    "\n",
    "c = 3\n",
    "while len(vocabulary.word2count) > 21000:\n",
    "    vocabulary.trim_vocabulary(c)\n",
    "    c += 1\n",
    "\n",
    "print(\"Il y a\", len(vocabulary.word2count), \"mots de vocabulaire.\")"
   ]
  },
  {
   "cell_type": "markdown",
   "id": "1fc18785",
   "metadata": {},
   "source": [
    "### (1 point) Fill the encoding and decoding functions. The encoding function takes a text as input and returns a list IDs corresponding to the index of each word in the vocabulary. The decoding function reverse the process, turning a list of IDs into a text. Make sure the encoding function returns a numpy array."
   ]
  },
  {
   "cell_type": "code",
   "execution_count": 15,
   "id": "5c67eef2",
   "metadata": {},
   "outputs": [],
   "source": [
    "def encode_text(text: str) -> np.ndarray:\n",
    "    rep = []\n",
    "    for word in text.split(' '):\n",
    "        rep.append(vocabulary.word2index.get(word, vocabulary.word2index[UNK_TOKEN]))\n",
    "        \n",
    "    return np.array(rep)\n",
    "\n",
    "\n",
    "def decode_text(encoded_text: np.ndarray) -> str:\n",
    "    \n",
    "    return \" \".join(map((lambda x : vocabulary.index2word[x]), encoded_text))"
   ]
  },
  {
   "cell_type": "markdown",
   "id": "28a5b543",
   "metadata": {},
   "source": [
    "To make sure everything went well, we compare a text before and after encoding and then decoding it. You should see rare words / typos replaced by the <UNK> token."
   ]
  },
  {
   "cell_type": "code",
   "execution_count": 16,
   "id": "9261fbc4",
   "metadata": {},
   "outputs": [
    {
     "data": {
      "application/vnd.jupyter.widget-view+json": {
       "model_id": "d56f705e1cb241e7a50ca6c96d12399a",
       "version_major": 2,
       "version_minor": 0
      },
      "text/plain": [
       "  0%|          | 0/20000 [00:00<?, ?ex/s]"
      ]
     },
     "metadata": {},
     "output_type": "display_data"
    },
    {
     "data": {
      "application/vnd.jupyter.widget-view+json": {
       "model_id": "18c4373ec858432ba5f529322d27f357",
       "version_major": 2,
       "version_minor": 0
      },
      "text/plain": [
       "  0%|          | 0/5000 [00:00<?, ?ex/s]"
      ]
     },
     "metadata": {},
     "output_type": "display_data"
    },
    {
     "data": {
      "application/vnd.jupyter.widget-view+json": {
       "model_id": "ace9b9e0129e40678300b902298bc70d",
       "version_major": 2,
       "version_minor": 0
      },
      "text/plain": [
       "  0%|          | 0/25000 [00:00<?, ?ex/s]"
      ]
     },
     "metadata": {},
     "output_type": "display_data"
    }
   ],
   "source": [
    "# Apply the encoding function to the entire dataset.\n",
    "encoded_dataset = clean_dataset_split.map(lambda x: {\"text\": encode_text(x[\"text\"]), \"label\": x[\"label\"]})"
   ]
  },
  {
   "cell_type": "code",
   "execution_count": 17,
   "id": "963a56f8",
   "metadata": {},
   "outputs": [
    {
     "data": {
      "text/plain": [
       "[727,\n",
       " 12574,\n",
       " 2108,\n",
       " 177,\n",
       " 43,\n",
       " 134,\n",
       " 2221,\n",
       " 25,\n",
       " 204,\n",
       " 2108,\n",
       " 278,\n",
       " 317,\n",
       " 704,\n",
       " 125,\n",
       " 43,\n",
       " 153,\n",
       " 1482,\n",
       " 20,\n",
       " 533,\n",
       " 3443,\n",
       " 80,\n",
       " 14,\n",
       " 727,\n",
       " 25,\n",
       " 87,\n",
       " 88,\n",
       " 25,\n",
       " 495,\n",
       " 2262,\n",
       " 25,\n",
       " 25,\n",
       " 25,\n",
       " 15528,\n",
       " 15529,\n",
       " 32,\n",
       " 1572,\n",
       " 1759,\n",
       " 14,\n",
       " 153,\n",
       " 5492,\n",
       " 25,\n",
       " 227,\n",
       " 55,\n",
       " 518,\n",
       " 2605,\n",
       " 1061,\n",
       " 14,\n",
       " 769,\n",
       " 2856,\n",
       " 671,\n",
       " 171,\n",
       " 606,\n",
       " 699,\n",
       " 25,\n",
       " 434,\n",
       " 25,\n",
       " 18,\n",
       " 32,\n",
       " 1464,\n",
       " 37,\n",
       " 654,\n",
       " 28,\n",
       " 51,\n",
       " 81,\n",
       " 18,\n",
       " 55,\n",
       " 25,\n",
       " 14,\n",
       " 4263,\n",
       " 95,\n",
       " 1958,\n",
       " 8491,\n",
       " 91,\n",
       " 6620,\n",
       " 6621,\n",
       " 55,\n",
       " 855,\n",
       " 4908,\n",
       " 25,\n",
       " 14,\n",
       " 11167,\n",
       " 12,\n",
       " 100,\n",
       " 4881,\n",
       " 118,\n",
       " 5388,\n",
       " 25,\n",
       " 8491,\n",
       " 55,\n",
       " 2438,\n",
       " 88,\n",
       " 638,\n",
       " 25,\n",
       " 91,\n",
       " 6621,\n",
       " 1648,\n",
       " 184,\n",
       " 12,\n",
       " 146,\n",
       " 119,\n",
       " 4537,\n",
       " 37,\n",
       " 48,\n",
       " 874,\n",
       " 25,\n",
       " 53,\n",
       " 25,\n",
       " 25,\n",
       " 25,\n",
       " 53,\n",
       " 25,\n",
       " 25,\n",
       " 2,\n",
       " 1832,\n",
       " 16,\n",
       " 2,\n",
       " 199,\n",
       " 514,\n",
       " 200,\n",
       " 13357,\n",
       " 15527,\n",
       " 32,\n",
       " 562,\n",
       " 25,\n",
       " 174,\n",
       " 2,\n",
       " 2669,\n",
       " 16,\n",
       " 4223,\n",
       " 1,\n",
       " 977,\n",
       " 32,\n",
       " 2390,\n",
       " 55,\n",
       " 9528,\n",
       " 25,\n",
       " 14,\n",
       " 918,\n",
       " 55,\n",
       " 3646,\n",
       " 832,\n",
       " 25,\n",
       " 91,\n",
       " 1759,\n",
       " 263,\n",
       " 3568,\n",
       " 25,\n",
       " 25,\n",
       " 20042,\n",
       " 25,\n",
       " 55,\n",
       " 193,\n",
       " 10910,\n",
       " 2259,\n",
       " 153,\n",
       " 25,\n",
       " 91,\n",
       " 55,\n",
       " 12357,\n",
       " 51,\n",
       " 3041,\n",
       " 13,\n",
       " 875,\n",
       " 12,\n",
       " 727,\n",
       " 91,\n",
       " 952,\n",
       " 25,\n",
       " 53,\n",
       " 25,\n",
       " 25,\n",
       " 25,\n",
       " 53,\n",
       " 25,\n",
       " 25,\n",
       " 1548,\n",
       " 1097,\n",
       " 317,\n",
       " 12,\n",
       " 364]"
      ]
     },
     "execution_count": 17,
     "metadata": {},
     "output_type": "execute_result"
    }
   ],
   "source": [
    "encoded_dataset[\"train\"][\"text\"][0][:10]"
   ]
  },
  {
   "cell_type": "code",
   "execution_count": 18,
   "id": "7c234f58",
   "metadata": {},
   "outputs": [
    {
     "data": {
      "text/plain": [
       "('i rented i am curious yellow from my video store because of all the controversy that surrounded it when it was first released in 1967  i also heard that at first it was seized by u s  customs if it ever tried to enter this country  therefore being a fan of films considered  controversial  i really had to see this for myself  br    br   the plot is centered around a young swedish drama student named lena who wants to learn everything she can about life  in particular she wants to focus her attentions to making some sort of documentary on what the average swede thought about certain political issues such as the vietnam war and race issues in the united states  in between asking politicians and ordinary denizens of stockholm about their opinions on politics  she has sex with her drama teacher  classmates  and married men  br    br   what kills me about i am curious yellow is that 40 years ago  this was considered pornographic  really  the sex and nudity scenes are few and far between  even then it s not shot like some cheaply made porno  while my countrymen mind find it shocking  in reality sex and nudity are a major staple in swedish cinema  even ingmar bergman  arguably their answer to good old boy john ford  had sex scenes in his films  br    br   i do commend the filmmakers for the fact that any sex shown in the film is shown for artistic purposes rather than just to shock people and make money to be shown in pornographic theaters in america  i am curious yellow is a good film for anyone wanting to study the meat and potatoes  no pun intended  of swedish cinema  but really  this film doesn t have much of a plot ',\n",
       " 'stage adaptations often have a major fault  they often come out looking like a film camera was simply placed on the stage  such as  night mother    sidney lumet s direction keeps the film alive  which is especially difficult since the picture offered him no real challenge  still  it s nice to look at for what it is  the chemistry between michael caine and christopher reeve is quite brilliant  the dynamics of their relationship are surprising  caine is fantastic as always  and reeve gets one of his few chances to really act  br    br   i confess that i ve never seen ira levin s play  but i hear that jay <UNK> allen s adaptation is faithful  the script is incredibly convoluted  and keeps you guessing   deathtrap  is an enormously entertaining film  and is recommended for nearly all fans of stage and screen  br    br   7 4 out of 10')"
      ]
     },
     "execution_count": 18,
     "metadata": {},
     "output_type": "execute_result"
    }
   ],
   "source": [
    "clean_dataset[\"train\"][\"text\"][0], decode_text(encoded_dataset[\"train\"][\"text\"][0])"
   ]
  },
  {
   "cell_type": "markdown",
   "id": "263d8568",
   "metadata": {},
   "source": [
    "### Batch preparation (1 point)"
   ]
  },
  {
   "cell_type": "markdown",
   "id": "bb6244d6",
   "metadata": {},
   "source": [
    "To speed up learning, and take advantage of the GPU architecture, we provide data to the model by batches. Since all line in the same batch need to have the same length, we pad lines to the maximum length of each batch."
   ]
  },
  {
   "cell_type": "code",
   "execution_count": 19,
   "id": "31af2af1",
   "metadata": {},
   "outputs": [],
   "source": [
    "def data_generator(X: np.ndarray, y: np.ndarray, batch_size: int = 32, pad_right: bool = False) -> Tuple[np.ndarray, np.ndarray]:\n",
    "    \"\"\"Generate randomly ordered batches of data+labels.\n",
    "    Args:\n",
    "        X: the input data.\n",
    "        y: the corresponding labels.\n",
    "        batch_size: the size of each batch [32].\n",
    "        pad_right: if true, the padding is done on the right [False].\n",
    "    \"\"\"\n",
    "    \n",
    "    X, y = shuffle(X, y)\n",
    "    n_batches = int(np.ceil(len(y) / batch_size))\n",
    "    \n",
    "    for i in range(n_batches):\n",
    "        \n",
    "        end = min((i+1)*batch_size, len(y))\n",
    "        \n",
    "        X_batch = X[i*batch_size:end]\n",
    "        y_batch = y[i*batch_size:end]\n",
    "\n",
    "        # Padding to max ength size within the batch\n",
    "        max_len = np.max([len(x) for x in X_batch])\n",
    "        for j in range(len(X_batch)):\n",
    "            x = X_batch[j]\n",
    "            pad = [vocabulary.get_index(PAD_TOKEN)] * (max_len - len(x))\n",
    "            X_batch[j] = x+pad if pad_right else pad+x\n",
    "\n",
    "        X_batch = torch.from_numpy(np.array(X_batch)).long()\n",
    "        y_batch = torch.from_numpy(np.array(y_batch)).long()\n",
    "\n",
    "        # Yielding results, so every time the function is called, it starts again from here.\n",
    "        yield X_batch, y_batch"
   ]
  },
  {
   "cell_type": "markdown",
   "id": "886e1c3f",
   "metadata": {},
   "source": [
    "Let's see what the batches look like."
   ]
  },
  {
   "cell_type": "code",
   "execution_count": 20,
   "id": "81519d12",
   "metadata": {},
   "outputs": [
    {
     "name": "stdout",
     "output_type": "stream",
     "text": [
      "inputs tensor([[    0,     0,     0,  ...,    32,  3195,    25],\n",
      "        [    0,     0,     0,  ...,     8,  1010,    25],\n",
      "        [    0,     0,     0,  ...,     1,  2630,    25],\n",
      "        ...,\n",
      "        [    0,     0,     0,  ...,   937,   568,    25],\n",
      "        [    0,     0,     0,  ...,  2020,    18,    25],\n",
      "        [    0,     0,     0,  ...,    88, 17928,    25]]) shape: torch.Size([32, 1336])\n",
      "labels tensor([1, 0, 1, 1, 0, 1, 0, 0, 1, 1, 1, 0, 0, 1, 0, 0, 1, 1, 0, 0, 0, 0, 0, 0,\n",
      "        1, 0, 0, 1, 1, 0, 1, 1]) shape: torch.Size([32])\n"
     ]
    }
   ],
   "source": [
    "for inputs, labels in data_generator(encoded_dataset[\"train\"][\"text\"], encoded_dataset[\"train\"][\"label\"]):\n",
    "    print(\"inputs\", inputs, \"shape:\", inputs.shape)\n",
    "    print(\"labels\", labels, \"shape:\", labels.shape)\n",
    "    break"
   ]
  },
  {
   "cell_type": "markdown",
   "id": "b10be4a8",
   "metadata": {},
   "source": [
    "### (1 point) Question: On which side should we pad the data for our use case and why?"
   ]
  },
  {
   "cell_type": "markdown",
   "id": "d77dbcaf",
   "metadata": {},
   "source": [
    "## The answer is 42"
   ]
  },
  {
   "cell_type": "markdown",
   "id": "0d777f9b",
   "metadata": {},
   "source": [
    "## The model (13 points)"
   ]
  },
  {
   "cell_type": "markdown",
   "id": "508bd315",
   "metadata": {},
   "source": [
    "We use a simple RNN with a configurable number of layers."
   ]
  },
  {
   "cell_type": "code",
   "execution_count": 21,
   "id": "e57960f9",
   "metadata": {},
   "outputs": [
    {
     "data": {
      "text/plain": [
       "device(type='cuda', index=0)"
      ]
     },
     "execution_count": 21,
     "metadata": {},
     "output_type": "execute_result"
    }
   ],
   "source": [
    "# Before starting, let's set up the device. A GPU if available, else the CPU.\n",
    "device = torch.device(\"cuda:0\" if torch.cuda.is_available() else \"cpu\")\n",
    "device"
   ]
  },
  {
   "cell_type": "code",
   "execution_count": 22,
   "id": "0932d732",
   "metadata": {},
   "outputs": [],
   "source": [
    "class RNN(nn.Module):\n",
    "    \"\"\"A simple RNN module with word embeddings.\n",
    "    \"\"\"\n",
    "    def __init__(self, vocab_size: int, embed_size: int, hidden_size: int, n_layers: int, n_outputs: int) -> None:\n",
    "        \"\"\"\n",
    "        Args:\n",
    "            vocab_size: vocabulary size.\n",
    "            embed_size: embedding dimensions.\n",
    "            hidden_size: hidden layer size.\n",
    "            n_layers: the number of layers.\n",
    "            n_outputs: the number of output classes.\n",
    "        \"\"\"\n",
    "        super().__init__()\n",
    "        self.vocab_size = vocab_size\n",
    "        self.embed_size = embed_size\n",
    "        self.hidden_size = hidden_size\n",
    "        self.n_layers = n_layers\n",
    "        self.n_outputs = n_outputs\n",
    "\n",
    "\n",
    "        # The word embedding layer.\n",
    "        self.embed = nn.Embedding(self.vocab_size, self.embed_size)\n",
    "        # The RNN\n",
    "        self.rnn = nn.RNN(\n",
    "            input_size = self.embed_size,\n",
    "            hidden_size = self.hidden_size,\n",
    "            num_layers = self.n_layers,\n",
    "            batch_first = True, # Changes the order of dimension to put the batches first.\n",
    "        )\n",
    "        # A fully connected layer to project the RNN's output to only one output used for classification.\n",
    "        self.fc = nn.Linear(self.hidden_size, self.n_outputs)\n",
    "\n",
    "    def forward(self, X: torch.Tensor) -> torch.Tensor:\n",
    "        \"\"\"Function called when the model is called with data as input.\n",
    "        Args:\n",
    "            X: the input tensor of dimensions batch_size, sequence length, vocab size (actually just an int).\n",
    "        Returns:\n",
    "            The resulting tensor of dimension batch_size, sequence length, output dimensions.\n",
    "        \"\"\"\n",
    "        h0 = torch.zeros(self.n_layers, X.size(0), self.hidden_size).to(device)\n",
    "\n",
    "        out = self.embed(X)\n",
    "        # out contains the output layer of all words in the sequence.\n",
    "        # First dim is batch, second the word in the sequence, third is the vector itself.\n",
    "        # The second output value is the last vector of all intermediate layer.\n",
    "        # Only use it if you want to access the intermediate layer values of a\n",
    "        # multilayer model.\n",
    "        out, _ = self.rnn(out, h0)\n",
    "        # Getting the last value only.\n",
    "        out = out[:, -1, :]\n",
    "    \n",
    "        # Linear projection.\n",
    "        out = self.fc(out)\n",
    "\n",
    "        return out"
   ]
  },
  {
   "cell_type": "markdown",
   "id": "8a8900f5",
   "metadata": {},
   "source": [
    "Note that we do not pass the output through a sigmoid function. This is because pyTorch implements some code optimization within the BCEWithLogitsLoss we'll see later."
   ]
  },
  {
   "cell_type": "code",
   "execution_count": 23,
   "id": "6fbfbd07",
   "metadata": {},
   "outputs": [],
   "source": [
    "def train(\n",
    "    model: nn.Module,\n",
    "    criterion: Callable,\n",
    "    optimizier: torch.optim.Optimizer,\n",
    "    n_epochs: int,\n",
    "    train_gen: Callable,\n",
    "    valid_gen: Callable,\n",
    "):\n",
    "    \"\"\"Train a model using a batch gradient descent.\n",
    "    Args:\n",
    "        model: a class inheriting from nn.Module.\n",
    "        criterion: a loss criterion.\n",
    "        optimizer: an optimizer (e.g. Adam, RMSprop, ...).\n",
    "        n_epochs: the number of training epochs.\n",
    "        train_gen: a callable function returing a batch (data, labels).\n",
    "        valid_gen: a callable function returing a batch (data, labels).\n",
    "    \"\"\"\n",
    "    train_losses = np.zeros(n_epochs)\n",
    "    valid_losses = np.zeros(n_epochs)\n",
    "    best_valid_loss = np.infty\n",
    "\n",
    "    for epoch in range(n_epochs):\n",
    "\n",
    "        t0 = datetime.now()\n",
    "        model.train()\n",
    "        train_loss = []\n",
    "\n",
    "        # Training loop.\n",
    "        for inputs, labels in train_gen():\n",
    "            # labels are of dimension (N,) we turn them into (N, 1).\n",
    "            labels = labels.view(-1, 1).float()\n",
    "            # Put them on the GPU.\n",
    "            inputs, labels = inputs.to(device), labels.to(device)\n",
    "\n",
    "            # Reset the gradient.\n",
    "            optimizer.zero_grad()\n",
    "\n",
    "            outputs = model(inputs)\n",
    "            loss = criterion(outputs, labels)\n",
    "            loss.backward()\n",
    "            optimizier.step()\n",
    "\n",
    "            train_loss.append(loss.item())  # .item() detach the value from GPU.\n",
    "\n",
    "        train_losses[epoch] = np.mean(train_loss)\n",
    "\n",
    "        model.eval()\n",
    "        valid_loss = []\n",
    "        # Evaluation loop.\n",
    "        for inputs, labels in valid_gen():\n",
    "            labels = labels.view(-1, 1).float()\n",
    "            inputs, labels = inputs.to(device), labels.to(device)\n",
    "\n",
    "            outputs = model(inputs)\n",
    "            loss = criterion(outputs, labels)\n",
    "\n",
    "            valid_loss.append(loss.item())\n",
    "\n",
    "        valid_losses[epoch] = np.mean(valid_loss)\n",
    "\n",
    "        print(f\"Epoch: {epoch}, training loss: {train_losses[epoch]}, validation loss: {valid_losses[epoch]}, in {datetime.now() - t0}\")\n",
    "        \n",
    "        \n",
    "        # हामी उत्तम मोडेल बचत गर्छौं\n",
    "        if valid_losses[epoch] < best_valid_loss:\n",
    "            best_valid_loss = valid_losses[epoch]\n",
    "            torch.save({\n",
    "                'epoch': epoch+1,\n",
    "                'model_state_dict': model.state_dict(),\n",
    "                'optimizer_state_dict': optimizer.state_dict(),\n",
    "                'loss': criterion,\n",
    "                }, 'best_model.pth')\n",
    "        \n",
    "\n",
    "    checkpoint = torch.load('best_model.pth')\n",
    "    model.load_state_dict(checkpoint['model_state_dict'])\n",
    "        \n",
    "    return train_losses, valid_losses, model"
   ]
  },
  {
   "cell_type": "markdown",
   "id": "7bf1d783",
   "metadata": {},
   "source": [
    "We setup the model, criterion (a binary cross entropy), and the optimizer (Adam).\n",
    "\n",
    "Note that BCEWithLogitsLoss use a mathematical trick to incorporate the sigmoid function in its computation. This trick makes the learning process go slightly faster and is the reason why we didn't put a sigmoid in the forward function of the model."
   ]
  },
  {
   "cell_type": "code",
   "execution_count": 24,
   "id": "8d5c7e42",
   "metadata": {},
   "outputs": [],
   "source": [
    "model = RNN(len(vocabulary), 32, 64, 1, 1).to(device)\n",
    "criterion = nn.BCEWithLogitsLoss()\n",
    "optimizer = torch.optim.Adam(model.parameters())"
   ]
  },
  {
   "cell_type": "markdown",
   "id": "e82d2ed1",
   "metadata": {},
   "source": [
    "We get the 3 generators."
   ]
  },
  {
   "cell_type": "code",
   "execution_count": 25,
   "id": "19721715",
   "metadata": {},
   "outputs": [],
   "source": [
    "train_gen = lambda: data_generator(encoded_dataset[\"train\"][\"text\"], encoded_dataset[\"train\"][\"label\"])\n",
    "valid_gen = lambda: data_generator(encoded_dataset[\"validation\"][\"text\"], encoded_dataset[\"validation\"][\"label\"])\n",
    "test_gen = lambda: data_generator(encoded_dataset[\"test\"][\"text\"], encoded_dataset[\"test\"][\"label\"])"
   ]
  },
  {
   "cell_type": "markdown",
   "id": "111a2782",
   "metadata": {},
   "source": [
    "And train the model."
   ]
  },
  {
   "cell_type": "code",
   "execution_count": 26,
   "id": "f77710e4",
   "metadata": {},
   "outputs": [
    {
     "name": "stdout",
     "output_type": "stream",
     "text": [
      "Epoch: 0, training loss: 0.6840473382949829, validation loss: 0.6479975554593809, in 0:00:18.132262\n",
      "Epoch: 1, training loss: 0.672635982131958, validation loss: 0.6827804476592192, in 0:00:17.388219\n",
      "Epoch: 2, training loss: 0.6270438889026642, validation loss: 0.6232536114325189, in 0:00:17.263906\n",
      "Epoch: 3, training loss: 0.5740460764408112, validation loss: 0.6924748249873993, in 0:00:17.453780\n",
      "Epoch: 4, training loss: 0.6796653415679932, validation loss: 0.678122093343431, in 0:00:17.097892\n",
      "Epoch: 5, training loss: 0.6431537271499633, validation loss: 0.6543391449436261, in 0:00:17.669267\n",
      "Epoch: 6, training loss: 0.5877858616828918, validation loss: 0.6649281684380428, in 0:00:17.118035\n",
      "Epoch: 7, training loss: 0.5523333605766296, validation loss: 0.6262701734615739, in 0:00:17.393746\n",
      "Epoch: 8, training loss: 0.5292980234146119, validation loss: 0.6277140445390325, in 0:00:17.328436\n",
      "Epoch: 9, training loss: 0.5986278277873993, validation loss: 0.6571680783845817, in 0:00:17.182662\n",
      "Epoch: 10, training loss: 0.5093853324890136, validation loss: 0.5788960202484373, in 0:00:17.250449\n",
      "Epoch: 11, training loss: 0.4683107089757919, validation loss: 0.5608603214002719, in 0:00:17.254758\n",
      "Epoch: 12, training loss: 0.44823967790603636, validation loss: 0.585359998569367, in 0:00:17.389514\n",
      "Epoch: 13, training loss: 0.5107917524337768, validation loss: 0.647938053129585, in 0:00:18.174630\n",
      "Epoch: 14, training loss: 0.4683837654352188, validation loss: 0.5869973529675964, in 0:00:17.350824\n",
      "Epoch: 15, training loss: 0.4258103127002716, validation loss: 0.5709198240641575, in 0:00:17.348019\n",
      "Epoch: 16, training loss: 0.4071242261886597, validation loss: 0.6279894083168855, in 0:00:17.325423\n",
      "Epoch: 17, training loss: 0.4157367041826248, validation loss: 0.5973090265586878, in 0:00:17.206817\n",
      "Epoch: 18, training loss: 0.37085097680091855, validation loss: 0.5996755696595855, in 0:00:17.945260\n",
      "Epoch: 19, training loss: 0.35565132797956467, validation loss: 0.5947694348491681, in 0:00:17.640435\n"
     ]
    }
   ],
   "source": [
    "train_losses, valid_losses, model = train(model, criterion, optimizer, 20, train_gen, valid_gen)"
   ]
  },
  {
   "cell_type": "code",
   "execution_count": 27,
   "id": "2243d870",
   "metadata": {},
   "outputs": [
    {
     "data": {
      "text/plain": [
       "RNN(\n",
       "  (embed): Embedding(20146, 32)\n",
       "  (rnn): RNN(32, 64, batch_first=True)\n",
       "  (fc): Linear(in_features=64, out_features=1, bias=True)\n",
       ")"
      ]
     },
     "execution_count": 27,
     "metadata": {},
     "output_type": "execute_result"
    }
   ],
   "source": [
    "model"
   ]
  },
  {
   "cell_type": "markdown",
   "id": "b32776ee",
   "metadata": {},
   "source": [
    "We can look at the training and validation loss."
   ]
  },
  {
   "cell_type": "code",
   "execution_count": 28,
   "id": "7a58b2a2",
   "metadata": {},
   "outputs": [
    {
     "data": {
      "text/plain": [
       "<matplotlib.legend.Legend at 0x7f96fcf11ab0>"
      ]
     },
     "execution_count": 28,
     "metadata": {},
     "output_type": "execute_result"
    },
    {
     "data": {
      "image/png": "[encoded data removed]",
      "text/plain": [
       "<Figure size 640x480 with 1 Axes>"
      ]
     },
     "metadata": {},
     "output_type": "display_data"
    }
   ],
   "source": [
    "plt.plot(train_losses, label=\"Training loss\")\n",
    "plt.plot(valid_losses, label=\"Validation loss\")\n",
    "plt.legend()"
   ]
  },
  {
   "cell_type": "markdown",
   "id": "bb539dca",
   "metadata": {},
   "source": [
    "### (2 points) The model validation loss should go down and then up. It means the model starts overfitting after a certain number of iterations. Modify the train function so it returns the model found with the best validation loss.\n"
   ]
  },
  {
   "cell_type": "code",
   "execution_count": null,
   "id": "1a0108b9",
   "metadata": {},
   "outputs": [],
   "source": []
  },
  {
   "cell_type": "markdown",
   "id": "11315e70",
   "metadata": {},
   "source": [
    "- (2 points) Add an accuracy function and report the accuracy of the training and test set.\n"
   ]
  },
  {
   "cell_type": "code",
   "execution_count": 29,
   "id": "45d207f1",
   "metadata": {},
   "outputs": [],
   "source": [
    "def check_accuracy(loader, model):\n",
    "    num_correct = 0\n",
    "    num_samples = 0\n",
    "    model.eval()\n",
    "    \n",
    "    with torch.no_grad():\n",
    "        for x, y in loader:\n",
    "            x = x.to(device=device)\n",
    "            y = y.to(device=device)\n",
    "            \n",
    "            scores = model(x)\n",
    "            _, predictions = scores.max(1)\n",
    "            num_correct += (predictions == y).sum()\n",
    "            num_samples += predictions.size(0)\n",
    "        \n",
    "        print(f'Got {num_correct} / {num_samples} with accuracy {float(num_correct)/float(num_samples)*100:.2f}')"
   ]
  },
  {
   "cell_type": "code",
   "execution_count": 30,
   "id": "c5f97355",
   "metadata": {},
   "outputs": [
    {
     "name": "stdout",
     "output_type": "stream",
     "text": [
      "Got 12500 / 25000 with accuracy 50.00\n"
     ]
    }
   ],
   "source": [
    "check_accuracy(test_gen(), model)"
   ]
  },
  {
   "cell_type": "markdown",
   "id": "85a144dc",
   "metadata": {},
   "source": [
    "### (3 points) Create an LSTM class which uses an LSTM. Compare its results with the RNN.\n"
   ]
  },
  {
   "cell_type": "code",
   "execution_count": 31,
   "id": "9b0598ad",
   "metadata": {},
   "outputs": [],
   "source": [
    "class LSTM(nn.Module):\n",
    "    \"\"\"A simple LSTM module with word embeddings.\n",
    "    \"\"\"\n",
    "    def __init__(self, vocab_size: int, embed_size: int, hidden_size: int, n_layers: int, n_outputs: int) -> None:\n",
    "        \"\"\"\n",
    "        Args:\n",
    "            vocab_size: vocabulary size.\n",
    "            embed_size: embedding dimensions.\n",
    "            hidden_size: hidden layer size.\n",
    "            n_layers: the number of layers.\n",
    "            n_outputs: the number of output classes.\n",
    "        \"\"\"\n",
    "        super().__init__()\n",
    "        self.vocab_size = vocab_size\n",
    "        self.embed_size = embed_size\n",
    "        self.hidden_size = hidden_size\n",
    "        self.n_layers = n_layers\n",
    "        self.n_outputs = n_outputs\n",
    "\n",
    "\n",
    "        # The word embedding layer.\n",
    "        self.embed = nn.Embedding(self.vocab_size, self.embed_size)\n",
    "        # The LSTM\n",
    "        self.lstm = nn.LSTM(\n",
    "            input_size = self.embed_size,\n",
    "            hidden_size = self.hidden_size,\n",
    "            num_layers = self.n_layers,\n",
    "            batch_first = True, # Changes the order of dimension to put the batches first.\n",
    "        )\n",
    "        # A fully connected layer to project the LSTM's output to only one output used for classification.\n",
    "        self.fc = nn.Linear(self.hidden_size, self.n_outputs)\n",
    "\n",
    "    def forward(self, X: torch.Tensor) -> torch.Tensor:\n",
    "        \"\"\"Function called when the model is called with data as input.\n",
    "        Args:\n",
    "            X: the input tensor of dimensions batch_size, sequence length, vocab size (actually just an int).\n",
    "        Returns:\n",
    "            The resulting tensor of dimension batch_size, sequence length, output dimensions.\n",
    "        \"\"\"\n",
    "        h0 = torch.zeros(self.n_layers, X.size(0), self.hidden_size).to(device)\n",
    "        \n",
    "        c0 = torch.zeros(self.n_layers, X.size(0), self.hidden_size).to(device)\n",
    "\n",
    "        out = self.embed(X)\n",
    "        out, _ = self.lstm(out, (h0, c0))\n",
    "        out = out[:, -1, :]\n",
    "        out = self.fc(out)\n",
    "\n",
    "        return out"
   ]
  },
  {
   "cell_type": "code",
   "execution_count": 34,
   "id": "224a6aef",
   "metadata": {},
   "outputs": [],
   "source": [
    "lstm_model = LSTM(len(vocabulary), 32, 64, 1, 1).to(device)\n",
    "criterion = nn.BCEWithLogitsLoss()\n",
    "optimizer = torch.optim.Adam(lstm_model.parameters())"
   ]
  },
  {
   "cell_type": "code",
   "execution_count": 35,
   "id": "6ad1273a",
   "metadata": {},
   "outputs": [
    {
     "name": "stdout",
     "output_type": "stream",
     "text": [
      "Epoch: 0, training loss: 0.6765849384307862, validation loss: 0.6506493326964652, in 0:00:21.933659\n",
      "Epoch: 1, training loss: 0.5535585659503937, validation loss: 0.4736336293114219, in 0:00:22.040006\n",
      "Epoch: 2, training loss: 0.377223646736145, validation loss: 0.3526661360909225, in 0:00:22.091671\n",
      "Epoch: 3, training loss: 0.2875144672751427, validation loss: 0.3202485922415545, in 0:00:21.927078\n",
      "Epoch: 4, training loss: 0.22723170381784438, validation loss: 0.3111242174532763, in 0:00:21.882236\n",
      "Epoch: 5, training loss: 0.1832978346914053, validation loss: 0.29402691083159416, in 0:00:21.843782\n",
      "Epoch: 6, training loss: 0.14466511474996804, validation loss: 0.3325881448093873, in 0:00:21.714694\n",
      "Epoch: 7, training loss: 0.11322199930548668, validation loss: 0.3604089189676722, in 0:00:21.887279\n",
      "Epoch: 8, training loss: 0.09053346803039312, validation loss: 0.35307687951643374, in 0:00:21.690596\n",
      "Epoch: 9, training loss: 0.06764193357601762, validation loss: 0.4171828550589123, in 0:00:21.664219\n",
      "Epoch: 10, training loss: 0.056335773529112336, validation loss: 0.40317120814731544, in 0:00:21.671072\n",
      "Epoch: 11, training loss: 0.045835108000785114, validation loss: 0.4355512117747526, in 0:00:21.632630\n",
      "Epoch: 12, training loss: 0.036454836737737056, validation loss: 0.4857737187794439, in 0:00:22.150485\n",
      "Epoch: 13, training loss: 0.033734956753253935, validation loss: 0.4580144608529747, in 0:00:21.863524\n",
      "Epoch: 14, training loss: 0.02782478434368968, validation loss: 0.499962857443169, in 0:00:21.893440\n",
      "Epoch: 15, training loss: 0.02906467084698379, validation loss: 0.5110508347194119, in 0:00:21.632736\n",
      "Epoch: 16, training loss: 0.02310096207410097, validation loss: 0.5283327557051637, in 0:00:21.463461\n",
      "Epoch: 17, training loss: 0.019520409464649856, validation loss: 0.5205244142532491, in 0:00:21.766688\n",
      "Epoch: 18, training loss: 0.01531157431518659, validation loss: 0.5630139737259477, in 0:00:21.730207\n",
      "Epoch: 19, training loss: 0.016343631086312236, validation loss: 0.5664103010222227, in 0:00:21.716163\n"
     ]
    }
   ],
   "source": [
    "train_losses, valid_losses, lstm_model = train(lstm_model, criterion, optimizer, 20, train_gen, valid_gen)"
   ]
  },
  {
   "cell_type": "code",
   "execution_count": 36,
   "id": "66e43382",
   "metadata": {},
   "outputs": [
    {
     "data": {
      "text/plain": [
       "<matplotlib.legend.Legend at 0x7f96fc1f8b50>"
      ]
     },
     "execution_count": 36,
     "metadata": {},
     "output_type": "execute_result"
    },
    {
     "data": {
      "image/png": "[encoded data removed]",
      "text/plain": [
       "<Figure size 640x480 with 1 Axes>"
      ]
     },
     "metadata": {},
     "output_type": "display_data"
    }
   ],
   "source": [
    "plt.plot(train_losses, label=\"Training loss\")\n",
    "plt.plot(valid_losses, label=\"Validation loss\")\n",
    "plt.legend()"
   ]
  },
  {
   "cell_type": "markdown",
   "id": "377df86c",
   "metadata": {},
   "source": [
    "### (2 point) Implement a function which takes any text and return the model's prediction.\\\n",
    "The function should have a string as input and return a class (0 or 1) and its probability (score out of a sigmoid).\\\n",
    "Don't forget to make the text go through the same pretreatment and encoding you used to train your model.\n"
   ]
  },
  {
   "cell_type": "code",
   "execution_count": 37,
   "id": "5f683edd",
   "metadata": {},
   "outputs": [
    {
     "name": "stderr",
     "output_type": "stream",
     "text": [
      "/tmp/ipykernel_5358/3256661349.py:2: UserWarning: Creating a tensor from a list of numpy.ndarrays is extremely slow. Please consider converting the list to a single numpy.ndarray with numpy.array() before converting to a tensor. (Triggered internally at  ../torch/csrc/utils/tensor_new.cpp:204.)\n",
      "  return model(torch.tensor([encode_text(pretreatment(txt))]).to(device))\n"
     ]
    },
    {
     "data": {
      "text/plain": [
       "tensor([[-2.1638]], device='cuda:0', grad_fn=<AddmmBackward0>)"
      ]
     },
     "execution_count": 37,
     "metadata": {},
     "output_type": "execute_result"
    }
   ],
   "source": [
    "def model_predict(model, txt: str) -> int:\n",
    "    return model(torch.tensor([encode_text(pretreatment(txt))]).to(device))\n",
    "\n",
    "model_predict(model, \"I like this movie a lot\")"
   ]
  },
  {
   "cell_type": "markdown",
   "id": "3d63d6b0",
   "metadata": {},
   "source": [
    "### (3 points) Create a bidirectional LSTM (BiLSTM) class to classify your sentences. Report the accuracy on the training and test data.\n",
    "To combine the last output of both direction, you can concatenate, add, or max-pool them. Please document your choice.\n"
   ]
  },
  {
   "cell_type": "code",
   "execution_count": 38,
   "id": "555b916b",
   "metadata": {},
   "outputs": [],
   "source": [
    "class BiLSTM(nn.Module):\n",
    "    \"\"\"A simple LSTM module with word embeddings.\n",
    "    \"\"\"\n",
    "    def __init__(self, vocab_size: int, embed_size: int, hidden_size: int, n_layers: int, n_outputs: int) -> None:\n",
    "        \"\"\"\n",
    "        Args:\n",
    "            vocab_size: vocabulary size.\n",
    "            embed_size: embedding dimensions.\n",
    "            hidden_size: hidden layer size.\n",
    "            n_layers: the number of layers.\n",
    "            n_outputs: the number of output classes.\n",
    "        \"\"\"\n",
    "        super().__init__()\n",
    "        self.vocab_size = vocab_size\n",
    "        self.embed_size = embed_size\n",
    "        self.hidden_size = hidden_size\n",
    "        self.n_layers = n_layers\n",
    "        self.n_outputs = n_outputs\n",
    "\n",
    "        self.embed = nn.Embedding(self.vocab_size, self.embed_size)\n",
    "        \n",
    "        self.lstm = nn.LSTM(\n",
    "            input_size = self.embed_size,\n",
    "            hidden_size = self.hidden_size,\n",
    "            num_layers = self.n_layers,\n",
    "            batch_first = True\n",
    "        )\n",
    "        self.fc = nn.Linear(self.hidden_size, self.n_outputs)\n",
    "\n",
    "    def forward(self, X: torch.Tensor) -> torch.Tensor:\n",
    "        \"\"\"Function called when the model is called with data as input.\n",
    "        Args:\n",
    "            X: the input tensor of dimensions batch_size, sequence length, vocab size (actually just an int).\n",
    "        Returns:\n",
    "            The resulting tensor of dimension batch_size, sequence length, output dimensions.\n",
    "        \"\"\"\n",
    "        h0 = torch.rand(self.n_layers, X.size(0), self.hidden_size).to(device)\n",
    "        \n",
    "        c0 = torch.rand(self.n_layers, X.size(0), self.hidden_size).to(device)\n",
    "\n",
    "        out = self.embed(X)\n",
    "        out, _ = self.lstm(out, (h0, c0))\n",
    "        out = out[:, -1, :]\n",
    "        out = self.fc(out)\n",
    "\n",
    "        return out"
   ]
  },
  {
   "cell_type": "markdown",
   "id": "af06892c",
   "metadata": {},
   "source": [
    "### (1 point) With your best classifier, look at two wrongly classified examples on the test set. Try explaining why the model was wrong.\n"
   ]
  },
  {
   "cell_type": "code",
   "execution_count": null,
   "id": "fc83d991",
   "metadata": {},
   "outputs": [],
   "source": []
  },
  {
   "cell_type": "markdown",
   "id": "5c48ebbb",
   "metadata": {},
   "source": [
    "### (Bonus) Try finding better hyperparameters (dimensions, number of layers, ...). Document your experiments and results."
   ]
  },
  {
   "cell_type": "code",
   "execution_count": null,
   "id": "64d9891a",
   "metadata": {},
   "outputs": [],
   "source": []
  }
 ],
 "metadata": {
  "kernelspec": {
   "display_name": "Python 3 (ipykernel)",
   "language": "python",
   "name": "python3"
  },
  "language_info": {
   "codemirror_mode": {
    "name": "ipython",
    "version": 3
   },
   "file_extension": ".py",
   "mimetype": "text/x-python",
   "name": "python",
   "nbconvert_exporter": "python",
   "pygments_lexer": "ipython3",
   "version": "3.10.7"
  }
 },
 "nbformat": 4,
 "nbformat_minor": 5
}
