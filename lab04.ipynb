{
 "cells": [
  {
   "cell_type": "code",
   "execution_count": 1,
   "id": "58bda6b3",
   "metadata": {},
   "outputs": [],
   "source": [
    "from collections import defaultdict\n",
    "from copy import deepcopy\n",
    "import re\n",
    "from typing import Callable, List, Tuple\n",
    "\n",
    "from datasets import load_dataset\n",
    "import matplotlib.pyplot as plt\n",
    "import numpy as np\n",
    "import pandas as pd\n",
    "import torch\n",
    "from torch import nn\n",
    "import torch.nn.functional as F\n",
    "from tqdm.auto import tqdm\n",
    "from datetime import datetime\n",
    "from sklearn.utils import shuffle"
   ]
  },
  {
   "cell_type": "code",
   "execution_count": 2,
   "id": "d6d32e95",
   "metadata": {},
   "outputs": [
    {
     "name": "stderr",
     "output_type": "stream",
     "text": [
      "Reusing dataset imdb (/home/miolith/.cache/huggingface/datasets/imdb/plain_text/1.0.0/2fdd8b9bcadd6e7055e742a706876ba43f19faee861df134affd7a3f60fc38a1)\n"
     ]
    },
    {
     "data": {
      "application/vnd.jupyter.widget-view+json": {
       "model_id": "742b9039a50a4671922f3308dca81105",
       "version_major": 2,
       "version_minor": 0
      },
      "text/plain": [
       "  0%|          | 0/3 [00:00<?, ?it/s]"
      ]
     },
     "metadata": {},
     "output_type": "display_data"
    }
   ],
   "source": [
    "dataset = load_dataset(\"imdb\")"
   ]
  },
  {
   "cell_type": "code",
   "execution_count": 3,
   "id": "8009f6b8",
   "metadata": {},
   "outputs": [
    {
     "data": {
      "text/plain": [
       "Dataset({\n",
       "    features: ['text', 'label'],\n",
       "    num_rows: 50000\n",
       "})"
      ]
     },
     "execution_count": 3,
     "metadata": {},
     "output_type": "execute_result"
    }
   ],
   "source": [
    "# We do not need the \"unsupervised\" split.\n",
    "dataset.pop(\"unsupervised\")"
   ]
  },
  {
   "cell_type": "code",
   "execution_count": 4,
   "id": "04ed4601",
   "metadata": {},
   "outputs": [
    {
     "data": {
      "text/plain": [
       "DatasetDict({\n",
       "    train: Dataset({\n",
       "        features: ['text', 'label'],\n",
       "        num_rows: 25000\n",
       "    })\n",
       "    test: Dataset({\n",
       "        features: ['text', 'label'],\n",
       "        num_rows: 25000\n",
       "    })\n",
       "})"
      ]
     },
     "execution_count": 4,
     "metadata": {},
     "output_type": "execute_result"
    }
   ],
   "source": [
    "dataset"
   ]
  },
  {
   "cell_type": "code",
   "execution_count": 5,
   "id": "ee563560",
   "metadata": {},
   "outputs": [
    {
     "data": {
      "text/plain": [
       "{'text': ['I rented I AM CURIOUS-YELLOW from my video store because of all the controversy that surrounded it when it was first released in 1967. I also heard that at first it was seized by U.S. customs if it ever tried to enter this country, therefore being a fan of films considered \"controversial\" I really had to see this for myself.<br /><br />The plot is centered around a young Swedish drama student named Lena who wants to learn everything she can about life. In particular she wants to focus her attentions to making some sort of documentary on what the average Swede thought about certain political issues such as the Vietnam War and race issues in the United States. In between asking politicians and ordinary denizens of Stockholm about their opinions on politics, she has sex with her drama teacher, classmates, and married men.<br /><br />What kills me about I AM CURIOUS-YELLOW is that 40 years ago, this was considered pornographic. Really, the sex and nudity scenes are few and far between, even then it\\'s not shot like some cheaply made porno. While my countrymen mind find it shocking, in reality sex and nudity are a major staple in Swedish cinema. Even Ingmar Bergman, arguably their answer to good old boy John Ford, had sex scenes in his films.<br /><br />I do commend the filmmakers for the fact that any sex shown in the film is shown for artistic purposes rather than just to shock people and make money to be shown in pornographic theaters in America. I AM CURIOUS-YELLOW is a good film for anyone wanting to study the meat and potatoes (no pun intended) of Swedish cinema. But really, this film doesn\\'t have much of a plot.',\n",
       "  '\"I Am Curious: Yellow\" is a risible and pretentious steaming pile. It doesn\\'t matter what one\\'s political views are because this film can hardly be taken seriously on any level. As for the claim that frontal male nudity is an automatic NC-17, that isn\\'t true. I\\'ve seen R-rated films with male nudity. Granted, they only offer some fleeting views, but where are the R-rated films with gaping vulvas and flapping labia? Nowhere, because they don\\'t exist. The same goes for those crappy cable shows: schlongs swinging in the breeze but not a clitoris in sight. And those pretentious indie movies like The Brown Bunny, in which we\\'re treated to the site of Vincent Gallo\\'s throbbing johnson, but not a trace of pink visible on Chloe Sevigny. Before crying (or implying) \"double-standard\" in matters of nudity, the mentally obtuse should take into account one unavoidably obvious anatomical difference between men and women: there are no genitals on display when actresses appears nude, and the same cannot be said for a man. In fact, you generally won\\'t see female genitals in an American film in anything short of porn or explicit erotica. This alleged double-standard is less a double standard than an admittedly depressing ability to come to terms culturally with the insides of women\\'s bodies.'],\n",
       " 'label': [0, 0]}"
      ]
     },
     "execution_count": 5,
     "metadata": {},
     "output_type": "execute_result"
    }
   ],
   "source": [
    "dataset[\"train\"][:2]"
   ]
  },
  {
   "cell_type": "markdown",
   "id": "3541f745",
   "metadata": {},
   "source": [
    "### Pretreatment (1 point)"
   ]
  },
  {
   "cell_type": "code",
   "execution_count": 6,
   "id": "1a404f80",
   "metadata": {},
   "outputs": [],
   "source": [
    "import string\n",
    "import re\n",
    "\n",
    "def pretreatment(text: str) -> str:\n",
    "    \"\"\"Clean IMDB text entries.\n",
    "    Args:\n",
    "        text: an input string.\n",
    "    Returns:\n",
    "        The cleaned text.\n",
    "    \"\"\"\n",
    "    t = text.lower()\n",
    "    t = re.sub('[{}]'.format(string.punctuation), ' ', t)\n",
    "    \n",
    "    return t"
   ]
  },
  {
   "cell_type": "code",
   "execution_count": 7,
   "id": "fdc54127",
   "metadata": {},
   "outputs": [
    {
     "name": "stderr",
     "output_type": "stream",
     "text": [
      "Loading cached processed dataset at /home/miolith/.cache/huggingface/datasets/imdb/plain_text/1.0.0/2fdd8b9bcadd6e7055e742a706876ba43f19faee861df134affd7a3f60fc38a1/cache-c4d8a8a4f4c36dbb.arrow\n",
      "Loading cached processed dataset at /home/miolith/.cache/huggingface/datasets/imdb/plain_text/1.0.0/2fdd8b9bcadd6e7055e742a706876ba43f19faee861df134affd7a3f60fc38a1/cache-de2f4960df506b30.arrow\n"
     ]
    }
   ],
   "source": [
    "# This applies the pretreatment function to all\n",
    "clean_dataset = dataset.map(lambda x: {\"text\": pretreatment(x[\"text\"]), \"label\": x[\"label\"]})"
   ]
  },
  {
   "cell_type": "code",
   "execution_count": 8,
   "id": "c13802e1",
   "metadata": {},
   "outputs": [
    {
     "data": {
      "text/plain": [
       "['i rented i am curious yellow from my video store because of all the controversy that surrounded it when it was first released in 1967  i also heard that at first it was seized by u s  customs if it ever tried to enter this country  therefore being a fan of films considered  controversial  i really had to see this for myself  br    br   the plot is centered around a young swedish drama student named lena who wants to learn everything she can about life  in particular she wants to focus her attentions to making some sort of documentary on what the average swede thought about certain political issues such as the vietnam war and race issues in the united states  in between asking politicians and ordinary denizens of stockholm about their opinions on politics  she has sex with her drama teacher  classmates  and married men  br    br   what kills me about i am curious yellow is that 40 years ago  this was considered pornographic  really  the sex and nudity scenes are few and far between  even then it s not shot like some cheaply made porno  while my countrymen mind find it shocking  in reality sex and nudity are a major staple in swedish cinema  even ingmar bergman  arguably their answer to good old boy john ford  had sex scenes in his films  br    br   i do commend the filmmakers for the fact that any sex shown in the film is shown for artistic purposes rather than just to shock people and make money to be shown in pornographic theaters in america  i am curious yellow is a good film for anyone wanting to study the meat and potatoes  no pun intended  of swedish cinema  but really  this film doesn t have much of a plot ',\n",
       " ' i am curious  yellow  is a risible and pretentious steaming pile  it doesn t matter what one s political views are because this film can hardly be taken seriously on any level  as for the claim that frontal male nudity is an automatic nc 17  that isn t true  i ve seen r rated films with male nudity  granted  they only offer some fleeting views  but where are the r rated films with gaping vulvas and flapping labia  nowhere  because they don t exist  the same goes for those crappy cable shows  schlongs swinging in the breeze but not a clitoris in sight  and those pretentious indie movies like the brown bunny  in which we re treated to the site of vincent gallo s throbbing johnson  but not a trace of pink visible on chloe sevigny  before crying  or implying   double standard  in matters of nudity  the mentally obtuse should take into account one unavoidably obvious anatomical difference between men and women  there are no genitals on display when actresses appears nude  and the same cannot be said for a man  in fact  you generally won t see female genitals in an american film in anything short of porn or explicit erotica  this alleged double standard is less a double standard than an admittedly depressing ability to come to terms culturally with the insides of women s bodies ',\n",
       " 'if only to avoid making this type of film in the future  this film is interesting as an experiment but tells no cogent story  br    br   one might feel virtuous for sitting thru it because it touches on so many important issues but it does so without any discernable motive  the viewer comes away with no new perspectives  unless one comes up with one while one s mind wanders  as it will invariably do during this pointless film   br    br   one might better spend one s time staring out a window at a tree growing  br    br   ']"
      ]
     },
     "execution_count": 8,
     "metadata": {},
     "output_type": "execute_result"
    }
   ],
   "source": [
    "clean_dataset[\"train\"][\"text\"][:3]"
   ]
  },
  {
   "cell_type": "code",
   "execution_count": 9,
   "id": "e3522c54",
   "metadata": {},
   "outputs": [
    {
     "data": {
      "text/plain": [
       "[0, 0, 0, 0, 0, 0, 0, 0, 0, 0, 1, 1, 1, 1, 1, 1, 1, 1, 1, 1]"
      ]
     },
     "execution_count": 9,
     "metadata": {},
     "output_type": "execute_result"
    }
   ],
   "source": [
    "clean_dataset[\"train\"][\"label\"][12490:12510]"
   ]
  },
  {
   "cell_type": "markdown",
   "id": "400fd2db",
   "metadata": {},
   "source": [
    "### Train/validation split (1 point)"
   ]
  },
  {
   "cell_type": "code",
   "execution_count": 68,
   "id": "4b94181c",
   "metadata": {},
   "outputs": [],
   "source": [
    "clean_dataset_split = clean_dataset[\"train\"].train_test_split(train_size=0.8, seed=42, stratify_by_column=\"label\")\n",
    "\n",
    "clean_dataset_split[\"validation\"] = clean_dataset_split.pop(\"test\")\n",
    "clean_dataset_split[\"test\"] = clean_dataset[\"test\"]"
   ]
  },
  {
   "cell_type": "code",
   "execution_count": 69,
   "id": "57605c07",
   "metadata": {},
   "outputs": [
    {
     "data": {
      "text/plain": [
       "DatasetDict({\n",
       "    train: Dataset({\n",
       "        features: ['text', 'label'],\n",
       "        num_rows: 20000\n",
       "    })\n",
       "    validation: Dataset({\n",
       "        features: ['text', 'label'],\n",
       "        num_rows: 5000\n",
       "    })\n",
       "    test: Dataset({\n",
       "        features: ['text', 'label'],\n",
       "        num_rows: 25000\n",
       "    })\n",
       "})"
      ]
     },
     "execution_count": 69,
     "metadata": {},
     "output_type": "execute_result"
    }
   ],
   "source": [
    "clean_dataset_split"
   ]
  },
  {
   "cell_type": "markdown",
   "id": "f7044626",
   "metadata": {},
   "source": [
    "### Categorical encoding of the vocabulary (2 points)"
   ]
  },
  {
   "cell_type": "code",
   "execution_count": 13,
   "id": "5c916ca1",
   "metadata": {},
   "outputs": [],
   "source": [
    "UNK_TOKEN = \"<UNK>\"\n",
    "PAD_TOKEN = \"<PAD>\"\n",
    "\n",
    "\n",
    "class Vocabulary:\n",
    "    \"\"\"Vocabulary manager on a collection.\n",
    "    \"\"\"\n",
    "    def __init__(self) -> None:\n",
    "        \"\"\"No parameters to provide.\n",
    "        \"\"\"\n",
    "        # Index to word mapping.\n",
    "        self.index2word = [PAD_TOKEN, UNK_TOKEN]\n",
    "        # Word to index mapping.\n",
    "        self.word2index = {value: key for key, value in enumerate(self.index2word)}\n",
    "        # Word counter.\n",
    "        self.word2count = defaultdict(int)\n",
    "\n",
    "    def add_word(self, word: str) -> None:\n",
    "        \"\"\"Increments the count of a word to the vocabulary.\n",
    "        Args:\n",
    "            word: the word.\n",
    "        \"\"\"\n",
    "        self.word2count[word] += 1\n",
    "        if not word in self.word2index:\n",
    "            self.word2index[word] = len(self.index2word)\n",
    "            self.index2word.append(word)\n",
    "\n",
    "    def add_text(self, text: str, separator: str =\" \") -> None:\n",
    "        \"\"\"Add the words given in a text to our vocabulary.\n",
    "        Args:\n",
    "            text: a sequence of words separated by a given separator.\n",
    "            separator: the separator used to split our text (default is \" \").\n",
    "        \"\"\"\n",
    "        for word in text.split(separator):\n",
    "            self.add_word(word)\n",
    "\n",
    "    def get_index(self, word: str) -> int:\n",
    "        \"\"\"Returns the index of a given word in our vocabulary.\n",
    "        If the word is not in the vocabulary, returns the index for UNK_TOKEN.\n",
    "        Args:\n",
    "            word: a string.\n",
    "        Returns:\n",
    "            The corresponding index or the index for UNK_TOKEN.\n",
    "        \"\"\"\n",
    "        return (\n",
    "            self.word2index[word]\n",
    "            if word in self.word2index\n",
    "            else self.word2index[UNK_TOKEN]\n",
    "        )\n",
    "\n",
    "    def get_word(self, index: int) -> str:\n",
    "        \"\"\"Returns the word at a given index in our vocabulary.\n",
    "        Args:\n",
    "            index: the word position in our vocabulary.\n",
    "        Returns:\n",
    "            The word corresponding to the given index.\n",
    "        \"\"\"\n",
    "        return self.index2word[index]\n",
    "\n",
    "    def get_word_count(self, word: str) -> int:\n",
    "        \"\"\"Returns the number of occurences for a given word.\n",
    "        Raise a \n",
    "        Args:\n",
    "            The word.\n",
    "        Returns:\n",
    "            Its number of measured occurences.\n",
    "        \"\"\"\n",
    "        return self.word2count[word]\n",
    "\n",
    "    def get_vocabulary(self) -> List[str]:\n",
    "        \"\"\"Returns a copy of the whole vocabulary list.\n",
    "        Returns:\n",
    "            A list of words.\n",
    "        \"\"\"\n",
    "        return deepcopy(self.index2word)\n",
    "\n",
    "    def __len__(self) -> int:\n",
    "        \"\"\"len() function.\n",
    "        Returns:\n",
    "            The number of words in the vocabulary.\n",
    "        \"\"\"\n",
    "        return len(self.index2word)\n",
    "\n",
    "    def trim_vocabulary(self, min_occurences: int = 5) -> None:\n",
    "        \"\"\"Trim the vocabulary based on the number of occurrences of each words.\n",
    "        Note that whole counts of deleted words are added to the UNK_TOKEN counts.\n",
    "        Args:\n",
    "            min_occurences: the minimum number of occurences for a word to be kept.\n",
    "        \"\"\"\n",
    "        to_delete = {\n",
    "            word for word, count in self.word2count.items() if count < min_occurences\n",
    "        }\n",
    "        new_word2count = defaultdict(int)\n",
    "        for word, count in self.word2count.items():\n",
    "            if word not in to_delete:\n",
    "                new_word2count[word] = count\n",
    "            else:\n",
    "                new_word2count[UNK_TOKEN] += count\n",
    "        new_index2word = [word for word in self.index2word if word not in to_delete]\n",
    "        new_word2index = {word: index for index, word in enumerate(new_index2word)}\n",
    "\n",
    "        self.word2count = new_word2count\n",
    "        self.index2word = new_index2word\n",
    "        self.word2index = new_word2index"
   ]
  },
  {
   "cell_type": "markdown",
   "id": "a2495e41",
   "metadata": {},
   "source": [
    "### (1 point) Get the vocabulary on both the training and validation set using the Vocabulary class. Trim it down as you see fit (around 20K words in the vocabulary is a good value)."
   ]
  },
  {
   "cell_type": "code",
   "execution_count": 14,
   "id": "1cb87303",
   "metadata": {},
   "outputs": [
    {
     "name": "stdout",
     "output_type": "stream",
     "text": [
      "Il y a 20145 mots de vocabulaire.\n"
     ]
    }
   ],
   "source": [
    "vocabulary = Vocabulary()\n",
    "\n",
    "for text in clean_dataset[\"train\"][\"text\"]:\n",
    "    vocabulary.add_text(text)\n",
    "\n",
    "c = 3\n",
    "while len(vocabulary.word2count) > 21000:\n",
    "    vocabulary.trim_vocabulary(c)\n",
    "    c += 1\n",
    "\n",
    "print(\"Il y a\", len(vocabulary.word2count), \"mots de vocabulaire.\")"
   ]
  },
  {
   "cell_type": "markdown",
   "id": "1fc18785",
   "metadata": {},
   "source": [
    "### (1 point) Fill the encoding and decoding functions. The encoding function takes a text as input and returns a list IDs corresponding to the index of each word in the vocabulary. The decoding function reverse the process, turning a list of IDs into a text. Make sure the encoding function returns a numpy array."
   ]
  },
  {
   "cell_type": "code",
   "execution_count": 15,
   "id": "5c67eef2",
   "metadata": {},
   "outputs": [],
   "source": [
    "def encode_text(text: str) -> np.ndarray:\n",
    "    rep = []\n",
    "    for word in text.split(' '):\n",
    "        rep.append(vocabulary.word2index.get(word, vocabulary.word2index[UNK_TOKEN]))\n",
    "        \n",
    "    return np.array(rep)\n",
    "\n",
    "\n",
    "def decode_text(encoded_text: np.ndarray) -> str:\n",
    "    \n",
    "    return \" \".join(map((lambda x : vocabulary.index2word[x]), encoded_text))"
   ]
  },
  {
   "cell_type": "markdown",
   "id": "28a5b543",
   "metadata": {},
   "source": [
    "To make sure everything went well, we compare a text before and after encoding and then decoding it. You should see rare words / typos replaced by the <UNK> token."
   ]
  },
  {
   "cell_type": "code",
   "execution_count": 16,
   "id": "9261fbc4",
   "metadata": {},
   "outputs": [
    {
     "name": "stderr",
     "output_type": "stream",
     "text": [
      "Loading cached processed dataset at /home/miolith/.cache/huggingface/datasets/imdb/plain_text/1.0.0/2fdd8b9bcadd6e7055e742a706876ba43f19faee861df134affd7a3f60fc38a1/cache-44b243ce633a9d0f.arrow\n",
      "Loading cached processed dataset at /home/miolith/.cache/huggingface/datasets/imdb/plain_text/1.0.0/2fdd8b9bcadd6e7055e742a706876ba43f19faee861df134affd7a3f60fc38a1/cache-017ca4fb7c8438c2.arrow\n",
      "Loading cached processed dataset at /home/miolith/.cache/huggingface/datasets/imdb/plain_text/1.0.0/2fdd8b9bcadd6e7055e742a706876ba43f19faee861df134affd7a3f60fc38a1/cache-c8f000c58c638db3.arrow\n"
     ]
    }
   ],
   "source": [
    "# Apply the encoding function to the entire dataset.\n",
    "encoded_dataset = clean_dataset_split.map(lambda x: {\"text\": encode_text(x[\"text\"]), \"label\": x[\"label\"]})"
   ]
  },
  {
   "cell_type": "code",
   "execution_count": 17,
   "id": "963a56f8",
   "metadata": {},
   "outputs": [
    {
     "data": {
      "text/plain": [
       "[727, 12574, 2108, 177, 43, 134, 2221, 25, 204, 2108]"
      ]
     },
     "execution_count": 17,
     "metadata": {},
     "output_type": "execute_result"
    }
   ],
   "source": [
    "encoded_dataset[\"train\"][\"text\"][0][:10]"
   ]
  },
  {
   "cell_type": "code",
   "execution_count": 18,
   "id": "7c234f58",
   "metadata": {},
   "outputs": [
    {
     "data": {
      "text/plain": [
       "('i rented i am curious yellow from my video store because of all the controversy that surrounded it when it was first released in 1967  i also heard that at first it was seized by u s  customs if it ever tried to enter this country  therefore being a fan of films considered  controversial  i really had to see this for myself  br    br   the plot is centered around a young swedish drama student named lena who wants to learn everything she can about life  in particular she wants to focus her attentions to making some sort of documentary on what the average swede thought about certain political issues such as the vietnam war and race issues in the united states  in between asking politicians and ordinary denizens of stockholm about their opinions on politics  she has sex with her drama teacher  classmates  and married men  br    br   what kills me about i am curious yellow is that 40 years ago  this was considered pornographic  really  the sex and nudity scenes are few and far between  even then it s not shot like some cheaply made porno  while my countrymen mind find it shocking  in reality sex and nudity are a major staple in swedish cinema  even ingmar bergman  arguably their answer to good old boy john ford  had sex scenes in his films  br    br   i do commend the filmmakers for the fact that any sex shown in the film is shown for artistic purposes rather than just to shock people and make money to be shown in pornographic theaters in america  i am curious yellow is a good film for anyone wanting to study the meat and potatoes  no pun intended  of swedish cinema  but really  this film doesn t have much of a plot ',\n",
       " 'stage adaptations often have a major fault  they often come out looking like a film camera was simply placed on the stage  such as  night mother    sidney lumet s direction keeps the film alive  which is especially difficult since the picture offered him no real challenge  still  it s nice to look at for what it is  the chemistry between michael caine and christopher reeve is quite brilliant  the dynamics of their relationship are surprising  caine is fantastic as always  and reeve gets one of his few chances to really act  br    br   i confess that i ve never seen ira levin s play  but i hear that jay <UNK> allen s adaptation is faithful  the script is incredibly convoluted  and keeps you guessing   deathtrap  is an enormously entertaining film  and is recommended for nearly all fans of stage and screen  br    br   7 4 out of 10')"
      ]
     },
     "execution_count": 18,
     "metadata": {},
     "output_type": "execute_result"
    }
   ],
   "source": [
    "clean_dataset[\"train\"][\"text\"][0], decode_text(encoded_dataset[\"train\"][\"text\"][0])"
   ]
  },
  {
   "cell_type": "markdown",
   "id": "263d8568",
   "metadata": {},
   "source": [
    "### Batch preparation (1 point)"
   ]
  },
  {
   "cell_type": "markdown",
   "id": "bb6244d6",
   "metadata": {},
   "source": [
    "To speed up learning, and take advantage of the GPU architecture, we provide data to the model by batches. Since all line in the same batch need to have the same length, we pad lines to the maximum length of each batch."
   ]
  },
  {
   "cell_type": "code",
   "execution_count": 19,
   "id": "31af2af1",
   "metadata": {},
   "outputs": [],
   "source": [
    "def data_generator(X: np.ndarray, y: np.ndarray, batch_size: int = 32, pad_right: bool = False) -> Tuple[np.ndarray, np.ndarray]:\n",
    "    \"\"\"Generate randomly ordered batches of data+labels.\n",
    "    Args:\n",
    "        X: the input data.\n",
    "        y: the corresponding labels.\n",
    "        batch_size: the size of each batch [32].\n",
    "        pad_right: if true, the padding is done on the right [False].\n",
    "    \"\"\"\n",
    "    \n",
    "    X, y = shuffle(X, y)\n",
    "    n_batches = int(np.ceil(len(y) / batch_size))\n",
    "    \n",
    "    for i in range(n_batches):\n",
    "        \n",
    "        end = min((i+1)*batch_size, len(y))\n",
    "        \n",
    "        X_batch = X[i*batch_size:end]\n",
    "        y_batch = y[i*batch_size:end]\n",
    "\n",
    "        # Padding to max ength size within the batch\n",
    "        max_len = np.max([len(x) for x in X_batch])\n",
    "        for j in range(len(X_batch)):\n",
    "            x = X_batch[j]\n",
    "            pad = [vocabulary.get_index(PAD_TOKEN)] * (max_len - len(x))\n",
    "            X_batch[j] = x+pad if pad_right else pad+x\n",
    "\n",
    "        X_batch = torch.from_numpy(np.array(X_batch)).long()\n",
    "        y_batch = torch.from_numpy(np.array(y_batch)).long()\n",
    "\n",
    "        # Yielding results, so every time the function is called, it starts again from here.\n",
    "        yield X_batch, y_batch"
   ]
  },
  {
   "cell_type": "markdown",
   "id": "886e1c3f",
   "metadata": {},
   "source": [
    "Let's see what the batches look like."
   ]
  },
  {
   "cell_type": "code",
   "execution_count": 20,
   "id": "81519d12",
   "metadata": {},
   "outputs": [
    {
     "name": "stdout",
     "output_type": "stream",
     "text": [
      "inputs tensor([[   0,    0,    0,  ..., 1281, 1346,   25],\n",
      "        [   0,    0,    0,  ..., 1302, 1158,   25],\n",
      "        [   0,    0,    0,  ...,  436,   25,   25],\n",
      "        ...,\n",
      "        [   0,    0,    0,  ...,  109,   25,   25],\n",
      "        [   0,    0,    0,  ...,  902,   25,   25],\n",
      "        [   0,    0,    0,  ..., 1318,  224,   25]]) shape: torch.Size([32, 1219])\n",
      "labels tensor([0, 0, 0, 1, 0, 1, 0, 1, 1, 1, 1, 0, 1, 1, 0, 0, 1, 1, 0, 0, 0, 0, 1, 0,\n",
      "        1, 0, 0, 1, 0, 0, 1, 0]) shape: torch.Size([32])\n"
     ]
    }
   ],
   "source": [
    "for inputs, labels in data_generator(encoded_dataset[\"train\"][\"text\"], encoded_dataset[\"train\"][\"label\"]):\n",
    "    print(\"inputs\", inputs, \"shape:\", inputs.shape)\n",
    "    print(\"labels\", labels, \"shape:\", labels.shape)\n",
    "    break"
   ]
  },
  {
   "cell_type": "markdown",
   "id": "b10be4a8",
   "metadata": {},
   "source": [
    "### (1 point) Question: On which side should we pad the data for our use case and why?"
   ]
  },
  {
   "cell_type": "markdown",
   "id": "d77dbcaf",
   "metadata": {},
   "source": [
    "#### On pad les données sequentielles par la gauche car dans un RNN, les derniers mots entrés ont plus d'impact sur le résultat que les premiers mots du texte."
   ]
  },
  {
   "cell_type": "markdown",
   "id": "0d777f9b",
   "metadata": {},
   "source": [
    "## The model (13 points)"
   ]
  },
  {
   "cell_type": "markdown",
   "id": "508bd315",
   "metadata": {},
   "source": [
    "We use a simple RNN with a configurable number of layers."
   ]
  },
  {
   "cell_type": "code",
   "execution_count": 21,
   "id": "e57960f9",
   "metadata": {},
   "outputs": [
    {
     "data": {
      "text/plain": [
       "device(type='cuda', index=0)"
      ]
     },
     "execution_count": 21,
     "metadata": {},
     "output_type": "execute_result"
    }
   ],
   "source": [
    "# Before starting, let's set up the device. A GPU if available, else the CPU.\n",
    "device = torch.device(\"cuda:0\" if torch.cuda.is_available() else \"cpu\")\n",
    "device"
   ]
  },
  {
   "cell_type": "code",
   "execution_count": 22,
   "id": "0932d732",
   "metadata": {},
   "outputs": [],
   "source": [
    "class RNN(nn.Module):\n",
    "    \"\"\"A simple RNN module with word embeddings.\n",
    "    \"\"\"\n",
    "    def __init__(self, vocab_size: int, embed_size: int, hidden_size: int, n_layers: int, n_outputs: int) -> None:\n",
    "        \"\"\"\n",
    "        Args:\n",
    "            vocab_size: vocabulary size.\n",
    "            embed_size: embedding dimensions.\n",
    "            hidden_size: hidden layer size.\n",
    "            n_layers: the number of layers.\n",
    "            n_outputs: the number of output classes.\n",
    "        \"\"\"\n",
    "        super().__init__()\n",
    "        self.vocab_size = vocab_size\n",
    "        self.embed_size = embed_size\n",
    "        self.hidden_size = hidden_size\n",
    "        self.n_layers = n_layers\n",
    "        self.n_outputs = n_outputs\n",
    "\n",
    "\n",
    "        # The word embedding layer.\n",
    "        self.embed = nn.Embedding(self.vocab_size, self.embed_size)\n",
    "        # The RNN\n",
    "        self.rnn = nn.RNN(\n",
    "            input_size = self.embed_size,\n",
    "            hidden_size = self.hidden_size,\n",
    "            num_layers = self.n_layers,\n",
    "            batch_first = True, # Changes the order of dimension to put the batches first.\n",
    "        )\n",
    "        # A fully connected layer to project the RNN's output to only one output used for classification.\n",
    "        self.fc = nn.Linear(self.hidden_size, self.n_outputs)\n",
    "\n",
    "    def forward(self, X: torch.Tensor) -> torch.Tensor:\n",
    "        \"\"\"Function called when the model is called with data as input.\n",
    "        Args:\n",
    "            X: the input tensor of dimensions batch_size, sequence length, vocab size (actually just an int).\n",
    "        Returns:\n",
    "            The resulting tensor of dimension batch_size, sequence length, output dimensions.\n",
    "        \"\"\"\n",
    "        h0 = torch.zeros(self.n_layers, X.size(0), self.hidden_size).to(device)\n",
    "\n",
    "        out = self.embed(X)\n",
    "        # out contains the output layer of all words in the sequence.\n",
    "        # First dim is batch, second the word in the sequence, third is the vector itself.\n",
    "        # The second output value is the last vector of all intermediate layer.\n",
    "        # Only use it if you want to access the intermediate layer values of a\n",
    "        # multilayer model.\n",
    "        out, _ = self.rnn(out, h0)\n",
    "        # Getting the last value only.\n",
    "        out = out[:, -1, :]\n",
    "    \n",
    "        # Linear projection.\n",
    "        out = self.fc(out)\n",
    "\n",
    "        return out"
   ]
  },
  {
   "cell_type": "markdown",
   "id": "8a8900f5",
   "metadata": {},
   "source": [
    "Note that we do not pass the output through a sigmoid function. This is because pyTorch implements some code optimization within the BCEWithLogitsLoss we'll see later."
   ]
  },
  {
   "cell_type": "code",
   "execution_count": 23,
   "id": "6fbfbd07",
   "metadata": {},
   "outputs": [],
   "source": [
    "def train(\n",
    "    model: nn.Module,\n",
    "    criterion: Callable,\n",
    "    optimizier: torch.optim.Optimizer,\n",
    "    n_epochs: int,\n",
    "    train_gen: Callable,\n",
    "    valid_gen: Callable,\n",
    "):\n",
    "    \"\"\"Train a model using a batch gradient descent.\n",
    "    Args:\n",
    "        model: a class inheriting from nn.Module.\n",
    "        criterion: a loss criterion.\n",
    "        optimizer: an optimizer (e.g. Adam, RMSprop, ...).\n",
    "        n_epochs: the number of training epochs.\n",
    "        train_gen: a callable function returing a batch (data, labels).\n",
    "        valid_gen: a callable function returing a batch (data, labels).\n",
    "    \"\"\"\n",
    "    train_losses = np.zeros(n_epochs)\n",
    "    valid_losses = np.zeros(n_epochs)\n",
    "    best_valid_loss = np.infty\n",
    "\n",
    "    for epoch in range(n_epochs):\n",
    "\n",
    "        t0 = datetime.now()\n",
    "        model.train()\n",
    "        train_loss = []\n",
    "\n",
    "        # Training loop.\n",
    "        for inputs, labels in train_gen():\n",
    "            # labels are of dimension (N,) we turn them into (N, 1).\n",
    "            labels = labels.view(-1, 1).float()\n",
    "            # Put them on the GPU.\n",
    "            inputs, labels = inputs.to(device), labels.to(device)\n",
    "\n",
    "            # Reset the gradient.\n",
    "            optimizer.zero_grad()\n",
    "\n",
    "            outputs = model(inputs)\n",
    "            loss = criterion(outputs, labels)\n",
    "            loss.backward()\n",
    "            optimizier.step()\n",
    "\n",
    "            train_loss.append(loss.item())  # .item() detach the value from GPU.\n",
    "\n",
    "        train_losses[epoch] = np.mean(train_loss)\n",
    "\n",
    "        model.eval()\n",
    "        valid_loss = []\n",
    "        # Evaluation loop.\n",
    "        for inputs, labels in valid_gen():\n",
    "            labels = labels.view(-1, 1).float()\n",
    "            inputs, labels = inputs.to(device), labels.to(device)\n",
    "\n",
    "            outputs = model(inputs)\n",
    "            loss = criterion(outputs, labels)\n",
    "\n",
    "            valid_loss.append(loss.item())\n",
    "\n",
    "        valid_losses[epoch] = np.mean(valid_loss)\n",
    "\n",
    "        print(f\"Epoch: {epoch}, training loss: {train_losses[epoch]}, validation loss: {valid_losses[epoch]}, in {datetime.now() - t0}\")\n",
    "        \n",
    "        \n",
    "        # हामी उत्तम मोडेल बचत गर्छौं\n",
    "        # (2 points) The model validation loss should go down and then up. \n",
    "        # It means the model starts overfitting after a certain number of iterations.\n",
    "        # Modify the train function so it returns the model found with the best validation loss\n",
    "        \n",
    "        if valid_losses[epoch] < best_valid_loss:\n",
    "            best_valid_loss = valid_losses[epoch]\n",
    "            print(\"Saving for valid loss =\", best_valid_loss)\n",
    "            torch.save({\n",
    "                'epoch': epoch+1,\n",
    "                'model_state_dict': model.state_dict(),\n",
    "                'optimizer_state_dict': optimizer.state_dict(),\n",
    "                'loss': criterion,\n",
    "                }, 'best_model.pth')\n",
    "        \n",
    "\n",
    "    checkpoint = torch.load('best_model.pth')\n",
    "    model.load_state_dict(checkpoint['model_state_dict'])\n",
    "        \n",
    "    return train_losses, valid_losses, model"
   ]
  },
  {
   "cell_type": "markdown",
   "id": "7bf1d783",
   "metadata": {},
   "source": [
    "We setup the model, criterion (a binary cross entropy), and the optimizer (Adam).\n",
    "\n",
    "Note that BCEWithLogitsLoss use a mathematical trick to incorporate the sigmoid function in its computation. This trick makes the learning process go slightly faster and is the reason why we didn't put a sigmoid in the forward function of the model."
   ]
  },
  {
   "cell_type": "code",
   "execution_count": 24,
   "id": "8d5c7e42",
   "metadata": {},
   "outputs": [],
   "source": [
    "model = RNN(len(vocabulary), 32, 64, 1, 1).to(device)\n",
    "criterion = nn.BCEWithLogitsLoss()\n",
    "optimizer = torch.optim.Adam(model.parameters())"
   ]
  },
  {
   "cell_type": "markdown",
   "id": "e82d2ed1",
   "metadata": {},
   "source": [
    "We get the 3 generators."
   ]
  },
  {
   "cell_type": "code",
   "execution_count": 25,
   "id": "19721715",
   "metadata": {},
   "outputs": [],
   "source": [
    "train_gen = lambda: data_generator(encoded_dataset[\"train\"][\"text\"], encoded_dataset[\"train\"][\"label\"])\n",
    "valid_gen = lambda: data_generator(encoded_dataset[\"validation\"][\"text\"], encoded_dataset[\"validation\"][\"label\"])\n",
    "test_gen = lambda: data_generator(encoded_dataset[\"test\"][\"text\"], encoded_dataset[\"test\"][\"label\"])"
   ]
  },
  {
   "cell_type": "markdown",
   "id": "111a2782",
   "metadata": {},
   "source": [
    "And train the model."
   ]
  },
  {
   "cell_type": "code",
   "execution_count": 26,
   "id": "f77710e4",
   "metadata": {},
   "outputs": [
    {
     "name": "stdout",
     "output_type": "stream",
     "text": [
      "Epoch: 0, training loss: 0.673070501422882, validation loss: 0.6496107695968287, in 0:00:17.077952\n",
      "Saving for valid loss = 0.6496107695968287\n",
      "Epoch: 1, training loss: 0.6187788847923279, validation loss: 0.6270799097741485, in 0:00:16.873999\n",
      "Saving for valid loss = 0.6270799097741485\n",
      "Epoch: 2, training loss: 0.5795074170589447, validation loss: 0.6457774525235414, in 0:00:16.934198\n",
      "Epoch: 3, training loss: 0.5267136847019196, validation loss: 0.615702162882325, in 0:00:16.851606\n",
      "Saving for valid loss = 0.615702162882325\n",
      "Epoch: 4, training loss: 0.5370228237152099, validation loss: 0.5650603499761813, in 0:00:17.042636\n",
      "Saving for valid loss = 0.5650603499761813\n",
      "Epoch: 5, training loss: 0.5282513637304306, validation loss: 0.655332383076856, in 0:00:17.051409\n",
      "Epoch: 6, training loss: 0.538211320400238, validation loss: 0.6072133855455241, in 0:00:17.012195\n",
      "Epoch: 7, training loss: 0.4441088541507721, validation loss: 0.5426884402704847, in 0:00:17.051443\n",
      "Saving for valid loss = 0.5426884402704847\n",
      "Epoch: 8, training loss: 0.40721219427585603, validation loss: 0.5683495128989979, in 0:00:16.993847\n",
      "Epoch: 9, training loss: 0.42824109020233153, validation loss: 0.5584571936707587, in 0:00:16.987293\n",
      "Epoch: 10, training loss: 0.36463258674144744, validation loss: 0.5618537998503181, in 0:00:16.986190\n",
      "Epoch: 11, training loss: 0.32924324300289154, validation loss: 0.5469846632450249, in 0:00:17.035795\n",
      "Epoch: 12, training loss: 0.3061619960904121, validation loss: 0.5547084835874048, in 0:00:17.123524\n",
      "Epoch: 13, training loss: 0.3508870656847954, validation loss: 0.5693689036141535, in 0:00:17.139798\n",
      "Epoch: 14, training loss: 0.2912739322781563, validation loss: 0.6113151655455303, in 0:00:16.990193\n",
      "Epoch: 15, training loss: 0.2788198277056217, validation loss: 0.6177785383288268, in 0:00:17.162652\n",
      "Epoch: 16, training loss: 0.2861100148767233, validation loss: 0.5936232638207211, in 0:00:17.147882\n",
      "Epoch: 17, training loss: 0.24184831958413125, validation loss: 0.630695216310252, in 0:00:17.015704\n",
      "Epoch: 18, training loss: 0.21949827984571457, validation loss: 0.6774983745851334, in 0:00:16.998208\n",
      "Epoch: 19, training loss: 0.5210858116269111, validation loss: 0.5897914678048176, in 0:00:17.094658\n"
     ]
    }
   ],
   "source": [
    "train_losses, valid_losses, model = train(model, criterion, optimizer, 20, train_gen, valid_gen)"
   ]
  },
  {
   "cell_type": "markdown",
   "id": "b32776ee",
   "metadata": {},
   "source": [
    "We can look at the training and validation loss."
   ]
  },
  {
   "cell_type": "code",
   "execution_count": 27,
   "id": "7a58b2a2",
   "metadata": {},
   "outputs": [
    {
     "data": {
      "text/plain": [
       "<matplotlib.legend.Legend at 0x7fa3ccdd8130>"
      ]
     },
     "execution_count": 27,
     "metadata": {},
     "output_type": "execute_result"
    },
    {
     "data": {
      "image/png": "[encoded data removed]",
      "text/plain": [
       "<Figure size 640x480 with 1 Axes>"
      ]
     },
     "metadata": {},
     "output_type": "display_data"
    }
   ],
   "source": [
    "plt.plot(train_losses, label=\"Training loss\")\n",
    "plt.plot(valid_losses, label=\"Validation loss\")\n",
    "plt.legend()"
   ]
  },
  {
   "cell_type": "markdown",
   "id": "11315e70",
   "metadata": {},
   "source": [
    "### (2 points) Add an accuracy function and report the accuracy of the training and test set.\n"
   ]
  },
  {
   "cell_type": "code",
   "execution_count": 28,
   "id": "45d207f1",
   "metadata": {},
   "outputs": [],
   "source": [
    "def check_accuracy(data: np.ndarray, model: nn.Module):\n",
    "    num_correct = 0\n",
    "    num_samples = 0\n",
    "    \n",
    "    with torch.no_grad():\n",
    "        for inputs, labels in data:\n",
    "            inputs = inputs.to(device=device)\n",
    "            labels = labels.to(device=device)\n",
    "            \n",
    "            # prediction = 1 if the model outputs y > 0.5\n",
    "            #            = 0 otherwise\n",
    "            predictions = (torch.flatten((model(inputs)) > 0.5).int()).to(device)\n",
    "            num_correct += (predictions == labels).sum()\n",
    "            num_samples += predictions.size(0)\n",
    "        \n",
    "        print(f'Got {num_correct} / {num_samples} with accuracy {float(num_correct)/float(num_samples)}')"
   ]
  },
  {
   "cell_type": "code",
   "execution_count": 29,
   "id": "c5f97355",
   "metadata": {},
   "outputs": [
    {
     "name": "stdout",
     "output_type": "stream",
     "text": [
      "Train set accuracy on RNN:\n",
      "Got 16746 / 20000 with accuracy 0.8373\n",
      "Test set accuracy on RNN:\n",
      "Got 19140 / 25000 with accuracy 0.7656\n"
     ]
    }
   ],
   "source": [
    "print(\"Train set accuracy on RNN:\")\n",
    "check_accuracy(train_gen(), model)\n",
    "print(\"Test set accuracy on RNN:\")\n",
    "check_accuracy(test_gen(), model)"
   ]
  },
  {
   "cell_type": "markdown",
   "id": "85a144dc",
   "metadata": {},
   "source": [
    "### (3 points) Create an LSTM class which uses an LSTM. Compare its results with the RNN.\n"
   ]
  },
  {
   "cell_type": "code",
   "execution_count": 30,
   "id": "9b0598ad",
   "metadata": {},
   "outputs": [],
   "source": [
    "class LSTM(nn.Module):\n",
    "    \"\"\"A simple LSTM module with word embeddings.\n",
    "    \"\"\"\n",
    "    def __init__(self, vocab_size: int, embed_size: int, hidden_size: int, n_layers: int, n_outputs: int) -> None:\n",
    "        \"\"\"\n",
    "        Args:\n",
    "            vocab_size: vocabulary size.\n",
    "            embed_size: embedding dimensions.\n",
    "            hidden_size: hidden layer size.\n",
    "            n_layers: the number of layers.\n",
    "            n_outputs: the number of output classes.\n",
    "        \"\"\"\n",
    "        super().__init__()\n",
    "        self.vocab_size = vocab_size\n",
    "        self.embed_size = embed_size\n",
    "        self.hidden_size = hidden_size\n",
    "        self.n_layers = n_layers\n",
    "        self.n_outputs = n_outputs\n",
    "        \n",
    "        self.embed = nn.Embedding(self.vocab_size, self.embed_size)\n",
    "        \n",
    "        self.lstm = nn.LSTM(\n",
    "            input_size = self.embed_size,\n",
    "            hidden_size = self.hidden_size,\n",
    "            num_layers = self.n_layers,\n",
    "            batch_first = True\n",
    "        )\n",
    "        \n",
    "        self.fc = nn.Linear(self.hidden_size, self.n_outputs)\n",
    "\n",
    "    def forward(self, X: torch.Tensor) -> torch.Tensor:\n",
    "        \"\"\"Function called when the model is called with data as input.\n",
    "        Args:\n",
    "            X: the input tensor of dimensions batch_size, sequence length, vocab size (actually just an int).\n",
    "        Returns:\n",
    "            The resulting tensor of dimension batch_size, sequence length, output dimensions.\n",
    "        \"\"\"\n",
    "        h0 = torch.zeros(self.n_layers, X.size(0), self.hidden_size).to(device)\n",
    "        \n",
    "        c0 = torch.zeros(self.n_layers, X.size(0), self.hidden_size).to(device)\n",
    "\n",
    "        out = self.embed(X)\n",
    "        out, _ = self.lstm(out, (h0, c0))\n",
    "        out = out[:, -1, :]\n",
    "        out = self.fc(out)\n",
    "\n",
    "        return out"
   ]
  },
  {
   "cell_type": "code",
   "execution_count": 31,
   "id": "224a6aef",
   "metadata": {},
   "outputs": [],
   "source": [
    "lstm_model = LSTM(len(vocabulary), 32, 64, 1, 1).to(device)\n",
    "criterion = nn.BCEWithLogitsLoss()\n",
    "optimizer = torch.optim.Adam(lstm_model.parameters())"
   ]
  },
  {
   "cell_type": "code",
   "execution_count": 32,
   "id": "6ad1273a",
   "metadata": {},
   "outputs": [
    {
     "name": "stdout",
     "output_type": "stream",
     "text": [
      "Epoch: 0, training loss: 0.654587032365799, validation loss: 0.6639783917718632, in 0:00:21.428943\n",
      "Saving for valid loss = 0.6639783917718632\n",
      "Epoch: 1, training loss: 0.5511450848102569, validation loss: 0.5479711404271946, in 0:00:21.199853\n",
      "Saving for valid loss = 0.5479711404271946\n",
      "Epoch: 2, training loss: 0.5154399610996246, validation loss: 0.5331867208146746, in 0:00:21.669444\n",
      "Saving for valid loss = 0.5331867208146746\n",
      "Epoch: 3, training loss: 0.4489753762722015, validation loss: 0.561011821980689, in 0:00:21.277473\n",
      "Epoch: 4, training loss: 0.38647523691654206, validation loss: 0.41350220200742127, in 0:00:21.457732\n",
      "Saving for valid loss = 0.41350220200742127\n",
      "Epoch: 5, training loss: 0.3180704867959023, validation loss: 0.40510952880807743, in 0:00:21.415780\n",
      "Saving for valid loss = 0.40510952880807743\n",
      "Epoch: 6, training loss: 0.2637680352210999, validation loss: 0.3873153501635144, in 0:00:21.419977\n",
      "Saving for valid loss = 0.3873153501635144\n",
      "Epoch: 7, training loss: 0.2284074157178402, validation loss: 0.33316782921267923, in 0:00:21.529115\n",
      "Saving for valid loss = 0.33316782921267923\n",
      "Epoch: 8, training loss: 0.21201412033438682, validation loss: 0.330913670361042, in 0:00:21.406979\n",
      "Saving for valid loss = 0.330913670361042\n",
      "Epoch: 9, training loss: 0.1600405457496643, validation loss: 0.3247571694812957, in 0:00:21.291831\n",
      "Saving for valid loss = 0.3247571694812957\n",
      "Epoch: 10, training loss: 0.14045785865187646, validation loss: 0.3438680392636615, in 0:00:21.678443\n",
      "Epoch: 11, training loss: 0.11164143861085177, validation loss: 0.372716832745844, in 0:00:21.313899\n",
      "Epoch: 12, training loss: 0.09248453571498394, validation loss: 0.3953438844223311, in 0:00:21.507517\n",
      "Epoch: 13, training loss: 0.06898977508731187, validation loss: 0.42877769024129125, in 0:00:21.502931\n",
      "Epoch: 14, training loss: 0.061960578398033976, validation loss: 0.43842827300926684, in 0:00:21.330970\n",
      "Epoch: 15, training loss: 0.04787412793673575, validation loss: 0.5401115799263404, in 0:00:21.600405\n",
      "Epoch: 16, training loss: 0.036539682618901136, validation loss: 0.5414930201568611, in 0:00:21.428661\n",
      "Epoch: 17, training loss: 0.034103731245175004, validation loss: 0.5349619974898305, in 0:00:21.459283\n",
      "Epoch: 18, training loss: 0.02187499407976866, validation loss: 0.5801185421544798, in 0:00:21.416093\n",
      "Epoch: 19, training loss: 0.015225149558251723, validation loss: 0.6656899452150152, in 0:00:21.444051\n"
     ]
    }
   ],
   "source": [
    "train_losses, valid_losses, lstm_model = train(lstm_model, criterion, optimizer, 20, train_gen, valid_gen)"
   ]
  },
  {
   "cell_type": "code",
   "execution_count": 33,
   "id": "66e43382",
   "metadata": {},
   "outputs": [
    {
     "data": {
      "text/plain": [
       "<matplotlib.legend.Legend at 0x7fa3ccb975b0>"
      ]
     },
     "execution_count": 33,
     "metadata": {},
     "output_type": "execute_result"
    },
    {
     "data": {
      "image/png": "[encoded data removed]",
      "text/plain": [
       "<Figure size 640x480 with 1 Axes>"
      ]
     },
     "metadata": {},
     "output_type": "display_data"
    }
   ],
   "source": [
    "plt.plot(train_losses, label=\"Training loss\")\n",
    "plt.plot(valid_losses, label=\"Validation loss\")\n",
    "plt.legend()"
   ]
  },
  {
   "cell_type": "code",
   "execution_count": 34,
   "id": "3ce3b958",
   "metadata": {},
   "outputs": [
    {
     "name": "stdout",
     "output_type": "stream",
     "text": [
      "Train set accuracy on LSTM:\n",
      "Got 19110 / 20000 with accuracy 0.9555\n",
      "Test set accuracy on LSTM:\n",
      "Got 21484 / 25000 with accuracy 0.85936\n"
     ]
    }
   ],
   "source": [
    "print(\"Train set accuracy on LSTM:\")\n",
    "check_accuracy(train_gen(), lstm_model)\n",
    "print(\"Test set accuracy on LSTM:\")\n",
    "check_accuracy(test_gen(), lstm_model)"
   ]
  },
  {
   "cell_type": "markdown",
   "id": "377df86c",
   "metadata": {},
   "source": [
    "### (2 point) Implement a function which takes any text and return the model's prediction.\n",
    "The function should have a string as input and return a class (0 or 1) and its probability (score out of a sigmoid).\\\n",
    "Don't forget to make the text go through the same pretreatment and encoding you used to train your model.\n"
   ]
  },
  {
   "cell_type": "code",
   "execution_count": 56,
   "id": "5f683edd",
   "metadata": {},
   "outputs": [
    {
     "name": "stdout",
     "output_type": "stream",
     "text": [
      "(tensor([[1]], device='cuda:0', dtype=torch.int32), tensor([[0.7337]], device='cuda:0', grad_fn=<SigmoidBackward0>))\n",
      "(tensor([[0]], device='cuda:0', dtype=torch.int32), tensor([[0.8013]], device='cuda:0', grad_fn=<RsubBackward1>))\n"
     ]
    }
   ],
   "source": [
    "def model_predict(model: nn.Module, txt: str):\n",
    "    output = model(torch.tensor(np.array([encode_text(pretreatment(txt))])).to(device))\n",
    "\n",
    "    output_class = (output > 0).int()\n",
    "    probability = nn.Sigmoid()(output) if output_class == 1 else 1 - nn.Sigmoid()(output)\n",
    "    return output_class, probability\n",
    "\n",
    "print(model_predict(lstm_model, \"I adore this movie a lot\"))\n",
    "print(model_predict(lstm_model, \"I hate this movie from every fiber of my being\"))"
   ]
  },
  {
   "cell_type": "markdown",
   "id": "3d63d6b0",
   "metadata": {},
   "source": [
    "### (3 points) Create a bidirectional LSTM (BiLSTM) class to classify your sentences. Report the accuracy on the training and test data.\n",
    "To combine the last output of both direction, you can concatenate, add, or max-pool them. Please document your choice.\n"
   ]
  },
  {
   "cell_type": "code",
   "execution_count": 36,
   "id": "555b916b",
   "metadata": {},
   "outputs": [],
   "source": [
    "class BiLSTM(nn.Module):\n",
    "    \"\"\"A simple LSTM module with word embeddings.\n",
    "    \"\"\"\n",
    "    def __init__(self, vocab_size: int, embed_size: int, hidden_size: int, n_layers: int, n_outputs: int) -> None:\n",
    "        \"\"\"\n",
    "        Args:\n",
    "            vocab_size: vocabulary size.\n",
    "            embed_size: embedding dimensions.\n",
    "            hidden_size: hidden layer size.\n",
    "            n_layers: the number of layers.\n",
    "            n_outputs: the number of output classes.\n",
    "        \"\"\"\n",
    "        super().__init__()\n",
    "        self.vocab_size = vocab_size\n",
    "        self.embed_size = embed_size\n",
    "        self.hidden_size = hidden_size\n",
    "        self.n_layers = n_layers\n",
    "        self.n_outputs = n_outputs\n",
    "\n",
    "        self.embed = nn.Embedding(self.vocab_size, self.embed_size)\n",
    "        \n",
    "        self.lstm = nn.LSTM(\n",
    "            input_size = self.embed_size,\n",
    "            hidden_size = self.hidden_size,\n",
    "            num_layers = self.n_layers,\n",
    "            bidirectional = True,\n",
    "            batch_first = True\n",
    "        )\n",
    "        self.fc = nn.Linear(self.hidden_size * 2, self.n_outputs)\n",
    "\n",
    "    def forward(self, X: torch.Tensor) -> torch.Tensor:\n",
    "        \"\"\"Function called when the model is called with data as input.\n",
    "        Args:\n",
    "            X: the input tensor of dimensions batch_size, sequence length, vocab size (actually just an int).\n",
    "        Returns:\n",
    "            The resulting tensor of dimension batch_size, sequence length, output dimensions.\n",
    "        \"\"\"\n",
    "        h0 = torch.zeros(self.n_layers*2, X.size(0), self.hidden_size).to(device)\n",
    "        \n",
    "        c0 = torch.zeros(self.n_layers*2, X.size(0), self.hidden_size).to(device)\n",
    "\n",
    "        out = self.embed(X)\n",
    "        out, _ = self.lstm(out, (h0, c0))\n",
    "        \n",
    "        out = out[:, -1, :]\n",
    "        out = self.fc(out)\n",
    "\n",
    "        return out"
   ]
  },
  {
   "cell_type": "code",
   "execution_count": 37,
   "id": "7dce29a6",
   "metadata": {},
   "outputs": [],
   "source": [
    "bilstm_model = BiLSTM(len(vocabulary), 32, 64, 1, 1).to(device)\n",
    "criterion = nn.BCEWithLogitsLoss()\n",
    "optimizer = torch.optim.Adam(bilstm_model.parameters())"
   ]
  },
  {
   "cell_type": "code",
   "execution_count": 38,
   "id": "64b02b00",
   "metadata": {},
   "outputs": [
    {
     "name": "stdout",
     "output_type": "stream",
     "text": [
      "Epoch: 0, training loss: 0.6457473314285278, validation loss: 0.5975296470769651, in 0:00:33.742868\n",
      "Saving for valid loss = 0.5975296470769651\n",
      "Epoch: 1, training loss: 0.5468830019950867, validation loss: 0.5052674711699698, in 0:00:34.243123\n",
      "Saving for valid loss = 0.5052674711699698\n",
      "Epoch: 2, training loss: 0.47893245463371276, validation loss: 0.6006452627242751, in 0:00:34.546629\n",
      "Epoch: 3, training loss: 0.44506051831245425, validation loss: 0.4855203421632196, in 0:00:30.814230\n",
      "Saving for valid loss = 0.4855203421632196\n",
      "Epoch: 4, training loss: 0.4310098427772522, validation loss: 0.43597988214842076, in 0:00:33.232354\n",
      "Saving for valid loss = 0.43597988214842076\n",
      "Epoch: 5, training loss: 0.3480692392706871, validation loss: 0.4166596093375212, in 0:00:33.974102\n",
      "Saving for valid loss = 0.4166596093375212\n",
      "Epoch: 6, training loss: 0.29467835150957106, validation loss: 0.3651777465062536, in 0:00:31.745958\n",
      "Saving for valid loss = 0.3651777465062536\n",
      "Epoch: 7, training loss: 0.4213034362077713, validation loss: 0.5917952633967065, in 0:00:33.442050\n",
      "Epoch: 8, training loss: 0.5185449720859527, validation loss: 0.43174275774864634, in 0:00:32.666350\n",
      "Epoch: 9, training loss: 0.4413672960758209, validation loss: 0.4238563739000612, in 0:00:32.079344\n",
      "Epoch: 10, training loss: 0.2596960714280605, validation loss: 0.3790608219280364, in 0:00:33.641549\n",
      "Epoch: 11, training loss: 0.2025613430261612, validation loss: 0.325716367430368, in 0:00:31.773957\n",
      "Saving for valid loss = 0.325716367430368\n",
      "Epoch: 12, training loss: 0.16598807179033756, validation loss: 0.3340254860817437, in 0:00:31.305680\n",
      "Epoch: 13, training loss: 0.14060074532628059, validation loss: 0.36560914440044934, in 0:00:31.637771\n",
      "Epoch: 14, training loss: 0.11773042802959681, validation loss: 0.34742839800514236, in 0:00:32.824147\n",
      "Epoch: 15, training loss: 0.09420315183848142, validation loss: 0.39271488111869546, in 0:00:33.153207\n",
      "Epoch: 16, training loss: 0.07703891307935119, validation loss: 0.41582874002255454, in 0:00:34.167850\n",
      "Epoch: 17, training loss: 0.06422219621837139, validation loss: 0.4426685805153695, in 0:00:33.736969\n",
      "Epoch: 18, training loss: 0.05364838069751859, validation loss: 0.44781116790072933, in 0:00:33.585723\n",
      "Epoch: 19, training loss: 0.0427045333897695, validation loss: 0.5291159039090394, in 0:00:32.491135\n"
     ]
    }
   ],
   "source": [
    "train_losses, valid_losses, bilstm_model = train(bilstm_model, criterion, optimizer, 20, train_gen, valid_gen)"
   ]
  },
  {
   "cell_type": "code",
   "execution_count": 39,
   "id": "028f1ad7",
   "metadata": {},
   "outputs": [
    {
     "data": {
      "text/plain": [
       "<matplotlib.legend.Legend at 0x7fa3cccd2f80>"
      ]
     },
     "execution_count": 39,
     "metadata": {},
     "output_type": "execute_result"
    },
    {
     "data": {
      "image/png": "[encoded data removed]",
      "text/plain": [
       "<Figure size 640x480 with 1 Axes>"
      ]
     },
     "metadata": {},
     "output_type": "display_data"
    }
   ],
   "source": [
    "plt.plot(train_losses, label=\"Training loss\")\n",
    "plt.plot(valid_losses, label=\"Validation loss\")\n",
    "plt.legend()"
   ]
  },
  {
   "cell_type": "code",
   "execution_count": 40,
   "id": "28337e7e",
   "metadata": {},
   "outputs": [
    {
     "name": "stdout",
     "output_type": "stream",
     "text": [
      "Train set accuracy on BiLSTM:\n",
      "Got 18791 / 20000 with accuracy 0.93955\n",
      "Test set accuracy on BiLSTM:\n",
      "Got 21374 / 25000 with accuracy 0.85496\n"
     ]
    }
   ],
   "source": [
    "print(\"Train set accuracy on BiLSTM:\")\n",
    "check_accuracy(train_gen(), bilstm_model)\n",
    "print(\"Test set accuracy on BiLSTM:\")\n",
    "check_accuracy(test_gen(), bilstm_model)"
   ]
  },
  {
   "cell_type": "markdown",
   "id": "af06892c",
   "metadata": {},
   "source": [
    "### (1 point) With your best classifier, look at two wrongly classified examples on the test set. Try explaining why the model was wrong.\n"
   ]
  },
  {
   "cell_type": "code",
   "execution_count": 41,
   "id": "fc83d991",
   "metadata": {},
   "outputs": [
    {
     "name": "stdout",
     "output_type": "stream",
     "text": [
      "RNN accuracy : \n",
      "Got 19140 / 25000 with accuracy 0.7656\n",
      "LSTM accuracy : \n",
      "Got 21484 / 25000 with accuracy 0.85936\n",
      "BiLSTM accuracy : \n",
      "Got 21374 / 25000 with accuracy 0.85496\n"
     ]
    }
   ],
   "source": [
    "print(\"RNN accuracy : \")\n",
    "check_accuracy(test_gen(), model)\n",
    "print(\"LSTM accuracy : \")\n",
    "check_accuracy(test_gen(), lstm_model)\n",
    "print(\"BiLSTM accuracy : \")\n",
    "check_accuracy(test_gen(), bilstm_model)"
   ]
  },
  {
   "cell_type": "markdown",
   "id": "ffc0507e",
   "metadata": {},
   "source": [
    "Le BiLSTM/LSTM semblent être les meilleurs modèles."
   ]
  },
  {
   "cell_type": "code",
   "execution_count": 64,
   "id": "573e773b",
   "metadata": {},
   "outputs": [],
   "source": [
    "best_model = lstm_model\n",
    "\n",
    "failed_sample1 = None\n",
    "failed_sample2 = None\n",
    "\n",
    "for text, label in zip(clean_dataset_split[\"test\"][\"text\"], clean_dataset_split[\"test\"][\"label\"]):\n",
    "    prediction, _ = model_predict(best_model, text)\n",
    "    \n",
    "    if prediction[0][0] == 1 and label == 0:\n",
    "        failed_sample1 = text\n",
    "    if prediction[0][0] == 0 and label == 1:\n",
    "        failed_sample2 = text\n",
    "    \n",
    "    if failed_sample1 is not None and failed_sample2 is not None:\n",
    "        break"
   ]
  },
  {
   "cell_type": "markdown",
   "id": "e0f4ece8",
   "metadata": {},
   "source": [
    "#### Ceci est un faux positif. Le lexique positif peut laisser penser que c'est un commentaire positif alors qu'il considère l'oeuvre ne peut être appréciée que par des enfants."
   ]
  },
  {
   "cell_type": "code",
   "execution_count": 65,
   "id": "c38c4549",
   "metadata": {},
   "outputs": [
    {
     "data": {
      "text/plain": [
       "'the first shiloh film was enjoyable by adults as well as children  this one starts with about an hour of filler where not much happens  with stilted dialogue  only in the last act is there any significant action that really moves the plot along  the dog is still cute  though  and young kids may enjoy it '"
      ]
     },
     "execution_count": 65,
     "metadata": {},
     "output_type": "execute_result"
    }
   ],
   "source": [
    "failed_sample1"
   ]
  },
  {
   "cell_type": "markdown",
   "id": "c01591cf",
   "metadata": {},
   "source": [
    "#### Ceci est un faux négatif. Il relève les défauts du film dans son commentaire mais conclu que le film est au dessus de la moyenne (\"above average\")"
   ]
  },
  {
   "cell_type": "code",
   "execution_count": 66,
   "id": "a858a74f",
   "metadata": {},
   "outputs": [
    {
     "data": {
      "text/plain": [
       "'this is my first deepa mehta film  i saw the film on tv in its hindi version with its  sita  character presented as nita  i also note that it is radha who underwent the allegorical trial by fire in the film and not nita sita  yet what i loved about the film was its screenplay by ms mehta  not her direction  the characters  big and small  were well developed and seemed quixotic towards the end  somewhat like the end of mazursky s  an unmarried woman   they are brave women surrounded by cardboard men  and one cardboard man  ashok  seems to come alive in the last shot we see of him   carrying his invalid mother biji  he seems to finally take on a future responsibility beyond celibacy and adherance to religion   br    br   ms mehta seems to fumble as a director  however  compared to most indian mainstream cinema she would seem to be brilliant  as she cannot use her script to go beyond the microscopic joint family she is presenting except presenting a glimpse of the chinese micro minority in the social milieu of india  she even dedicates the film to her mother and daughter  not her father   yet her radha reminesces of halcyon days with both her parents in a mustard field  compare her to mrinal sen  adoor gopalakrishnan  muzaffar ali and she is dwarfed by these giants  given her competent canadian production team and financial resources  mehta s film of two bisexual ladies in an indian middle class household may be sacrilege to some  but merely captures the atrophy of middle class homes that does not seem to aspire for something better than its immediate survival in a limited social space  kannada  malayalam  and bengali films have touched parallel themes in india but did not have the publicity that surrounded this film and therefore have not been seen by a wide segment of knowledgeable cinemagoers  br    br   ms das  ms azmi  mr jafri and mr kharbanda are credible but not outstanding  ms azmi is a talented actress who gave superb performances under good directors  mrinal sen s  khandar   gautam ghose s  paar   benegal s  ankur   a brilliance notably absent in this film  ms das sparkled due to her screen presence rather than her acting capability  all in all  the film s strength remains in the structure of the screenplay which is above average in terms of international cinema  i am sure ms mehta can hone her writing talents in her future screenplays '"
      ]
     },
     "execution_count": 66,
     "metadata": {},
     "output_type": "execute_result"
    }
   ],
   "source": [
    "failed_sample2"
   ]
  },
  {
   "cell_type": "markdown",
   "id": "5c48ebbb",
   "metadata": {},
   "source": [
    "### (Bonus) Try finding better hyperparameters (dimensions, number of layers, ...). Document your experiments and results."
   ]
  },
  {
   "cell_type": "code",
   "execution_count": null,
   "id": "64d9891a",
   "metadata": {},
   "outputs": [],
   "source": []
  },
  {
   "cell_type": "markdown",
   "id": "107af133",
   "metadata": {},
   "source": [
    "## Theoritical questions (9 points)"
   ]
  },
  {
   "cell_type": "markdown",
   "id": "40e622ea",
   "metadata": {},
   "source": [
    "### (2 points) Explain with your own words, using a short paragraph for each, what are:"
   ]
  },
  {
   "cell_type": "markdown",
   "id": "73bb60c8",
   "metadata": {},
   "source": [
    "- Phonetics and phonology\n",
    "\n",
    "La phonétique est l'étude des propriétés physiques des sons de la parole, tandis que la phonologie est l'étude de la manière dont les sons sont utilisés dans les langues.\n",
    "\n",
    "- Morphology and syntax\n",
    "\n",
    "La morphologie et la syntaxe sont les deux principales branches de la grammaire. La morphologie est l'étude de la structure des mots, tandis que la syntaxe est l'étude de la structure des phrases.\n",
    "\n",
    "- Semantics and pragmatics\n",
    "\n",
    "La sémantique est l'étude de la signification des mots et des phrases dans une langue, tandis que la pragmatique est l'étude de l'utilisation de la langue dans la communication."
   ]
  },
  {
   "cell_type": "markdown",
   "id": "91dd68a1",
   "metadata": {},
   "source": [
    "### (1 point) What is the difference between stemming and lemmatization?\n",
    "- How do they both work?\n",
    "\n",
    "Le stemming et la lemmatisation sont deux méthodes utilisées pour réduire les mots dérivés à leur forme de base. La principale différence entre ces deux méthodes est que la lemmatisation tient compte du contexte et convertit le mot en sa forme de base significative, alors que le stemming se contente de supprimer les derniers caractères, ce qui conduit souvent à des interprétations inexactes.\n",
    "\n",
    "- What are the pros and cons of both methods?\n",
    "\n",
    "La lemmatisation est une forme plus sophistiquée d'épellation qui peut produire des résultats plus précis. Cependant, elle peut également être plus coûteuse en termes de calcul, ce qui peut la rendre peu pratique. En outre, la lemmatisation peut parfois produire des résultats moins pertinents que ceux obtenus par le stemming."
   ]
  },
  {
   "cell_type": "markdown",
   "id": "67495408",
   "metadata": {},
   "source": [
    "### (1 point) On logistic regression:\n",
    "- How does stochastic gradient descent work?\n",
    "\n",
    "La descente de gradient stochastique fonctionne en faisant des petits pas itératifs dans la direction du gradient de la fonction objectif. \n",
    "\n",
    "- What is the role of the learning rate?\n",
    "\n",
    "Le taux d'apprentissage est l'hyperparamètre qui permet de mettre à l'échelle le gradient pour mieux maîtriser la covergence vers le minimum.\n",
    "- Will it always find the global minimum?\n",
    "\n",
    "La régression logistique ne trouve pas toujours le minimum. Il est possible que l'algorithme reste bloqué dans un minimum local."
   ]
  },
  {
   "cell_type": "markdown",
   "id": "ae1de617",
   "metadata": {},
   "source": [
    "### (1 point) What problems does TF-iDF try to solve?\n",
    "\n",
    "TF-iDF est utilisé pour déterminer la pertinance des mots en introduisant la fréquence des mots pour expliciter leur importance dans le document. \n",
    "\n",
    "- What the is the TF part for?\n",
    "\n",
    "Le \"TF\" de TF-iDF signifie term frequency. Il s'agit du nombre de fois qu'un terme donné apparaît dans un document. \n",
    "\n",
    "- What is the iDF part for?\n",
    "\n",
    "La partie iDF de TF-iDF correspond à inverse document frequency. Il s'agit d'une mesure de l'importance d'un mot dans un document. La fréquence inverse des documents est calculée en prenant le logarithme du nombre de documents divisé par le nombre de documents qui contiennent le mot."
   ]
  },
  {
   "cell_type": "markdown",
   "id": "30d55145",
   "metadata": {},
   "source": [
    "### (2 point) Summarize how the skip-gram method of Word2Vec works using a couple of paragraphs.\n",
    "\n",
    "Skip-gram est une méthode qui essaie de prédire un mot en fonction de son contexte. Le contexte est l'ensemble des mots qui entourent le mot cible. Le modèle de skip-gram essaie ensuite de prédire chaque mot du contexte en fonction d'un mot cible.\n",
    "\n",
    "\n",
    "- How does it uses the fact that two words appearing in similar contexts are likely to have similar meanings?\n",
    "\n",
    "Le modèle skip-gram utilise le fait que deux mots apparaissant dans des contextes similaires sont susceptibles d'avoir des significations semblables en supposant que les mots qui apparaissent dans des contextes similaires ont des significations équivalentes. Le modèle skip-gram utilise cette hypothèse pour apprendre des vecteurs de mots."
   ]
  },
  {
   "cell_type": "markdown",
   "id": "c91806af",
   "metadata": {},
   "source": [
    "### (1 point) What are the differences between an RNN and an LSTM?\n",
    "\n",
    "Un RNN est un réseau neuronal récurrent qui peut être utilisé pour modéliser des données séquentielles. Un LSTM est un réseau à mémoire à long terme, qui est un type de RNN conçu pour apprendre les dépendances à long terme.\n",
    "\n",
    "- What problem is an LSTM trying to solve compared to a basic RNN?\n",
    "\n",
    "Les LSTM sont conçus pour résoudre le problème du vanishing gradient, qui se produit lors de l'entraînement des RNN sur de longues séquences de données."
   ]
  },
  {
   "cell_type": "markdown",
   "id": "3e28993a",
   "metadata": {},
   "source": [
    "### (1 point) What would you expect if we use one of our classifiers trained on IMDB on Twitter data, and why?\n",
    "\n",
    "On s'attend à ce que ça ne fonctionne pas correctement parce que le language utilisé sur Twitter diffère de celui utilisé par les utilisateur d'imdb. En outre, les messages sont en moyenne beaucoup plus courts. De manière générale, les données d'entraînement d'imdb sont très différentes de celles de Twitter."
   ]
  }
 ],
 "metadata": {
  "kernelspec": {
   "display_name": "Python 3 (ipykernel)",
   "language": "python",
   "name": "python3"
  },
  "language_info": {
   "codemirror_mode": {
    "name": "ipython",
    "version": 3
   },
   "file_extension": ".py",
   "mimetype": "text/x-python",
   "name": "python",
   "nbconvert_exporter": "python",
   "pygments_lexer": "ipython3",
   "version": "3.10.7"
  }
 },
 "nbformat": 4,
 "nbformat_minor": 5
}
